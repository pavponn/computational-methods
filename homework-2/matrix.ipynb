{
 "cells": [
  {
   "cell_type": "markdown",
   "metadata": {},
   "source": [
    "# Подготовка"
   ]
  },
  {
   "cell_type": "markdown",
   "metadata": {},
   "source": [
    "Сначала напишем функции для более-менее приемлемого отображения матриц. Также создадим матрицу по-меньше как пример, на котором можно будет тестировать дальнейшие функции."
   ]
  },
  {
   "cell_type": "code",
   "execution_count": 1,
   "metadata": {
    "pycharm": {
     "is_executing": false
    }
   },
   "outputs": [
    {
     "name": "stdout",
     "output_type": "stream",
     "text": [
      "(  100.000  9.000  5.000  10.000 )\n",
      "(  1.000  100.000  10.000  4.000 )\n",
      "(  5.000  1.000  100.000  7.000 )\n",
      "(  7.000  3.000  2.000  100.000 )\n",
      "[8, 1, 9, 4]\n"
     ]
    }
   ],
   "source": [
    "from copy import copy, deepcopy\n",
    "import random as random\n",
    "\n",
    "def print_matrix(matrix):\n",
    "    n = len(matrix)\n",
    "    m = len(matrix[0])\n",
    "    for i in range(n):\n",
    "        print(\"( \", end =\"\")\n",
    "        for j in range(m):\n",
    "            print(\"\" if matrix[i][j] < 0 else \" \", \"%.3f\" % matrix[i][j], sep = \"\", end = \" \")\n",
    "        print(\")\")\n",
    "        \n",
    "def print_list(list):\n",
    "    for i in range(len(list)):\n",
    "        print(list[i])\n",
    "        \n",
    "def print_dict(dict):\n",
    "    for item in dict.items():\n",
    "        print(item[0] + \":\")\n",
    "        print(item[1])\n",
    "\n",
    "example_matrix = [[100, 9, 5, 10], [1, 100, 10, 4], [5, 1, 100, 7], [7, 3, 2, 100]]\n",
    "example_b = [8, 1, 9, 4]\n",
    "\n",
    "print_matrix(example_matrix)\n",
    "print(example_b)"
   ]
  },
  {
   "cell_type": "markdown",
   "metadata": {},
   "source": [
    "Также заранее подготовим некоторые математические операции с матрицами и векторами"
   ]
  },
  {
   "cell_type": "code",
   "execution_count": 2,
   "metadata": {},
   "outputs": [],
   "source": [
    "import math\n",
    "\n",
    "def matrix_transpose(a):\n",
    "    n = len(a)\n",
    "    m = len(a[0])\n",
    "    result = [[a[j][i] for j in range(m)] for i in range(n)]\n",
    "    return result\n",
    "    \n",
    "def matrix_matrix_mul(a, b):\n",
    "    n = len(a)\n",
    "    m = len(b)\n",
    "    r = len(b[0])\n",
    "    result = [[0 for j in range(r)] for i in range(n)]\n",
    "    for i in range(n):\n",
    "        for j in range(r):\n",
    "            for k in range(m):\n",
    "                result[i][j] += a[i][k] * b[k][j]\n",
    "    return result\n",
    "\n",
    "def matrix_vector_mul(a, b):\n",
    "    n = len(a)\n",
    "    m = len(b)\n",
    "    result = [0 for i in range(n)]\n",
    "    for i in range(n):\n",
    "        for j in range(m):\n",
    "            result[i] += a[i][j] * b[j]\n",
    "    return result\n",
    "\n",
    "def vector_norm(x):\n",
    "    max = 0\n",
    "    for i in range(len(x)):\n",
    "        if (abs(x[i]) > max):\n",
    "            max = abs(x[i])\n",
    "    return max\n",
    "\n",
    "def matrix_norm(a):\n",
    "    max_row_sum = 0\n",
    "    n = len(a)\n",
    "    for i in range(n):\n",
    "        row_sum = 0\n",
    "        for j in range(n):\n",
    "            row_sum += abs(a[i][j])\n",
    "        if row_sum > max_row_sum:\n",
    "            max_row_sum = row_sum\n",
    "    return max_row_sum\n",
    "\n",
    "def matrix_norm_2(a):\n",
    "    sum = 0\n",
    "    n = len(a)\n",
    "    for i in range(n):\n",
    "        for j in range(n):\n",
    "            sum += a[i][j] * a[i][j]\n",
    "    return math.sqrt(sum)"
   ]
  },
  {
   "cell_type": "markdown",
   "metadata": {},
   "source": [
    "# Генерация матриц"
   ]
  },
  {
   "cell_type": "markdown",
   "metadata": {},
   "source": [
    "Для начала зафиксируем размерность наших матриц `dim=10`, требуемую точность `eps=1e-12` и число `seed=30` для фиксированного рандома."
   ]
  },
  {
   "cell_type": "code",
   "execution_count": 3,
   "metadata": {},
   "outputs": [],
   "source": [
    "dim = 10\n",
    "eps = 1e-12\n",
    "seed = 30"
   ]
  },
  {
   "cell_type": "markdown",
   "metadata": {},
   "source": [
    "Следующим нашим пунктом будет генерация нашей системы `Ax=b`. Сгенерируем три возможные варианта матрицы `A` и один вариант вектора `b` (будем использовать его для всех трёх систем)."
   ]
  },
  {
   "cell_type": "markdown",
   "metadata": {},
   "source": [
    "## Рандомная матрица"
   ]
  },
  {
   "cell_type": "code",
   "execution_count": 4,
   "metadata": {
    "pycharm": {
     "is_executing": false
    },
    "scrolled": true
   },
   "outputs": [
    {
     "name": "stdout",
     "output_type": "stream",
     "text": [
      "[[0.5390815646058106, 0.2891964436397205, 0.03003690855112706, 0.6536357538927619, 0.21000869554973112, 0.2572769749796092, 0.39719826263322744, 0.6415781537746728, 0.9888112104037214, 0.46153301006262504], [0.9934850076016687, 0.9925719941586278, 0.24267553557344324, 0.07264511287134134, 0.159901022229618, 0.8419027314789557, 0.5995547289462685, 0.9174626648558603, 0.9721691074362717, 0.6544238205879963], [0.535204782203361, 0.06763103158333483, 0.023510063056781383, 0.8052942869277137, 0.6719697138652216, 0.7630117418529349, 0.5656524680218609, 0.6738937592389419, 0.6387228188088844, 0.8951756504920998], [0.11175001869696033, 0.4944504196475903, 0.3091940516929721, 0.8293449231134561, 0.8770769857743711, 0.2520301677807951, 0.08034248008085865, 0.24322362765210415, 0.3146150046477004, 0.7696350293512965], [0.4097262018650909, 0.7498996220960007, 0.3009546934000451, 0.5237424868573443, 0.1863686850072741, 0.6453843066933992, 0.5131048742775967, 0.8626622159555697, 0.9484628314692618, 0.52001843853036], [0.06825558856301317, 0.9372711603051246, 0.9448438294434723, 0.47425380258343686, 0.48565057859968896, 0.9325350782189821, 0.25366875216809737, 0.25559876780480617, 0.695229648631561, 0.6749778328089562], [0.6860594912262413, 0.8280112086753739, 0.5124187639714969, 0.4201436837421503, 0.22550704281585587, 0.2133352121483031, 0.36985330980131836, 0.4317376457041878, 0.7396446080124247, 0.6200307331937885], [0.5107344609362293, 0.38015862302086945, 0.625446818167104, 0.3822791896865655, 0.7973043234057774, 0.6438120590981726, 0.6947183346104615, 0.3732221224183939, 0.517897204597691, 0.7212432932753541], [0.9566709942813114, 0.5287713180122423, 0.32078535870060976, 0.6892762868762891, 0.11953849920893256, 0.33461118908421006, 0.032699827712442286, 0.5527993211169583, 0.2538340154806886, 0.39175879005680825], [0.787527433207309, 0.6354021469629932, 0.036971134719629206, 0.4427478660500923, 0.006706864715950056, 0.8231933906304401, 0.4964878902723078, 0.850410717524061, 0.2646455052350545, 0.8230679297199405]]\n"
     ]
    }
   ],
   "source": [
    "random.seed(seed)\n",
    "random_matrix = [[random.random() for j in range(dim)] for i in range(dim)]\n",
    "print(random_matrix)"
   ]
  },
  {
   "cell_type": "code",
   "execution_count": 5,
   "metadata": {},
   "outputs": [
    {
     "name": "stdout",
     "output_type": "stream",
     "text": [
      "(  0.539  0.289  0.030  0.654  0.210  0.257  0.397  0.642  0.989  0.462 )\n",
      "(  0.993  0.993  0.243  0.073  0.160  0.842  0.600  0.917  0.972  0.654 )\n",
      "(  0.535  0.068  0.024  0.805  0.672  0.763  0.566  0.674  0.639  0.895 )\n",
      "(  0.112  0.494  0.309  0.829  0.877  0.252  0.080  0.243  0.315  0.770 )\n",
      "(  0.410  0.750  0.301  0.524  0.186  0.645  0.513  0.863  0.948  0.520 )\n",
      "(  0.068  0.937  0.945  0.474  0.486  0.933  0.254  0.256  0.695  0.675 )\n",
      "(  0.686  0.828  0.512  0.420  0.226  0.213  0.370  0.432  0.740  0.620 )\n",
      "(  0.511  0.380  0.625  0.382  0.797  0.644  0.695  0.373  0.518  0.721 )\n",
      "(  0.957  0.529  0.321  0.689  0.120  0.335  0.033  0.553  0.254  0.392 )\n",
      "(  0.788  0.635  0.037  0.443  0.007  0.823  0.496  0.850  0.265  0.823 )\n"
     ]
    }
   ],
   "source": [
    "print_matrix(random_matrix)"
   ]
  },
  {
   "cell_type": "markdown",
   "metadata": {},
   "source": [
    "## Матрица с диагональным преобладанием"
   ]
  },
  {
   "cell_type": "code",
   "execution_count": 6,
   "metadata": {
    "pycharm": {
     "is_executing": false
    }
   },
   "outputs": [
    {
     "name": "stdout",
     "output_type": "stream",
     "text": [
      "[[-0.7307665050313126, -0.06727043275509864, 0.03608798963308084, 0.0037482191370004437, 0.08156531945351057, -0.026206379070474142, -0.03210485125280882, -0.04956522495153145, -0.08006068633083109, -0.12339089741566403], [-0.056398009978202955, 0.5558750093484801, 0.00712672180986563, -0.002477408302306105, -0.08485909831104985, 0.07080982062903354, 0.08040351144350744, 0.059606480727540295, 0.0710125698080279, -0.06730637899046629], [-0.03985426241466491, 0.07294309269855469, -0.9686355801525623, 0.02927400608282247, 0.05094468065236083, -0.018128170579145883, 0.06277683828903496, 0.04990995502024615, -0.08391156380384487, -0.09225743045932518], [-0.0774908839181656, -0.09352442648919537, 0.05787804623974038, 0.812723409083552, -0.047455513468112706, -0.025471173128642943, -0.024096356615799362, 0.04177518169063858, -0.048765059319517017, -0.08354335913018793], [0.12624364271166627, -0.0697774028337324, -0.04233128468722572, 0.0909578630586627, 0.7213739330250462, -0.015774467580422682, 0.04415576060587795, -0.00431511500938087, 0.07294817173668777, -0.033496291776343674], [0.015508725345279339, 0.0970673631802037, -0.043607953183234995, 0.00819732522489352, -0.1024056477120572, -0.8801378134597915, -0.09363287714526726, -0.021667191276427508, 0.06461854288937587, 0.05329437404326057], [0.06612677505861465, -0.014910220272742084, 0.072266843093149, 0.1126470089530893, 0.08483343215801949, -0.026209320046406505, -0.5106609012604857, -0.03586071211881681, -0.07152547314639009, -0.01562021515277196], [0.09144983184814166, -0.06539867542277361, 0.03842959539065677, -0.0755483095775191, 0.01891469232038211, 0.028873961735785894, 0.08846195284531212, -0.6439270936892959, 0.07553513098882345, 0.01738784987060534], [-0.0970553528709831, 0.09893118580652172, 0.09160140597826845, -0.01425777998639768, 0.0322478761643892, -0.011631434868439925, -0.0882682187568591, 0.05498933976122295, -0.7405365654209842, 0.011017405806917945], [0.08679558564609313, -0.039148406959392715, 0.05734951791921267, 0.035864997838317064, -0.08805288111226524, 0.05401031114262399, -0.05044432016266958, -0.007027010885045078, 0.0813069683343805, 0.7667853420274523]]\n"
     ]
    }
   ],
   "source": [
    "random.seed(seed)\n",
    "def random_sign():\n",
    "    return 1 if random.random() < 0.5 else -1\n",
    "def random_with_major(dim):\n",
    "    l = [random.random() for i in range(dim)]\n",
    "    s = sum(l)\n",
    "    l = [l[i]/(2 * s) for i in range(dim)]\n",
    "    return l\n",
    "\n",
    "diagonal_matrix = [[0 for j in range(dim)] for i in range(dim)]\n",
    "for i in range(dim):\n",
    "    l = random_with_major(dim - 1)\n",
    "    for j in range(dim):\n",
    "        if j < i:\n",
    "            diagonal_matrix[i][j] = l[j]\n",
    "        elif j > i:\n",
    "            diagonal_matrix[i][j] = l[j - 1]\n",
    "        else:\n",
    "            diagonal_matrix[i][j] = random.uniform(0.5, 1)\n",
    "        diagonal_matrix[i][j] *= random_sign()\n",
    "print(diagonal_matrix)"
   ]
  },
  {
   "cell_type": "code",
   "execution_count": 7,
   "metadata": {},
   "outputs": [
    {
     "name": "stdout",
     "output_type": "stream",
     "text": [
      "( -0.731 -0.067  0.036  0.004  0.082 -0.026 -0.032 -0.050 -0.080 -0.123 )\n",
      "( -0.056  0.556  0.007 -0.002 -0.085  0.071  0.080  0.060  0.071 -0.067 )\n",
      "( -0.040  0.073 -0.969  0.029  0.051 -0.018  0.063  0.050 -0.084 -0.092 )\n",
      "( -0.077 -0.094  0.058  0.813 -0.047 -0.025 -0.024  0.042 -0.049 -0.084 )\n",
      "(  0.126 -0.070 -0.042  0.091  0.721 -0.016  0.044 -0.004  0.073 -0.033 )\n",
      "(  0.016  0.097 -0.044  0.008 -0.102 -0.880 -0.094 -0.022  0.065  0.053 )\n",
      "(  0.066 -0.015  0.072  0.113  0.085 -0.026 -0.511 -0.036 -0.072 -0.016 )\n",
      "(  0.091 -0.065  0.038 -0.076  0.019  0.029  0.088 -0.644  0.076  0.017 )\n",
      "( -0.097  0.099  0.092 -0.014  0.032 -0.012 -0.088  0.055 -0.741  0.011 )\n",
      "(  0.087 -0.039  0.057  0.036 -0.088  0.054 -0.050 -0.007  0.081  0.767 )\n"
     ]
    }
   ],
   "source": [
    "print_matrix(diagonal_matrix)"
   ]
  },
  {
   "cell_type": "markdown",
   "metadata": {},
   "source": [
    "## Матрица Гильберта"
   ]
  },
  {
   "cell_type": "code",
   "execution_count": 8,
   "metadata": {},
   "outputs": [
    {
     "name": "stdout",
     "output_type": "stream",
     "text": [
      "[[1.0, 0.5, 0.3333333333333333, 0.25, 0.2, 0.16666666666666666, 0.14285714285714285, 0.125, 0.1111111111111111, 0.1], [0.5, 0.3333333333333333, 0.25, 0.2, 0.16666666666666666, 0.14285714285714285, 0.125, 0.1111111111111111, 0.1, 0.09090909090909091], [0.3333333333333333, 0.25, 0.2, 0.16666666666666666, 0.14285714285714285, 0.125, 0.1111111111111111, 0.1, 0.09090909090909091, 0.08333333333333333], [0.25, 0.2, 0.16666666666666666, 0.14285714285714285, 0.125, 0.1111111111111111, 0.1, 0.09090909090909091, 0.08333333333333333, 0.07692307692307693], [0.2, 0.16666666666666666, 0.14285714285714285, 0.125, 0.1111111111111111, 0.1, 0.09090909090909091, 0.08333333333333333, 0.07692307692307693, 0.07142857142857142], [0.16666666666666666, 0.14285714285714285, 0.125, 0.1111111111111111, 0.1, 0.09090909090909091, 0.08333333333333333, 0.07692307692307693, 0.07142857142857142, 0.06666666666666667], [0.14285714285714285, 0.125, 0.1111111111111111, 0.1, 0.09090909090909091, 0.08333333333333333, 0.07692307692307693, 0.07142857142857142, 0.06666666666666667, 0.0625], [0.125, 0.1111111111111111, 0.1, 0.09090909090909091, 0.08333333333333333, 0.07692307692307693, 0.07142857142857142, 0.06666666666666667, 0.0625, 0.058823529411764705], [0.1111111111111111, 0.1, 0.09090909090909091, 0.08333333333333333, 0.07692307692307693, 0.07142857142857142, 0.06666666666666667, 0.0625, 0.058823529411764705, 0.05555555555555555], [0.1, 0.09090909090909091, 0.08333333333333333, 0.07692307692307693, 0.07142857142857142, 0.06666666666666667, 0.0625, 0.058823529411764705, 0.05555555555555555, 0.05263157894736842]]\n"
     ]
    }
   ],
   "source": [
    "hilbert_matrix = [[1/(1 + i + j) for j in range(dim)] for i in range(dim)]\n",
    "print(hilbert_matrix)"
   ]
  },
  {
   "cell_type": "code",
   "execution_count": 9,
   "metadata": {
    "pycharm": {
     "is_executing": false
    },
    "scrolled": false
   },
   "outputs": [
    {
     "name": "stdout",
     "output_type": "stream",
     "text": [
      "(  1.000  0.500  0.333  0.250  0.200  0.167  0.143  0.125  0.111  0.100 )\n",
      "(  0.500  0.333  0.250  0.200  0.167  0.143  0.125  0.111  0.100  0.091 )\n",
      "(  0.333  0.250  0.200  0.167  0.143  0.125  0.111  0.100  0.091  0.083 )\n",
      "(  0.250  0.200  0.167  0.143  0.125  0.111  0.100  0.091  0.083  0.077 )\n",
      "(  0.200  0.167  0.143  0.125  0.111  0.100  0.091  0.083  0.077  0.071 )\n",
      "(  0.167  0.143  0.125  0.111  0.100  0.091  0.083  0.077  0.071  0.067 )\n",
      "(  0.143  0.125  0.111  0.100  0.091  0.083  0.077  0.071  0.067  0.062 )\n",
      "(  0.125  0.111  0.100  0.091  0.083  0.077  0.071  0.067  0.062  0.059 )\n",
      "(  0.111  0.100  0.091  0.083  0.077  0.071  0.067  0.062  0.059  0.056 )\n",
      "(  0.100  0.091  0.083  0.077  0.071  0.067  0.062  0.059  0.056  0.053 )\n"
     ]
    }
   ],
   "source": [
    "print_matrix(hilbert_matrix)"
   ]
  },
  {
   "cell_type": "markdown",
   "metadata": {},
   "source": [
    "## Вектор b (будем использовать его для каждой матрицы)"
   ]
  },
  {
   "cell_type": "code",
   "execution_count": 10,
   "metadata": {
    "pycharm": {
     "is_executing": false
    }
   },
   "outputs": [
    {
     "name": "stdout",
     "output_type": "stream",
     "text": [
      "[0.5390815646058106, 0.2891964436397205, 0.03003690855112706, 0.6536357538927619, 0.21000869554973112, 0.2572769749796092, 0.39719826263322744, 0.6415781537746728, 0.9888112104037214, 0.46153301006262504]\n"
     ]
    }
   ],
   "source": [
    "random.seed(seed)\n",
    "b = [random.random() for i in range(dim)]\n",
    "print(b)"
   ]
  },
  {
   "cell_type": "markdown",
   "metadata": {},
   "source": [
    "## Коллекционирование результатов"
   ]
  },
  {
   "cell_type": "code",
   "execution_count": 11,
   "metadata": {},
   "outputs": [],
   "source": [
    "random_matrix_answers = dict()\n",
    "diagonal_matrix_answers = dict()\n",
    "hilbert_matrix_answers = dict()"
   ]
  },
  {
   "cell_type": "markdown",
   "metadata": {},
   "source": [
    "# Часть 1. Метод Гаусса"
   ]
  },
  {
   "cell_type": "markdown",
   "metadata": {},
   "source": [
    "## Реализация метода"
   ]
  },
  {
   "cell_type": "markdown",
   "metadata": {},
   "source": [
    "Для сравнения точности результатов рассмотрим классический метод Гаусса, с выбором ведущего элемента в столбце и с выбором ведущего элемента по всей матрице. Поскольку метод не опирается на сходимость, а использует лишь линейные операции, то все три метода приведут нас к какому-нибудь приближению решения."
   ]
  },
  {
   "cell_type": "code",
   "execution_count": 12,
   "metadata": {
    "pycharm": {
     "is_executing": false
    },
    "scrolled": false
   },
   "outputs": [
    {
     "name": "stdout",
     "output_type": "stream",
     "text": [
      "[0.07251321000661325, -0.0004605033005403869, 0.08405096355375125, 0.03325687112747826]\n",
      "[0.07251321000661325, -0.0004605033005403869, 0.08405096355375125, 0.03325687112747826]\n",
      "[0.07251321000661325, -0.0004605033005403869, 0.08405096355375125, 0.03325687112747826]\n"
     ]
    }
   ],
   "source": [
    "def gauss_iteration(a, b, k):\n",
    "    n = len(a)\n",
    "    f = [a[k][j] for j in range(n)]\n",
    "    s = b[k]\n",
    "    mu = [0 for i in range(n)]\n",
    "    for i in range(k + 1, n):\n",
    "        mu[i] = a[i][k] / a[k][k]\n",
    "    for i in range(k + 1, n):\n",
    "        for j in range(k, n):\n",
    "            a[i][j] -= mu[i] * f[j]\n",
    "        b[i] -= mu[i] * s\n",
    "        \n",
    "def gauss_solving(a, b):\n",
    "    n = len(a)\n",
    "    x = [0 for i in range(n)]\n",
    "    for i in range(n):\n",
    "        sum = 0\n",
    "        for j in range(n - i, n):\n",
    "            sum += a[n - i - 1][j] * x[j]\n",
    "        x[n - i - 1] = (b[n - i - 1] - sum) / a[n - i - 1][n - i - 1]\n",
    "    return x\n",
    "    \n",
    "\n",
    "def gauss(a, b):\n",
    "    n = len(a)\n",
    "    for k in range(n - 1):\n",
    "        gauss_iteration(a, b, k)\n",
    "    x = gauss_solving(a, b)\n",
    "    return x\n",
    "    \n",
    "def gauss_with_column_optimization(a, b):\n",
    "    n = len(a)\n",
    "    for k in range(n - 1):\n",
    "        max_value = -1\n",
    "        max_row_index = k\n",
    "        for i in range(k, n):\n",
    "            if abs(a[i][k]) > max_value:\n",
    "                max_value = abs(a[i][k])\n",
    "                max_row_index = i\n",
    "        a[k], a[max_row_index] = a[max_row_index], a[k]\n",
    "        b[k], b[max_row_index] = b[max_row_index], b[k]\n",
    "            \n",
    "        gauss_iteration(a, b, k)\n",
    "    x = gauss_solving(a, b)\n",
    "    return x\n",
    "    \n",
    "def gauss_with_full_optimization(a, b):\n",
    "    n = len(a)\n",
    "    s = [i for i in range(n)]\n",
    "    for k in range(n - 1):\n",
    "        max_value = -1\n",
    "        max_row_index = k\n",
    "        max_column_index = k\n",
    "        for i in range(k, n):\n",
    "            for j in range(k, n):\n",
    "                if abs(a[i][j]) > max_value:\n",
    "                    max_value = abs(a[i][j])\n",
    "                    max_row_index = i\n",
    "                    max_column_index = j\n",
    "        a[k], a[max_row_index] = a[max_row_index], a[k]\n",
    "        b[k], b[max_row_index] = b[max_row_index], b[k]\n",
    "        s[k], s[max_column_index] = s[max_column_index], s[k]\n",
    "        for i in range(n):\n",
    "            a[i][k], a[i][max_column_index] = a[i][max_column_index], a[i][k]\n",
    "            \n",
    "        gauss_iteration(a, b, k)\n",
    "    x = gauss_solving(a, b)\n",
    "    tmp  = [x[i] for i in range(n)]\n",
    "    for i in range(n):\n",
    "        x[s[i]] = tmp[i]\n",
    "    return x\n",
    "    \n",
    "def run_gauss(a, b, answers = dict()):\n",
    "    g1 = gauss(deepcopy(a), deepcopy(b))\n",
    "    answers[\"gauss\"] = g1\n",
    "    print(g1)\n",
    "    \n",
    "    g2 = gauss_with_column_optimization(deepcopy(a), deepcopy(b))\n",
    "    answers[\"gauss_with_column_optimization\"] = g2\n",
    "    print(g2)\n",
    "    \n",
    "    g3 = gauss_with_full_optimization(deepcopy(a), deepcopy(b))\n",
    "    answers[\"gauss_with_full_optimization\"] = g3\n",
    "    print(g3)\n",
    "\n",
    "run_gauss(example_matrix, example_b)"
   ]
  },
  {
   "cell_type": "markdown",
   "metadata": {},
   "source": [
    "## Вычисления для сгенерированных матриц"
   ]
  },
  {
   "cell_type": "code",
   "execution_count": 13,
   "metadata": {
    "pycharm": {
     "is_executing": false
    },
    "scrolled": false
   },
   "outputs": [
    {
     "name": "stdout",
     "output_type": "stream",
     "text": [
      "[3.3654277594220465, 10.980756075169433, -11.053567260723272, 10.504049960145258, 1.416614769458203, 5.419133933272693, 12.87967925303474, -15.823807746697645, -1.873611035431915, -12.539104841018592]\n",
      "[3.3654277594220305, 10.98075607516942, -11.053567260723286, 10.504049960145236, 1.4166147694581923, 5.419133933272677, 12.87967925303471, -15.82380774669762, -1.8736110354319073, -12.539104841018545]\n",
      "[3.3654277594220448, 10.980756075169463, -11.053567260723332, 10.504049960145275, 1.4166147694582014, 5.419133933272702, 12.879679253034759, -15.823807746697685, -1.8736110354319122, -12.5391048410186]\n"
     ]
    }
   ],
   "source": [
    "run_gauss(random_matrix, b, random_matrix_answers)"
   ]
  },
  {
   "cell_type": "code",
   "execution_count": 14,
   "metadata": {
    "pycharm": {
     "is_executing": false
    },
    "scrolled": false
   },
   "outputs": [
    {
     "name": "stdout",
     "output_type": "stream",
     "text": [
      "[-0.6579984341032276, 1.021393913949036, 0.05791318134497171, 0.9629400706963428, 0.5498183468691803, -0.21147674749937945, -0.33229671860103854, -1.4544369234949168, -1.1525178943920598, 0.8442168444015744]\n",
      "[-0.6579984341032276, 1.021393913949036, 0.05791318134497171, 0.9629400706963428, 0.5498183468691803, -0.21147674749937945, -0.33229671860103854, -1.4544369234949168, -1.1525178943920598, 0.8442168444015744]\n",
      "[-0.6579984341032273, 1.0213939139490358, 0.05791318134497173, 0.9629400706963429, 0.5498183468691805, -0.21147674749937956, -0.3322967186010383, -1.4544369234949166, -1.15251789439206, 0.8442168444015744]\n"
     ]
    }
   ],
   "source": [
    "run_gauss(diagonal_matrix, b, diagonal_matrix_answers)"
   ]
  },
  {
   "cell_type": "code",
   "execution_count": 15,
   "metadata": {
    "pycharm": {
     "is_executing": false
    }
   },
   "outputs": [
    {
     "name": "stdout",
     "output_type": "stream",
     "text": [
      "[618162.4297733218, -58693906.93944507, 1335686894.848783, -12760607941.582708, 63278323924.11634, -179500822587.6829, 302252284953.04663, -298547715701.79395, 159690872954.2671, -35690729241.4723]\n",
      "[618192.5818247707, -58696544.17338389, 1335743573.0921884, -12761126739.157534, 63280811790.64066, -179507691197.0002, 302263593948.5897, -298558676531.06396, 159696641492.73138, -35692000499.73094]\n",
      "[618193.2590446384, -58696599.85349329, 1335744732.8637166, -12761137203.239378, 63280861728.495094, -179507829156.4871, 302263821957.1318, -298558898750.2293, 159696759205.35406, -35692026621.36878]\n"
     ]
    }
   ],
   "source": [
    "run_gauss(hilbert_matrix, b, hilbert_matrix_answers)"
   ]
  },
  {
   "cell_type": "markdown",
   "metadata": {},
   "source": [
    "# Часть 2. Метод простых итераций Якоби"
   ]
  },
  {
   "cell_type": "markdown",
   "metadata": {},
   "source": [
    "## Реализация метода"
   ]
  },
  {
   "cell_type": "markdown",
   "metadata": {},
   "source": [
    "Сначала необходимо разобраться со сходимостью и условием остановки. Учтём, что не все матрицы могут удовлетворять необходимым условиям сходимости, поэтому введём ограничение на количество итераций `r=1000`."
   ]
  },
  {
   "cell_type": "code",
   "execution_count": 16,
   "metadata": {},
   "outputs": [],
   "source": [
    "jacobi_r = 1000"
   ]
  },
  {
   "cell_type": "markdown",
   "metadata": {},
   "source": [
    "Теперь можно реализовать наш метод. В качестве способа выбора матрицы `B` и вектора `c` (здесь и далее они будут именоваться как `C` и `d` ввиду коллизии с вектором `b`) мы возьмём способ Якоби (как на лекции). Также напишем функцию, определяющую, удовлетворяет ли матрица `C` достаточному условию сходимости: `||C||<1`."
   ]
  },
  {
   "cell_type": "code",
   "execution_count": 17,
   "metadata": {
    "pycharm": {
     "is_executing": false
    },
    "scrolled": false
   },
   "outputs": [
    {
     "name": "stdout",
     "output_type": "stream",
     "text": [
      "[0.0725132100088294, -0.0004605032991026655, 0.08405096355519985, 0.03325687112892988], 14 iterations\n"
     ]
    }
   ],
   "source": [
    "def jacobi_sufficient_condition(c):\n",
    "    return True if matrix_norm(c) < 1 else False\n",
    "\n",
    "def jacobi_iteration(x, c, d):\n",
    "    n = len(c)\n",
    "    x_new = matrix_vector_mul(c, x)\n",
    "    x_new = [x_new[i] + d[i] for i in range(n)]\n",
    "    return x_new\n",
    "\n",
    "def jacobi(a, b):\n",
    "    n = len(a)\n",
    "    c = [[(0 if i == j else - a[i][j] / a[i][i]) for j in range(n)] for i in range(n)]\n",
    "    d = [b[i] / a[i][i] for i in range(n)]\n",
    "    x = [0 for i in range(n)]\n",
    "    \n",
    "    if not jacobi_sufficient_condition(c):\n",
    "        print(\"Warning: Достаточное условие сходимости не выполняется\")\n",
    "    f = (1 - matrix_norm(c)) / matrix_norm(c)\n",
    "    \n",
    "    last_iter = 0\n",
    "    for k in range(jacobi_r):\n",
    "        last_iter = k\n",
    "        x_new = jacobi_iteration(x, c, d)\n",
    "        x_delta = [x_new[i] - x[i] for i in range(n)]\n",
    "        if (vector_norm(x_delta) < f * eps):\n",
    "            break\n",
    "        x = x_new\n",
    "    return x, last_iter\n",
    "    \n",
    "def run_jacobi(a, b, answers = dict()):\n",
    "    x, last_iter = jacobi(deepcopy(a), deepcopy(b))\n",
    "    answers[\"jacobi\"] = x\n",
    "    print(x, end = \"\")\n",
    "    print(\", \" + str(last_iter + 1) + \" iterations\")\n",
    "    \n",
    "run_jacobi(example_matrix, example_b)"
   ]
  },
  {
   "cell_type": "markdown",
   "metadata": {},
   "source": [
    "## Вычисления для сгенерированных матриц"
   ]
  },
  {
   "cell_type": "code",
   "execution_count": 18,
   "metadata": {
    "pycharm": {
     "is_executing": false
    }
   },
   "outputs": [
    {
     "name": "stdout",
     "output_type": "stream",
     "text": [
      "Warning: Достаточное условие сходимости не выполняется\n",
      "[nan, nan, nan, nan, nan, nan, nan, nan, nan, nan], 1000 iterations\n"
     ]
    }
   ],
   "source": [
    "run_jacobi(random_matrix, b, random_matrix_answers)"
   ]
  },
  {
   "cell_type": "code",
   "execution_count": 19,
   "metadata": {
    "pycharm": {
     "is_executing": false
    }
   },
   "outputs": [
    {
     "name": "stdout",
     "output_type": "stream",
     "text": [
      "[-0.6579984341032443, 1.0213939139490136, 0.057913181344975556, 0.9629400706963587, 0.549818346869174, -0.21147674749937262, -0.3322967186010269, -1.4544369234949268, -1.152517894392046, 0.8442168444015703], 22 iterations\n"
     ]
    }
   ],
   "source": [
    "run_jacobi(diagonal_matrix, b, diagonal_matrix_answers)"
   ]
  },
  {
   "cell_type": "code",
   "execution_count": 20,
   "metadata": {
    "pycharm": {
     "is_executing": false
    }
   },
   "outputs": [
    {
     "name": "stdout",
     "output_type": "stream",
     "text": [
      "Warning: Достаточное условие сходимости не выполняется\n",
      "[nan, nan, nan, nan, nan, nan, nan, nan, nan, nan], 1000 iterations\n"
     ]
    }
   ],
   "source": [
    "run_jacobi(hilbert_matrix, b, hilbert_matrix_answers)"
   ]
  },
  {
   "cell_type": "markdown",
   "metadata": {},
   "source": [
    "## Анализ"
   ]
  },
  {
   "cell_type": "markdown",
   "metadata": {},
   "source": [
    "Условие сходимости матрицы `C` выполняется лишь для матрицы с диагональным преобладанием. При подсчёте ответа методом простых итераций Якоби для рандомной матрицы и матрицы Гильберта видно, что значения расходятся и устремляются в бесконечность."
   ]
  },
  {
   "cell_type": "markdown",
   "metadata": {
    "pycharm": {
     "name": "#%% md\n"
    }
   },
   "source": [
    "# Часть 3. Метод Зейделя"
   ]
  },
  {
   "cell_type": "markdown",
   "metadata": {},
   "source": [
    "## Реализация метода"
   ]
  },
  {
   "cell_type": "markdown",
   "metadata": {},
   "source": [
    "Аналогично методу простых итераций Якоби введём ограничение на количество итераций `r=10000` (на порядок выше)."
   ]
  },
  {
   "cell_type": "code",
   "execution_count": 21,
   "metadata": {},
   "outputs": [],
   "source": [
    "seidel_r = 10000"
   ]
  },
  {
   "cell_type": "markdown",
   "metadata": {},
   "source": [
    "В качестве способа выбора матрицы `C` и вектора `d` снова возьмём способ Якоби. Аналогично напишем функцию, определяющую, удовлетворяют ли `C1` и `C2` достаточному условию сходимости: `||C1||+||C2||<1`, однако помним, что здесь используется уже другая норма."
   ]
  },
  {
   "cell_type": "code",
   "execution_count": 22,
   "metadata": {
    "pycharm": {
     "is_executing": false,
     "name": "#%%\n"
    }
   },
   "outputs": [
    {
     "name": "stdout",
     "output_type": "stream",
     "text": [
      "[0.0725132100085515, -0.00046050329907799665, 0.0840509635538906, 0.03325687112729592], 9 iterations\n"
     ]
    }
   ],
   "source": [
    "def seidel_sufficient_condition(c1, c2):\n",
    "    return True if matrix_norm_2(c1) + matrix_norm_2(c2) < 1 else False\n",
    "\n",
    "def seidel_iteration(x, c1, c2, d):\n",
    "    n = len(x)\n",
    "    x_new = matrix_vector_mul(c2, x)\n",
    "    x_new = [x_new[i] + d[i] for i in range(n)]\n",
    "    for i in range(n):\n",
    "        for j in range(n):\n",
    "            x_new[i] += c1[i][j] * x_new[j]\n",
    "    return x_new\n",
    "\n",
    "def seidel(a, b):\n",
    "    n = len(a)\n",
    "    c = [[(0 if i == j else - a[i][j] / a[i][i]) for j in range(n)] for i in range(n)]\n",
    "    c1 = [[c[i][j] if i > j else 0 for j in range(n)] for i in range(n)]\n",
    "    c2 = [[c[i][j] if i < j else 0 for j in range(n)] for i in range(n)]\n",
    "    d = [b[i] / a[i][i] for i in range(n)]\n",
    "    x = [0 for i in range(n)]\n",
    "    \n",
    "    if not seidel_sufficient_condition(c1, c2):\n",
    "        print(\"Warning: Достаточное условие сходимости не выполняется\")\n",
    "    f = (1 - matrix_norm_2(c)) / matrix_norm_2(c2)\n",
    "    \n",
    "    last_iter = 0\n",
    "    for i in range(seidel_r):\n",
    "        last_iter = i\n",
    "        x_new = seidel_iteration(x, c1, c2, d)\n",
    "        x_delta = [x_new[i] - x[i] for i in range(n)]\n",
    "        if (vector_norm(x_delta) < f * eps):\n",
    "            break\n",
    "        x = x_new\n",
    "    return x, last_iter\n",
    "    \n",
    "def run_seidel(a, b, answers = dict()):\n",
    "    x, last_iter = seidel(deepcopy(a), deepcopy(b))\n",
    "    answers[\"seidel\"] = x\n",
    "    print(x, end = \"\")\n",
    "    print(\", \" + str(last_iter + 1) + \" iterations\")\n",
    "\n",
    "run_seidel(example_matrix, example_b)"
   ]
  },
  {
   "cell_type": "markdown",
   "metadata": {},
   "source": [
    "## Вычисления для сгенерированных матриц"
   ]
  },
  {
   "cell_type": "code",
   "execution_count": 23,
   "metadata": {
    "pycharm": {
     "is_executing": false,
     "name": "#%%\n"
    }
   },
   "outputs": [
    {
     "name": "stdout",
     "output_type": "stream",
     "text": [
      "Warning: Достаточное условие сходимости не выполняется\n",
      "[nan, nan, nan, nan, nan, nan, nan, nan, nan, nan], 10000 iterations\n"
     ]
    }
   ],
   "source": [
    "run_seidel(random_matrix, b, random_matrix_answers)"
   ]
  },
  {
   "cell_type": "code",
   "execution_count": 24,
   "metadata": {
    "pycharm": {
     "is_executing": false,
     "name": "#%%\n"
    }
   },
   "outputs": [
    {
     "name": "stdout",
     "output_type": "stream",
     "text": [
      "Warning: Достаточное условие сходимости не выполняется\n",
      "[-0.6579984341031787, 1.0213939139490817, 0.0579131813449652, 0.9629400706963582, 0.5498183468691732, -0.21147674749936343, -0.3322967186010337, -1.4544369234949124, -1.1525178943920618, 0.8442168444015696], 15 iterations\n"
     ]
    }
   ],
   "source": [
    "run_seidel(diagonal_matrix, b, diagonal_matrix_answers)"
   ]
  },
  {
   "cell_type": "code",
   "execution_count": 25,
   "metadata": {
    "pycharm": {
     "is_executing": false,
     "name": "#%%\n"
    },
    "scrolled": true
   },
   "outputs": [
    {
     "name": "stdout",
     "output_type": "stream",
     "text": [
      "Warning: Достаточное условие сходимости не выполняется\n",
      "[166.87803573595082, -2228.7254311401966, -1214.75099858866, 38272.504998680466, -53206.51484997787, -16168.544559361493, 2800.53629633494, 33230.34300306463, 70530.89435197509, -72697.77613467716], 10000 iterations\n"
     ]
    }
   ],
   "source": [
    "run_seidel(hilbert_matrix, b, hilbert_matrix_answers)"
   ]
  },
  {
   "cell_type": "markdown",
   "metadata": {},
   "source": [
    "## Анализ"
   ]
  },
  {
   "cell_type": "markdown",
   "metadata": {},
   "source": [
    "Можно заметить, что хоть достаточное условие сходимости не было выполнено ни для единого вариант матрицы `A`, для двух из трёх вариантов сходимость всё же наблюдается. Хоть и на первый взгляд может показаться, что сходимость наблюдается лишь для диагональной матрицы, где значения очень схожи с полученными другими методами, это не так.\n",
    "\n",
    "Матрица Гильберта обладает симметричностью, а также является положительно определённой. На лекции мы рассматривали теорему, утверждающую, что для таких матриц метод Зейделя сходится. Однако матрица Гильберта обладает слишком плохой обусловленностью, поэтому для неё скорость сходимости очень низкая."
   ]
  },
  {
   "cell_type": "markdown",
   "metadata": {
    "pycharm": {
     "name": "#%% md\n"
    }
   },
   "source": [
    "# Часть 4. Метод Зейделя с релаксацией"
   ]
  },
  {
   "cell_type": "markdown",
   "metadata": {},
   "source": [
    "## Реализация метода"
   ]
  },
  {
   "cell_type": "markdown",
   "metadata": {},
   "source": [
    "Поскольку выбор `w` ложится на наши плечи, будем брать их равномерно на промежутке `(0;2)`. Здесь мы рассматриваем всего `step_count=5` значений, однако при более тщательном дроблении (скажем, `step_count=200`) общая картина схожа."
   ]
  },
  {
   "cell_type": "code",
   "execution_count": 26,
   "metadata": {
    "pycharm": {
     "is_executing": false,
     "name": "#%%\n"
    },
    "scrolled": false
   },
   "outputs": [
    {
     "name": "stdout",
     "output_type": "stream",
     "text": [
      "[0.07251321000410191, -0.0004605032982792741, 0.08405096355375812, 0.03325687112710258], 63 iterations\n",
      "[0.07251321000601578, -0.0004605033003404446, 0.08405096355380745, 0.033256871127465754], 26 iterations\n",
      "[0.0725132100064929, -0.0004605033005458259, 0.0840509635537701, 0.033256871127486466], 10 iterations\n",
      "[0.07251321000620056, -0.0004605033003530564, 0.08405096355384363, 0.033256871127483933], 27 iterations\n",
      "[0.07251321000716603, -0.00046050330073963455, 0.08405096355354665, 0.033256871127430775], 71 iterations\n"
     ]
    }
   ],
   "source": [
    "def seidel_relaxed_iteration(x, c1, c2, d, w):\n",
    "    x_new = seidel_iteration(x, c1, c2, d)\n",
    "    x_new = [x[i] + w * (x_new[i] - x[i]) for i in range(len(x))]\n",
    "    return x_new\n",
    "\n",
    "def seidel_relaxed(a, b, possible_w):\n",
    "    n = len(a)\n",
    "    c = [[(0 if i == j else - a[i][j] / a[i][i]) for j in range(n)] for i in range(n)]\n",
    "    c1 = [[c[i][j] if i > j else 0 for j in range(n)] for i in range(n)]\n",
    "    c2 = [[c[i][j] if i < j else 0 for j in range(n)] for i in range(n)]\n",
    "    d = [b[i] / a[i][i] for i in range(n)]\n",
    "    \n",
    "    if not seidel_sufficient_condition(c1, c2):\n",
    "        print(\"Warning: Достаточное условие сходимости не выполняется\")\n",
    "    \n",
    "    xx = []\n",
    "    last_iters = []\n",
    "    for k in range(len(possible_w)):\n",
    "        x = [0 for i in range(n)]\n",
    "        last_iter = 0\n",
    "        for i in range(seidel_r):\n",
    "            last_iter = i\n",
    "            x_new = seidel_relaxed_iteration(x, c1, c2, d, possible_w[k])\n",
    "            x_delta = [x_new[i] - x[i] for i in range(n)]\n",
    "            if (vector_norm(x_delta) < eps):\n",
    "                break\n",
    "            x = x_new\n",
    "        xx.append(x)\n",
    "        last_iters.append(last_iter)\n",
    "    return xx, last_iters\n",
    "    \n",
    "def run_seidel_relaxed(a, b, answers = dict(), step_count = 5):\n",
    "    step = 2 / (step_count + 1)\n",
    "    xx, last_iters = seidel_relaxed(a, b, [step * i for i in range(1, step_count + 1)])\n",
    "    for i in range(len(xx)):\n",
    "        answers[\"seidel_relaxed w=\" + str(step * (i + 1))] = xx[i]\n",
    "        print(xx[i], end = \"\")\n",
    "        print(\", \" + str(last_iters[i] + 1) + \" iterations\")\n",
    "    \n",
    "run_seidel_relaxed(example_matrix, example_b)"
   ]
  },
  {
   "cell_type": "markdown",
   "metadata": {},
   "source": [
    "## Вычисления для сгенерированных матриц"
   ]
  },
  {
   "cell_type": "code",
   "execution_count": 27,
   "metadata": {
    "pycharm": {
     "is_executing": false,
     "name": "#%%\n"
    }
   },
   "outputs": [
    {
     "name": "stdout",
     "output_type": "stream",
     "text": [
      "Warning: Достаточное условие сходимости не выполняется\n",
      "[7.704290188173007e+305, -5.4094722518105385e+305, 4.825930025179095e+306, -1.1424575421306491e+306, -2.909720012574445e+306, -1.9901457877571653e+306, -2.090309904580943e+306, 6.998980565416772e+306, -1.5647049612164425e+307, 1.1528846082448834e+306], 397 iterations\n",
      "[1.825150311959754e+306, -1.2280535572337541e+306, 7.145311685799436e+306, -1.2628405906203855e+306, -3.917584555374006e+306, -2.7172890502285096e+306, -3.6975326903274286e+306, 9.951691660946324e+306, -2.552838222828766e+307, 2.466087204214156e+306], 287 iterations\n",
      "[6.480954427807245e+306, -3.82926078844006e+306, -1.725409872014152e+307, 9.869089062895031e+306, 1.5673190870078274e+307, 1.0209868641244965e+307, -6.576485557915e+305, -3.056990287216672e+307, 2.408187294370919e+307, 6.121111292672333e+306], 247 iterations\n",
      "[-8.464530683010746e+304, 1.692632360988418e+303, 4.10096194816801e+306, -1.4339050607084942e+306, -2.894505385806993e+306, -1.9389086017524144e+306, -1.1253662800142726e+306, 6.391591530378317e+306, -1.0745898019388353e+307, 1.5969810824199326e+305], 224 iterations\n",
      "[-9.349030224838763e+306, 5.818823584341373e+306, 1.2313315859428445e+306, -6.270221889513286e+306, -6.18948990537171e+306, -3.706223854787671e+306, 7.87082874280097e+306, 7.518563812538867e+306, 2.8938478433737963e+307, -1.029282866923111e+307], 210 iterations\n"
     ]
    }
   ],
   "source": [
    "run_seidel_relaxed(random_matrix, b, random_matrix_answers)"
   ]
  },
  {
   "cell_type": "code",
   "execution_count": 28,
   "metadata": {
    "pycharm": {
     "is_executing": false,
     "name": "#%%\n"
    }
   },
   "outputs": [
    {
     "name": "stdout",
     "output_type": "stream",
     "text": [
      "Warning: Достаточное условие сходимости не выполняется\n",
      "[-0.6579984341008748, 1.0213939139485824, 0.05791318134461527, 0.9629400706952825, 0.5498183468696606, -0.21147674749902032, -0.3322967186011014, -1.4544369234947256, -1.152517894392373, 0.8442168444013658], 75 iterations\n",
      "[-0.6579984341024061, 1.0213939139491222, 0.057913181345240594, 0.9629400706961994, 0.5498183468691922, -0.21147674749966772, -0.33229671860070403, -1.4544369234949852, -1.1525178943921657, 0.844216844401518], 30 iterations\n",
      "[-0.6579984341036822, 1.0213939139486181, 0.057913181345041614, 0.9629400706962113, 0.5498183468692421, -0.21147674749953416, -0.3322967186010771, -1.4544369234949563, -1.152517894392044, 0.8442168444016188], 14 iterations\n",
      "[-0.6579984341037144, 1.0213939139485786, 0.05791318134504065, 0.9629400706961899, 0.5498183468692474, -0.21147674749954337, -0.3322967186010855, -1.4544369234949581, -1.152517894392044, 0.844216844401622], 40 iterations\n",
      "[-0.6579984341037134, 1.0213939139485795, 0.057913181345040685, 0.9629400706961898, 0.5498183468692478, -0.2114767474995431, -0.3322967186010853, -1.4544369234949583, -1.152517894392045, 0.8442168444016227], 176 iterations\n"
     ]
    }
   ],
   "source": [
    "run_seidel_relaxed(diagonal_matrix, b, diagonal_matrix_answers)"
   ]
  },
  {
   "cell_type": "code",
   "execution_count": 29,
   "metadata": {
    "pycharm": {
     "is_executing": false,
     "name": "#%%\n"
    },
    "scrolled": true
   },
   "outputs": [
    {
     "name": "stdout",
     "output_type": "stream",
     "text": [
      "Warning: Достаточное условие сходимости не выполняется\n",
      "[4.61625426523411, -378.3810738435995, -75.40022536178881, 10635.166687535098, -18029.631936048987, -4071.3356186416586, 2590.842470603785, 12032.039033243198, 23165.25087106293, -26121.352323010593], 10000 iterations\n",
      "[98.33854414441377, -1543.7627032369924, 321.1269309183851, 23505.27291179016, -36100.393086118784, -9872.882230125808, 3248.1322652197277, 23053.90316200047, 46856.176488495585, -49957.42636667702], 10000 iterations\n",
      "[166.87803573595082, -2228.7254311401966, -1214.75099858866, 38272.504998680466, -53206.51484997787, -16168.544559361493, 2800.53629633494, 33230.34300306463, 70530.89435197509, -72697.77613467716], 10000 iterations\n",
      "[213.12211613616157, -2503.8229117143587, -4355.68099047526, 54561.956021263744, -69490.05913380843, -22837.20943514708, 1452.6095860175262, 42699.25973987955, 94176.19517504072, -94540.0928410474], 10000 iterations\n",
      "[241.15847059426417, -2445.1639532311087, -8797.348818424125, 72065.91318449574, -85082.27024304174, -29793.719463807367, -635.6529600297646, 51573.55767828319, 117787.90570761301, -115634.30397109549], 10000 iterations\n"
     ]
    }
   ],
   "source": [
    "run_seidel_relaxed(hilbert_matrix, b, hilbert_matrix_answers)"
   ]
  },
  {
   "cell_type": "markdown",
   "metadata": {},
   "source": [
    "## Анализ"
   ]
  },
  {
   "cell_type": "markdown",
   "metadata": {},
   "source": [
    "К сожалению, последовательная релаксация не выручила нас с рандомной матрицей: сходимость не образовалась. Для матрицы Гильберта скорость сходимости выросла, но не сильно:"
   ]
  },
  {
   "cell_type": "code",
   "execution_count": 30,
   "metadata": {},
   "outputs": [
    {
     "name": "stdout",
     "output_type": "stream",
     "text": [
      "Warning: Достаточное условие сходимости не выполняется\n",
      "[166.87803573595082, -2228.7254311401966, -1214.75099858866, 38272.504998680466, -53206.51484997787, -16168.544559361493, 2800.53629633494, 33230.34300306463, 70530.89435197509, -72697.77613467716]\n",
      "[249.74400300567046, -2115.315931672376, -14290.198983627928, 90532.70988245861, -100090.91845980946, -36968.70361553005, -3333.391667826416, 59945.74614785305, 141362.77334167523, -136103.02051231166]\n"
     ]
    }
   ],
   "source": [
    "print_list(seidel_relaxed(hilbert_matrix, b, [1, 1.999999999])[0])"
   ]
  },
  {
   "cell_type": "markdown",
   "metadata": {},
   "source": [
    "Для матрицы с диагональным преобладанием всё осталось без особого изменения, однако в какой-то момент можно заметить, как начиная с некоторого значения сходимость теряется."
   ]
  },
  {
   "cell_type": "code",
   "execution_count": 31,
   "metadata": {},
   "outputs": [
    {
     "name": "stdout",
     "output_type": "stream",
     "text": [
      "Warning: Достаточное условие сходимости не выполняется\n",
      "[-0.6579984341027272, 1.0213939139495067, 0.05791318134490043, 0.9629400706964991, 0.5498183468691128, -0.2114767474992105, -0.3322967186009887, -1.4544369234948733, -1.1525178943920757, 0.8442168444015253]\n",
      "[2.1693595082755744e+33, 2.0386267434479815e+33, -3.0761301585596877e+32, 6.825179991624099e+32, -2.9947220796325257e+32, 7.30241634843055e+32, 2.0952379504537376e+32, 1.8325109156824568e+32, -6.997598046762572e+31, -2.1333523220873355e+32]\n",
      "[7.600705975690709e+80, 7.142662344354789e+80, -1.077772530969402e+80, 2.3913134798361926e+80, -1.0492498785638985e+80, 2.558521045717194e+80, 7.341008970507938e+79, 6.420501818261456e+79, -2.4517229664615656e+79, -7.474548907586167e+79]\n",
      "[8.137904891049402e+127, 7.647487879829087e+127, -1.153946801687398e+127, 2.5603255442101072e+127, -1.1234082394460994e+127, 2.7393509232414014e+127, 7.859853150141784e+126, 6.87428685137019e+126, -2.6250046224755617e+126, -8.002831356452494e+126]\n"
     ]
    }
   ],
   "source": [
    "print_list(seidel_relaxed(diagonal_matrix, b, [1.8, 1.81, 1.82, 1.83])[0])"
   ]
  },
  {
   "cell_type": "markdown",
   "metadata": {},
   "source": [
    "# Часть 5. Метод сопряжённых направлений и градиентов"
   ]
  },
  {
   "cell_type": "markdown",
   "metadata": {},
   "source": [
    "Снова обезопасим себя от зацикливания и ограничим количество итераций."
   ]
  },
  {
   "cell_type": "code",
   "execution_count": 32,
   "metadata": {},
   "outputs": [],
   "source": [
    "conjgrad_r = 10000"
   ]
  },
  {
   "cell_type": "markdown",
   "metadata": {},
   "source": [
    "## Реализация метода"
   ]
  },
  {
   "cell_type": "code",
   "execution_count": 33,
   "metadata": {},
   "outputs": [
    {
     "name": "stdout",
     "output_type": "stream",
     "text": [
      "[0.07251320996444181, -0.0004605033226355451, 0.08405096360796392, 0.0332568711303454], 10000 iterations\n"
     ]
    }
   ],
   "source": [
    "def conjgrad_iteration(x, a, b, r, z):\n",
    "    n = len(a)\n",
    "    rr = [r[i] * r[i] for i in range(n)]\n",
    "    az = matrix_vector_mul(a, z)\n",
    "    alpha = sum(rr) / sum([az[i] * z[i] for i in range(n)])\n",
    "    x_new = [x[i] + alpha * z[i] for i in range(n)]\n",
    "    r_new = [r[i] - alpha * az[i] for i in range(n)]\n",
    "    beta = sum([r_new[i] * r_new[i] for i in range(n)]) / sum(rr)\n",
    "    z_new = [r_new[i] + beta * z[i] for i in range(n)]\n",
    "    return x_new, r_new, z_new\n",
    "\n",
    "def conjgrad(a, b, initial_value = 0):\n",
    "    n = len(a)\n",
    "    x = [initial_value for i in range(n)]\n",
    "    r = [b[i] for i in range(n)]\n",
    "    z = [b[i] for i in range(n)]\n",
    "    last_iter = 0\n",
    "    for i in range(conjgrad_r):\n",
    "        last_iter = i\n",
    "        x_new, r_new, z_new = conjgrad_iteration(x, a, b, r, z)\n",
    "        x_delta = [x_new[i] - x[i] for i in range(n)]\n",
    "        if (vector_norm(r) / vector_norm(b) < eps):\n",
    "            break\n",
    "        x, r, z = x_new, r_new, z_new\n",
    "    return x, last_iter\n",
    "    \n",
    "def run_conjgrad(a, b, answers = dict()):\n",
    "    x, last_iter = conjgrad(a, b)\n",
    "    answers[\"conjgrad\"] = x\n",
    "    print(x, end = \"\")\n",
    "    print(\", \" + str(last_iter + 1) + \" iterations\")\n",
    "\n",
    "run_conjgrad(example_matrix, example_b)"
   ]
  },
  {
   "cell_type": "markdown",
   "metadata": {},
   "source": [
    "Заметим, что поскольку метод сопряжённых направлений и градиентов применим лишь к симметричным положительно определённым матрицам, нам необходимо выполнить некоторые преобразования для рандомной матрицы и матрицы с диагональным преобладанием (матрица Гильберта уже обладает этими свойствами). Достаточно домножить обе части уравнения на `A^T` - транспонированную матрицу `A`. Тогда в левой части уравнения окажется симметричная положительно определённая матрица, вектор `b` после умножения превратится в некоторый вектор `b'`, а само решение не изменится. Правда, может увеличиться погрешность наших операций."
   ]
  },
  {
   "cell_type": "code",
   "execution_count": 34,
   "metadata": {},
   "outputs": [
    {
     "name": "stdout",
     "output_type": "stream",
     "text": [
      "[0.07251321000661325, -0.0004605033005403941, 0.08405096355375126, 0.03325687112747827], 5 iterations\n"
     ]
    }
   ],
   "source": [
    "def run_conjgrad_fix(a, b, answers = dict()):\n",
    "    at = matrix_transpose(a)\n",
    "    a_s = matrix_matrix_mul(at, a)\n",
    "    b_s = matrix_vector_mul(at, b)\n",
    "    run_conjgrad(a_s, b_s, answers)\n",
    "    \n",
    "run_conjgrad_fix(example_matrix, example_b)"
   ]
  },
  {
   "cell_type": "markdown",
   "metadata": {},
   "source": [
    "## Вычисление для сгенерированных матриц"
   ]
  },
  {
   "cell_type": "code",
   "execution_count": 35,
   "metadata": {},
   "outputs": [
    {
     "name": "stdout",
     "output_type": "stream",
     "text": [
      "[3.3654277594231448, 10.980756075180276, -11.053567260737257, 10.504049960155395, 1.4166147694590794, 5.419133933281417, 12.87967925305122, -15.823807746716158, -1.8736110354319557, -12.539104841032305], 15 iterations\n"
     ]
    }
   ],
   "source": [
    "run_conjgrad_fix(random_matrix, b, random_matrix_answers)"
   ]
  },
  {
   "cell_type": "code",
   "execution_count": 36,
   "metadata": {},
   "outputs": [
    {
     "name": "stdout",
     "output_type": "stream",
     "text": [
      "[-0.6579984341032277, 1.0213939139490356, 0.05791318134497188, 0.9629400706963428, 0.5498183468691804, -0.21147674749937964, -0.3322967186010382, -1.4544369234949168, -1.1525178943920598, 0.8442168444015744], 11 iterations\n"
     ]
    }
   ],
   "source": [
    "run_conjgrad_fix(diagonal_matrix, b, diagonal_matrix_answers)"
   ]
  },
  {
   "cell_type": "code",
   "execution_count": 37,
   "metadata": {},
   "outputs": [
    {
     "name": "stdout",
     "output_type": "stream",
     "text": [
      "[618156.2186409582, -58693440.22249881, 1335678105.2325225, -12760536389.81034, 63278015226.00991, -179500048659.5374, 302251118918.10736, -298546674865.32056, 159690365685.50845, -35690625227.12414], 159 iterations\n"
     ]
    }
   ],
   "source": [
    "run_conjgrad(hilbert_matrix, b, hilbert_matrix_answers)"
   ]
  },
  {
   "cell_type": "markdown",
   "metadata": {},
   "source": [
    "## Анализ"
   ]
  },
  {
   "cell_type": "markdown",
   "metadata": {},
   "source": [
    "В отличие от предыдущих методов (за вычетом метода Гаусса), метод сопряжённых направлений и градиентов хорошо показал себя для матрицы Гильберта. Также можно заметить интересное наблюдение, что для заранее заготовленной нами матрицы-примера `example_matrix` ответ `run_conjgrad` тоже был найден верно, хотя матрица не обладает симметричностью. Конечно, ответ совпал только потому, что за изначальное приближение нами был взят нулевой вектор. При единичном векторе все его координаты сдвигаюся на `1`."
   ]
  },
  {
   "cell_type": "code",
   "execution_count": 38,
   "metadata": {},
   "outputs": [
    {
     "name": "stdout",
     "output_type": "stream",
     "text": [
      "[1.072513209964442, 0.9995394966773659, 1.0840509636079643, 1.0332568711303485]\n"
     ]
    }
   ],
   "source": [
    "print(conjgrad(example_matrix, example_b, initial_value = 1)[0])"
   ]
  },
  {
   "cell_type": "markdown",
   "metadata": {},
   "source": [
    "# Результаты"
   ]
  },
  {
   "cell_type": "markdown",
   "metadata": {},
   "source": [
    "## Рандомная матрица"
   ]
  },
  {
   "cell_type": "code",
   "execution_count": 39,
   "metadata": {},
   "outputs": [
    {
     "name": "stdout",
     "output_type": "stream",
     "text": [
      "gauss:\n",
      "[3.3654277594220465, 10.980756075169433, -11.053567260723272, 10.504049960145258, 1.416614769458203, 5.419133933272693, 12.87967925303474, -15.823807746697645, -1.873611035431915, -12.539104841018592]\n",
      "gauss_with_column_optimization:\n",
      "[3.3654277594220305, 10.98075607516942, -11.053567260723286, 10.504049960145236, 1.4166147694581923, 5.419133933272677, 12.87967925303471, -15.82380774669762, -1.8736110354319073, -12.539104841018545]\n",
      "gauss_with_full_optimization:\n",
      "[3.3654277594220448, 10.980756075169463, -11.053567260723332, 10.504049960145275, 1.4166147694582014, 5.419133933272702, 12.879679253034759, -15.823807746697685, -1.8736110354319122, -12.5391048410186]\n",
      "jacobi:\n",
      "[nan, nan, nan, nan, nan, nan, nan, nan, nan, nan]\n",
      "seidel:\n",
      "[nan, nan, nan, nan, nan, nan, nan, nan, nan, nan]\n",
      "seidel_relaxed w=0.3333333333333333:\n",
      "[7.704290188173007e+305, -5.4094722518105385e+305, 4.825930025179095e+306, -1.1424575421306491e+306, -2.909720012574445e+306, -1.9901457877571653e+306, -2.090309904580943e+306, 6.998980565416772e+306, -1.5647049612164425e+307, 1.1528846082448834e+306]\n",
      "seidel_relaxed w=0.6666666666666666:\n",
      "[1.825150311959754e+306, -1.2280535572337541e+306, 7.145311685799436e+306, -1.2628405906203855e+306, -3.917584555374006e+306, -2.7172890502285096e+306, -3.6975326903274286e+306, 9.951691660946324e+306, -2.552838222828766e+307, 2.466087204214156e+306]\n",
      "seidel_relaxed w=1.0:\n",
      "[6.480954427807245e+306, -3.82926078844006e+306, -1.725409872014152e+307, 9.869089062895031e+306, 1.5673190870078274e+307, 1.0209868641244965e+307, -6.576485557915e+305, -3.056990287216672e+307, 2.408187294370919e+307, 6.121111292672333e+306]\n",
      "seidel_relaxed w=1.3333333333333333:\n",
      "[-8.464530683010746e+304, 1.692632360988418e+303, 4.10096194816801e+306, -1.4339050607084942e+306, -2.894505385806993e+306, -1.9389086017524144e+306, -1.1253662800142726e+306, 6.391591530378317e+306, -1.0745898019388353e+307, 1.5969810824199326e+305]\n",
      "seidel_relaxed w=1.6666666666666665:\n",
      "[-9.349030224838763e+306, 5.818823584341373e+306, 1.2313315859428445e+306, -6.270221889513286e+306, -6.18948990537171e+306, -3.706223854787671e+306, 7.87082874280097e+306, 7.518563812538867e+306, 2.8938478433737963e+307, -1.029282866923111e+307]\n",
      "conjgrad:\n",
      "[3.3654277594231448, 10.980756075180276, -11.053567260737257, 10.504049960155395, 1.4166147694590794, 5.419133933281417, 12.87967925305122, -15.823807746716158, -1.8736110354319557, -12.539104841032305]\n"
     ]
    }
   ],
   "source": [
    "print_dict(random_matrix_answers)"
   ]
  },
  {
   "cell_type": "markdown",
   "metadata": {},
   "source": [
    "## Диагональная матрица"
   ]
  },
  {
   "cell_type": "code",
   "execution_count": 40,
   "metadata": {},
   "outputs": [
    {
     "name": "stdout",
     "output_type": "stream",
     "text": [
      "gauss:\n",
      "[-0.6579984341032276, 1.021393913949036, 0.05791318134497171, 0.9629400706963428, 0.5498183468691803, -0.21147674749937945, -0.33229671860103854, -1.4544369234949168, -1.1525178943920598, 0.8442168444015744]\n",
      "gauss_with_column_optimization:\n",
      "[-0.6579984341032276, 1.021393913949036, 0.05791318134497171, 0.9629400706963428, 0.5498183468691803, -0.21147674749937945, -0.33229671860103854, -1.4544369234949168, -1.1525178943920598, 0.8442168444015744]\n",
      "gauss_with_full_optimization:\n",
      "[-0.6579984341032273, 1.0213939139490358, 0.05791318134497173, 0.9629400706963429, 0.5498183468691805, -0.21147674749937956, -0.3322967186010383, -1.4544369234949166, -1.15251789439206, 0.8442168444015744]\n",
      "jacobi:\n",
      "[-0.6579984341032443, 1.0213939139490136, 0.057913181344975556, 0.9629400706963587, 0.549818346869174, -0.21147674749937262, -0.3322967186010269, -1.4544369234949268, -1.152517894392046, 0.8442168444015703]\n",
      "seidel:\n",
      "[-0.6579984341031787, 1.0213939139490817, 0.0579131813449652, 0.9629400706963582, 0.5498183468691732, -0.21147674749936343, -0.3322967186010337, -1.4544369234949124, -1.1525178943920618, 0.8442168444015696]\n",
      "seidel_relaxed w=0.3333333333333333:\n",
      "[-0.6579984341008748, 1.0213939139485824, 0.05791318134461527, 0.9629400706952825, 0.5498183468696606, -0.21147674749902032, -0.3322967186011014, -1.4544369234947256, -1.152517894392373, 0.8442168444013658]\n",
      "seidel_relaxed w=0.6666666666666666:\n",
      "[-0.6579984341024061, 1.0213939139491222, 0.057913181345240594, 0.9629400706961994, 0.5498183468691922, -0.21147674749966772, -0.33229671860070403, -1.4544369234949852, -1.1525178943921657, 0.844216844401518]\n",
      "seidel_relaxed w=1.0:\n",
      "[-0.6579984341036822, 1.0213939139486181, 0.057913181345041614, 0.9629400706962113, 0.5498183468692421, -0.21147674749953416, -0.3322967186010771, -1.4544369234949563, -1.152517894392044, 0.8442168444016188]\n",
      "seidel_relaxed w=1.3333333333333333:\n",
      "[-0.6579984341037144, 1.0213939139485786, 0.05791318134504065, 0.9629400706961899, 0.5498183468692474, -0.21147674749954337, -0.3322967186010855, -1.4544369234949581, -1.152517894392044, 0.844216844401622]\n",
      "seidel_relaxed w=1.6666666666666665:\n",
      "[-0.6579984341037134, 1.0213939139485795, 0.057913181345040685, 0.9629400706961898, 0.5498183468692478, -0.2114767474995431, -0.3322967186010853, -1.4544369234949583, -1.152517894392045, 0.8442168444016227]\n",
      "conjgrad:\n",
      "[-0.6579984341032277, 1.0213939139490356, 0.05791318134497188, 0.9629400706963428, 0.5498183468691804, -0.21147674749937964, -0.3322967186010382, -1.4544369234949168, -1.1525178943920598, 0.8442168444015744]\n"
     ]
    }
   ],
   "source": [
    "print_dict(diagonal_matrix_answers)"
   ]
  },
  {
   "cell_type": "markdown",
   "metadata": {},
   "source": [
    "## Матрица Гильберта"
   ]
  },
  {
   "cell_type": "code",
   "execution_count": 41,
   "metadata": {},
   "outputs": [
    {
     "name": "stdout",
     "output_type": "stream",
     "text": [
      "gauss:\n",
      "[618162.4297733218, -58693906.93944507, 1335686894.848783, -12760607941.582708, 63278323924.11634, -179500822587.6829, 302252284953.04663, -298547715701.79395, 159690872954.2671, -35690729241.4723]\n",
      "gauss_with_column_optimization:\n",
      "[618192.5818247707, -58696544.17338389, 1335743573.0921884, -12761126739.157534, 63280811790.64066, -179507691197.0002, 302263593948.5897, -298558676531.06396, 159696641492.73138, -35692000499.73094]\n",
      "gauss_with_full_optimization:\n",
      "[618193.2590446384, -58696599.85349329, 1335744732.8637166, -12761137203.239378, 63280861728.495094, -179507829156.4871, 302263821957.1318, -298558898750.2293, 159696759205.35406, -35692026621.36878]\n",
      "jacobi:\n",
      "[nan, nan, nan, nan, nan, nan, nan, nan, nan, nan]\n",
      "seidel:\n",
      "[166.87803573595082, -2228.7254311401966, -1214.75099858866, 38272.504998680466, -53206.51484997787, -16168.544559361493, 2800.53629633494, 33230.34300306463, 70530.89435197509, -72697.77613467716]\n",
      "seidel_relaxed w=0.3333333333333333:\n",
      "[4.61625426523411, -378.3810738435995, -75.40022536178881, 10635.166687535098, -18029.631936048987, -4071.3356186416586, 2590.842470603785, 12032.039033243198, 23165.25087106293, -26121.352323010593]\n",
      "seidel_relaxed w=0.6666666666666666:\n",
      "[98.33854414441377, -1543.7627032369924, 321.1269309183851, 23505.27291179016, -36100.393086118784, -9872.882230125808, 3248.1322652197277, 23053.90316200047, 46856.176488495585, -49957.42636667702]\n",
      "seidel_relaxed w=1.0:\n",
      "[166.87803573595082, -2228.7254311401966, -1214.75099858866, 38272.504998680466, -53206.51484997787, -16168.544559361493, 2800.53629633494, 33230.34300306463, 70530.89435197509, -72697.77613467716]\n",
      "seidel_relaxed w=1.3333333333333333:\n",
      "[213.12211613616157, -2503.8229117143587, -4355.68099047526, 54561.956021263744, -69490.05913380843, -22837.20943514708, 1452.6095860175262, 42699.25973987955, 94176.19517504072, -94540.0928410474]\n",
      "seidel_relaxed w=1.6666666666666665:\n",
      "[241.15847059426417, -2445.1639532311087, -8797.348818424125, 72065.91318449574, -85082.27024304174, -29793.719463807367, -635.6529600297646, 51573.55767828319, 117787.90570761301, -115634.30397109549]\n",
      "conjgrad:\n",
      "[618156.2186409582, -58693440.22249881, 1335678105.2325225, -12760536389.81034, 63278015226.00991, -179500048659.5374, 302251118918.10736, -298546674865.32056, 159690365685.50845, -35690625227.12414]\n"
     ]
    }
   ],
   "source": [
    "print_dict(hilbert_matrix_answers)"
   ]
  },
  {
   "cell_type": "markdown",
   "metadata": {},
   "source": [
    "## Какие можно сделать выводы?"
   ]
  },
  {
   "cell_type": "markdown",
   "metadata": {},
   "source": [
    "1. Если матрица не обладает никакими примечательными свойствами, то скорей всего её возьмёт только Гаусс и методы спуска (из рассмотренных нами).\n",
    "2. Для ужасно обусловленных матриц погрешность зачастую может быть гигантской.\n",
    "3. Все зависит от ситуации, и в реальной жизни неплохо бы анализировать матрицы перед выбором метода."
   ]
  }
 ],
 "metadata": {
  "kernelspec": {
   "display_name": "Python 3",
   "language": "python",
   "name": "python3"
  },
  "language_info": {
   "codemirror_mode": {
    "name": "ipython",
    "version": 3
   },
   "file_extension": ".py",
   "mimetype": "text/x-python",
   "name": "python",
   "nbconvert_exporter": "python",
   "pygments_lexer": "ipython3",
   "version": "3.8.2"
  },
  "pycharm": {
   "stem_cell": {
    "cell_type": "raw",
    "metadata": {
     "collapsed": false
    },
    "source": []
   }
  }
 },
 "nbformat": 4,
 "nbformat_minor": 4
}
