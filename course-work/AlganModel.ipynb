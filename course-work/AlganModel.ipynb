{
 "cells": [
  {
   "cell_type": "code",
   "execution_count": 1,
   "metadata": {},
   "outputs": [],
   "source": [
    "import numpy as np\n",
    "import sympy as sm\n",
    "import scipy as sp\n",
    "import pandas as pd\n",
    "from ggplot import *"
   ]
  },
  {
   "cell_type": "code",
   "execution_count": 2,
   "metadata": {},
   "outputs": [],
   "source": [
    "elementsData = dict()\n",
    "elementsChars = ['H', 'f1', 'f2', 'f3', 'f4', 'f5', 'f6', 'f7', 'mu', 'sigma', 'epsil']\n",
    "elements = ['AlCl', 'AlCl2', 'AlCl3', 'GaCl', 'GaCl2', 'GaCl3', 'NH3', 'H2', 'HCl', 'N2', 'Al', 'Ga', 'AlN', 'GaN']\n",
    "\n",
    "dataFile = open('data.txt', 'r')\n",
    "lines = dataFile.readlines()\n",
    "for line in lines:\n",
    "    dataArr = line.rstrip().split(';')\n",
    "    elementsData[dataArr[0]] = dict()\n",
    "    for i in range(0, len(dataArr) - 1):\n",
    "        elementsData[dataArr[0]][elementsChars[i]] = float(dataArr[i + 1])"
   ]
  },
  {
   "cell_type": "code",
   "execution_count": 3,
   "metadata": {},
   "outputs": [],
   "source": [
    "R = 8.314  # Дж/(кмоль⋅К) - универсальная газовая постоянная\n",
    "P_a = 100000  # Па – полное давление"
   ]
  },
  {
   "cell_type": "code",
   "execution_count": 4,
   "metadata": {},
   "outputs": [],
   "source": [
    "'''\n",
    "d - коэффициент диффузии (м2/сек)\n",
    "compIndex - название элемента\n",
    "temperature - температура\n",
    "pressure - полное давление в системе (P_i_g - P_i_e)\n",
    "'''\n",
    "def d(compIndex, temperature, pressure):\n",
    "    numerator = 2.628 * 10 ** (-2) * temperature ** (3 / 2)\n",
    "\n",
    "    dataForIndex = elementsData[compIndex]\n",
    "    dataForN2 = elementsData['N2']\n",
    "\n",
    "    sigma = (dataForIndex['sigma'] + dataForN2['sigma']) / 2\n",
    "    epsil = (dataForIndex['epsil'] * dataForN2['epsil']) ** (1 / 2)\n",
    "    mu = (2 * dataForIndex['mu'] * dataForN2['mu']) / (dataForIndex['mu'] + dataForN2['mu'])\n",
    "    omega = 1.074 * (temperature / epsil) ** (-0.1604)\n",
    "\n",
    "    return numerator / (pressure * sigma * omega * mu ** (1 / 2))\n",
    "\n",
    "\"\"\"\n",
    "phi нужно для расчета энергии Гиббса (G)\n",
    "compIndex - название элемента\n",
    "temperature - температура\n",
    "\"\"\"\n",
    "def phi(compIndex, temperature):\n",
    "    dataForIndex = elementsData[compIndex]\n",
    "\n",
    "    x = temperature / 10 ** 4\n",
    "    return dataForIndex['f1'] + \\\n",
    "           dataForIndex['f2'] * np.log(x) + \\\n",
    "           dataForIndex['f3'] / x ** 2 + \\\n",
    "           dataForIndex['f4'] / x + \\\n",
    "           dataForIndex['f5'] * x + \\\n",
    "           dataForIndex['f6'] * x ** 2 + \\\n",
    "           dataForIndex['f7'] * x ** 3\n",
    "\"\"\"\n",
    "g - Энергия Гиббса\n",
    "compIndex - название элемента\n",
    "temperature - температура\n",
    "\"\"\"\n",
    "def g(compIndex, temperature):\n",
    "    dataForIndex = elementsData[compIndex]\n",
    "    return dataForIndex['H'] - phi(compIndex, temperature) * temperature\n"
   ]
  },
  {
   "cell_type": "code",
   "execution_count": 5,
   "metadata": {},
   "outputs": [],
   "source": [
    "#ета надо будет для первого задания\n",
    "def k1(temperature):\n",
    "    g1Diff = 2 * g('Al', temperature) + 2 * g('HCl', temperature) - 2 * g('AlCl', temperature) - g('H2', temperature)\n",
    "    return np.exp(-g1Diff / (R * temperature)) / P_a\n",
    "\n",
    "def k2(temperature):\n",
    "    g2Diff = g('Al', temperature) + 2 * g('HCl', temperature) - g('AlCl2', temperature) - g('H2', temperature)\n",
    "    return np.exp(-g2Diff / (R * temperature))\n",
    "\n",
    "def k3(temperature):\n",
    "    g3Diff = g('Al', temperature) - 2 * g('AlCl3', temperature) - 3 * g('H2', temperature) + 6 * g('HCl', temperature)\n",
    "    return np.exp(-g3Diff / (R * temperature)) * P_a\n",
    "\n",
    "#ета надо будет для второго задания\n",
    "def k4(temperature):\n",
    "    g4Diff = g('Ga', temperature) + 2 * g('HCl', temperature) - 2 * g('GaCl', temperature) - g('H2', temperature)\n",
    "    return np.exp(-g4Diff / (R * temperature)) / P_a\n",
    "\n",
    "def k5(temperature):\n",
    "    g5Diff = g('GaCl2', temperature) + g('H2', temperature) - 2 * g('HCl', temperature) - g('Ga', temperature)\n",
    "    return np.exp(g5Diff / (R * temperature))\n",
    "\n",
    "def k6(temperature):\n",
    "    g6Diff = 2 * g('GaCl3', temperature) + 3 * g('H2', temperature) - 6 * g('HCl', temperature) - 2 * g('Ga', temperature)\n",
    "    return np.exp(g6Diff / (R * temperature)) * P_a\n",
    "\n",
    "#ета надо будет для третьего задания\n",
    "def k9(temperature):\n",
    "    g9Diff = g('AlCl3', temperature) + g('NH3', temperature) - g('AlN', temperature) - 3 * g('HCl', temperature)\n",
    "    return np.exp(-g9Diff / (R * temperature)) / P_a\n",
    "\n",
    "def k10(temperature):\n",
    "    g10Diff = g('GaCl', temperature) + g('NH3', temperature) - g('HCl', temperature) - g('H2', temperature) - g('GaN', temperature)\n",
    "    return np.exp(-g10Diff / (R * temperature))"
   ]
  },
  {
   "cell_type": "code",
   "execution_count": 6,
   "metadata": {},
   "outputs": [],
   "source": [
    "# TODO: maybe rewrite\n",
    "def newton_method(system, variables, eps=1e-9):\n",
    "    jacobian = sm.lambdify(variables, system.jacobian(variables))\n",
    "    system = sm.lambdify(variables, system)\n",
    "    \n",
    "    x = np.random.uniform(0.1, 1., len(variables)).tolist()\n",
    "    delta = 1\n",
    "    steps = 0\n",
    "    while np.linalg.norm(delta) > eps and steps < 1e5:\n",
    "        delta = sp.linalg.lu_solve(sp.linalg.lu_factor(jacobian(*x)), -system(*x))\n",
    "        x = delta.flatten() + x\n",
    "        steps += 1\n",
    "    rsa = np.abs(system(*x.tolist())).sum()\n",
    "    return x, rsa, steps"
   ]
  },
  {
   "cell_type": "markdown",
   "metadata": {},
   "source": [
    "# Задание №1"
   ]
  },
  {
   "cell_type": "markdown",
   "metadata": {},
   "source": [
    "**Система:**\n",
    "\n",
    "\n",
    "(P<sub>HCl</sub>)<sup>2</sup> = K<sub>1</sub> (P<sub>AlCl</sub>)<sup>2</sup>P<sub>H2</sub> = 0\n",
    "\n",
    "(P<sub>HCl</sub>)<sup>2</sup> = K<sub>2</sub> (P<sub>AlCl2</sub>)<sup>2</sup>P<sub>H2</sub> = 0\n",
    "\n",
    "(P<sub>HCl</sub>)<sup>6</sup> = K<sub>3</sub> (P<sub>AlCl3</sub>)<sup>2</sup>(P<sub>H2</sub>)<sup>3</sup> = 0\n",
    "\n",
    "\n",
    "D<sub>HCl</sub>(Pg<sub>HCl</sub> - P<sub>HCl</sub>) + 2D<sub>H2</sub>(Pg<sub>H2</sub> - P<sub>H2</sub>) = 0\n",
    "\n",
    "D<sub>AlCl</sub>(Pg<sub>AlCl</sub> - P<sub>AlCl</sub>) + 2D<sub>AlCl2</sub>(Pg<sub>AlCl2</sub> - P<sub>AlCl2</sub>) + 3D<sub>AlC3</sub>(Pg<sub>AlCl3</sub> - P<sub>AlCl3</sub>) + D<sub>HCl</sub>(Pg<sub>HCl</sub> - P<sub>HCl</sub>) = 0\n",
    "\n",
    "<!-- (R1) Al<sub>solid</sub> + 2HCl ↔ 2AlCl + H<sub>2</sub>\n",
    "\n",
    "(R2) Al<sub>solid</sub> + 2HCl ↔ AlCl<sub>2</sub> + H<sub>2</sub>\n",
    "\n",
    "(R3) 2Al<sub>solid</sub> + 6HCl ↔ 2AlCl<sub>3</sub> + 3H<sub>2</sub> -->"
   ]
  },
  {
   "cell_type": "code",
   "execution_count": 7,
   "metadata": {},
   "outputs": [],
   "source": [
    "\"\"\"\n",
    "Парциальные давления компонент вне диффузионного пограничного слоя (Па) \n",
    "из условия задания №1\n",
    "'AlCl', 'GaN, ... \n",
    "\"\"\"\n",
    "pg = { 'GaCl' : 0, 'GaCl2' : 0, 'GaCl3' : 0, 'AlCl' : 0, 'AlCl2' : 0, 'AlCl3' : 0, 'H2' : 0, 'N2' : 90000.0, 'HCl' : 10000.0 }\n",
    "\n",
    "def system1(T):\n",
    "    p_AlCl, p_AlCl2, p_AlCl3, p_HCl, p_H2 = sm.symbols('p_AlCl, p_AlCl2, p_AlCl3, p_HCl, p_H2')\n",
    "    pg_AlCl = pg_AlCl2 = pg_AlCl3 = pg_H2 = 0\n",
    "    pg_N2 = 90000.0\n",
    "    pg_HCl = 10000.0 \n",
    "    p = pg_N2 + pg_HCl\n",
    "    d_HCl = d('HCl', T, p)\n",
    "    d_H2 = d('H2', T, p)\n",
    "    d_AlCl = d('AlCl', T, p)\n",
    "    d_AlCl2 = d('AlCl2', T, p)\n",
    "    d_AlCl3 = d('AlCl3', T, p)\n",
    "    equations = []\n",
    "    equations.append(p_HCl ** 2 - k1(T) * p_AlCl ** 2 * p_H2)\n",
    "    equations.append(p_HCl ** 2 - k2(T) * p_AlCl2 * p_H2)\n",
    "    equations.append(p_HCl ** 6 - k3(T) * p_AlCl3 ** 2 * p_H2 ** 3)\n",
    "    equations.append(d_HCl * (pg['HCl'] - p_HCl) + 2 * d_H2 * (pg['H2'] - p_H2))\n",
    "    equations.append(d_AlCl * (pg['AlCl2'] - p_AlCl) + \n",
    "                     2 * d_AlCl2 * (pg['AlCl2'] - p_AlCl2) +\n",
    "                     3 * d_AlCl3 * (pg['AlCl3'] - p_AlCl3)  +\n",
    "                     d_HCl * (pg['HCl'] - p_HCl))\n",
    "    system = sm.Matrix(equations)\n",
    "    return system, (p_AlCl, p_AlCl2, p_AlCl3, p_HCl, p_H2)"
   ]
  },
  {
   "cell_type": "code",
   "execution_count": 8,
   "metadata": {},
   "outputs": [],
   "source": [
    "# TODO: REFACTOR CODE\n",
    "Ts = np.linspace(350, 650, 60) + 273\n",
    "nruns = 1\n",
    "delta = 0.01\n",
    "p = pg_1['HCl'] + pg_1['N2']\n",
    "data_for_steps = pd.DataFrame(columns=['T_', 'G_AlCl', 'G_AlCl2', 'G_AlCl3', \n",
    "                                         'rsa', 'rsa_std', 'nstep', 'nstep_std'])\n",
    "targets = ['AlCl', 'AlCl2', 'AlCl3']\n",
    "for k, T in (enumerate(Ts)):\n",
    "    sols = np.zeros((nruns, 5))\n",
    "    rsa = np.zeros(nruns)\n",
    "    nstep = np.zeros(nruns)\n",
    "    for i in range(nruns):\n",
    "        system, first_variables = system1(T=T)\n",
    "        sols[i], rsa[i], nstep[i] = newton_method(system, first_variables)\n",
    "    sol_std = sols.std(0)\n",
    "    solution = sols.mean(0)\n",
    "    rsa_std = rsa.std()\n",
    "    rsa = rsa.mean()\n",
    "    nstep_std = nstep.std()\n",
    "    nstep = nstep.mean()\n",
    "    # G_i\n",
    "    G = {}\n",
    "    pe = dict(zip(map(str, first_variables), solution))\n",
    "    for Gas in targets:\n",
    "        G[Gas] = d(Gas, T, p) * (pg_1[Gas] - pe['p_' + Gas]) / (R * T * delta)\n",
    "    mu = elementsData['Al']['mu']\n",
    "    data_for_steps.loc[k] = {\n",
    "        'T_': T,\n",
    "        'G_AlCl': G['AlCl'],\n",
    "        'G_AlCl2': G['AlCl2'],\n",
    "        'G_AlCl3': G['AlCl3'],\n",
    "        'rsa': rsa,\n",
    "        'rsa_std': rsa_std,\n",
    "        'nstep': nstep,\n",
    "        'nstep_std': nstep_std\n",
    "    }"
   ]
  },
  {
   "cell_type": "code",
   "execution_count": 9,
   "metadata": {},
   "outputs": [],
   "source": [
    "data_for_steps['invT'] = 1 / data_for_steps.T_\n",
    "data_for_steps['G_AlCl_log'] = np.log(np.abs(data_for_steps.G_AlCl))\n",
    "data_for_steps['G_AlCl2_log'] = np.log(np.abs(data_for_steps.G_AlCl2))\n",
    "data_for_steps['G_AlCl3_log'] = np.log(np.abs(data_for_steps.G_AlCl3))\n",
    "graph_data = pd.melt(data_for_steps[['invT', 'G_AlCl_log', \n",
    "                                      'G_AlCl2_log', 'G_AlCl2_log', 'G_AlCl3_log']], id_vars=['invT'])"
   ]
  },
  {
   "cell_type": "code",
   "execution_count": 10,
   "metadata": {},
   "outputs": [
    {
     "data": {
      "image/png": "[encoded data removed]",
      "text/plain": [
       "<Figure size 792x576 with 1 Axes>"
      ]
     },
     "metadata": {},
     "output_type": "display_data"
    },
    {
     "data": {
      "text/plain": [
       "<ggplot: (315217626)>"
      ]
     },
     "execution_count": 10,
     "metadata": {},
     "output_type": "execute_result"
    }
   ],
   "source": [
    "(ggplot(aes(x = 'invT', y = 'value', color='variable'), graph_data) + \n",
    "    geom_line(size=3) + \n",
    "    ylab('log(...)') + \n",
    "    xlab('1/T') + \n",
    "    theme_bw()\n",
    ")"
   ]
  },
  {
   "cell_type": "code",
   "execution_count": null,
   "metadata": {},
   "outputs": [],
   "source": [
    "def system2(T):\n",
    "    p_GaCl, p_GaCl2, p_GaCl3, p_HCl, p_H2 = sm.symbols('p_GaCl, p_GaCl2, p_GaCl3, p_HCl, p_H2')\n",
    "    pg_AlCl = pg_AlCl2 = pg_AlCl3 = pg_H2 = 0\n",
    "    pg_N2 = 90000.0\n",
    "    pg_HCl = 10000.0 \n",
    "    p = pg_N2 + pg_HCl\n",
    "    d_HCl = d('HCl', T, p)\n",
    "    d_H2 = d('H2', T, p)\n",
    "    d_GaCl = d('GaCl', T, p)\n",
    "    d_GaCl2 = d('GaCl2', T, p)\n",
    "    d_GaCl3 = d('GaCl3', T, p)\n",
    "    equations = []\n",
    "    equations.append(p_HCl ** 2 - k4(T) * p_GaCl ** 2 * p_H2)\n",
    "    equations.append(p_HCl ** 2 - k5(T) * p_GaCl2 * p_H2)\n",
    "    equations.append(p_HCl ** 6 - k6(T) * p_GaCl3 ** 2 * p_H2 ** 3)\n",
    "    equations.append(d_HCl * (pg['HCl'] - p_HCl) + 2 * d_H2 * (pg_H2 - p_HCl))\n",
    "    equations.append(d_GaCl  * (pg['GaCl'] - p_GaCl)  + \n",
    "                     2 * d_GaCl2 * (pg['GaCl2'] - p_GaCl2) + \n",
    "                     3 * d_GaCl3 * (pg['GaCl3'] - p_GaCl3) + \n",
    "                     d_HCl * (pg['HCl'] - p_HCl))\n",
    "    system = sm.Matrix(equations)\n",
    "    return system, (p_GaCl, p_GaCl2, p_GaCl3, p_HCl, p_H2)"
   ]
  },
  {
   "cell_type": "code",
   "execution_count": null,
   "metadata": {},
   "outputs": [],
   "source": []
  },
  {
   "cell_type": "code",
   "execution_count": null,
   "metadata": {},
   "outputs": [],
   "source": []
  },
  {
   "cell_type": "code",
   "execution_count": null,
   "metadata": {},
   "outputs": [],
   "source": []
  }
 ],
 "metadata": {
  "kernelspec": {
   "display_name": "Python 3",
   "language": "python",
   "name": "python3"
  },
  "language_info": {
   "codemirror_mode": {
    "name": "ipython",
    "version": 3
   },
   "file_extension": ".py",
   "mimetype": "text/x-python",
   "name": "python",
   "nbconvert_exporter": "python",
   "pygments_lexer": "ipython3",
   "version": "3.7.3"
  }
 },
 "nbformat": 4,
 "nbformat_minor": 4
}
