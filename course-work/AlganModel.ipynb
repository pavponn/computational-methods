{
 "cells": [
  {
   "cell_type": "code",
   "execution_count": 1,
   "metadata": {},
   "outputs": [],
   "source": [
    "import numpy as np\n",
    "import sympy as sm\n",
    "import scipy as sp"
   ]
  },
  {
   "cell_type": "code",
   "execution_count": 2,
   "metadata": {},
   "outputs": [],
   "source": [
    "elementsData = dict()\n",
    "elementsChars = ['H', 'f1', 'f2', 'f3', 'f4', 'f5', 'f6', 'f7', 'mu', 'sigma', 'epsil']\n",
    "elements = ['AlCl', 'AlCl2', 'AlCl3', 'GaCl', 'GaCl2', 'GaCl3', 'NH3', 'H2', 'HCl', 'N2', 'Al', 'Ga', 'AlN', 'GaN']\n",
    "\n",
    "dataFile = open('data.txt', 'r')\n",
    "lines = dataFile.readlines()\n",
    "for line in lines:\n",
    "    dataArr = line.rstrip().split(';')\n",
    "    elementsData[dataArr[0]] = dict()\n",
    "    for i in range(0, len(dataArr) - 1):\n",
    "        elementsData[dataArr[0]][elementsChars[i]] = float(dataArr[i + 1])"
   ]
  },
  {
   "cell_type": "code",
   "execution_count": 3,
   "metadata": {},
   "outputs": [],
   "source": [
    "R = 8.314  # Дж/(кмоль⋅К) - универсальная газовая постоянная\n",
    "P_a = 100000  # Па – полное давление"
   ]
  },
  {
   "cell_type": "code",
   "execution_count": 4,
   "metadata": {},
   "outputs": [],
   "source": [
    "'''\n",
    "d - коэффициент диффузии (м2/сек)\n",
    "compIndex - название элемента\n",
    "temperature - температура\n",
    "pressure - полное давление в системе (P_i_g - P_i_e)\n",
    "'''\n",
    "def d(compIndex, temperature, pressure):\n",
    "    numerator = 2.628 * 10 ** (-2) * temperature ** (3 / 2)\n",
    "\n",
    "    dataForIndex = elementsData[compIndex]\n",
    "    dataForN2 = elementsData['N2']\n",
    "\n",
    "    sigma = (dataForIndex['sigma'] + dataForN2['sigma']) / 2\n",
    "    epsil = (dataForIndex['epsil'] * dataForN2['epsil']) ** (1 / 2)\n",
    "    mu = (2 * dataForIndex['mu'] * dataForN2['mu']) / (dataForIndex['mu'] + dataForN2['mu'])\n",
    "    omega = 1.074 * (temperature / epsil) ** (-0.1604)\n",
    "\n",
    "    return numerator / (pressure * sigma * omega * mu ** (1 / 2))\n",
    "\n",
    "\"\"\"\n",
    "phi нужно для расчета энергии Гиббса (G)\n",
    "compIndex - название элемента\n",
    "temperature - температура\n",
    "\"\"\"\n",
    "def phi(compIndex, temperature):\n",
    "    dataForIndex = elementsData[compIndex]\n",
    "\n",
    "    x = temperature / 10 ** 4\n",
    "    return dataForIndex['f1'] + \\\n",
    "           dataForIndex['f2'] * np.log(x) + \\\n",
    "           dataForIndex['f3'] / x ** 2 + \\\n",
    "           dataForIndex['f4'] / x + \\\n",
    "           dataForIndex['f5'] * x + \\\n",
    "           dataForIndex['f6'] * x ** 2 + \\\n",
    "           dataForIndex['f7'] * x ** 3\n",
    "\"\"\"\n",
    "g - Энергия Гиббса\n",
    "compIndex - название элемента\n",
    "temperature - температура\n",
    "\"\"\"\n",
    "def g(compIndex, temperature):\n",
    "    dataForIndex = elementsData[compIndex]\n",
    "    return dataForIndex['H'] - phi(compIndex, temperature) * temperature\n"
   ]
  },
  {
   "cell_type": "code",
   "execution_count": 5,
   "metadata": {},
   "outputs": [],
   "source": [
    "#ета надо будет для первого задания\n",
    "def k1(temperature):\n",
    "    g1Diff = 2 * g('Al', temperature) + 2 * g('HCl', temperature) - 2 * g('AlCl', temperature) - g('H2', temperature)\n",
    "    return np.exp(-g1Diff / (R * temperature)) / P_a\n",
    "\n",
    "def k2(temperature):\n",
    "    g2Diff = g('Al', temperature) + 2 * g('HCl', temperature) - g('AlCl2', temperature) - g('H2', temperature)\n",
    "    return np.exp(-g2Diff / (R * temperature))\n",
    "\n",
    "def k3(temperature):\n",
    "    g3Diff = g('Al', temperature) - 2 * g('AlCl3', temperature) - 3 * g('H2', temperature) + 6 * g('HCl', temperature)\n",
    "    return np.exp(-g3Diff / (R * temperature)) * P_a\n",
    "\n",
    "#ета надо будет для второго задания\n",
    "def k4(temperature):\n",
    "    g4Diff = g('Ga', temperature) + 2 * g('HCl', temperature) - 2 * g('GaCl', temperature) - g('H2', temperature)\n",
    "    return np.exp(-g4Diff / (R * temperature)) / P_a\n",
    "\n",
    "def k5(temperature):\n",
    "    g5Diff = g('GaCl2', temperature) + g('H2', temperature) - 2 * g('HCl', temperature) - g('Ga', temperature)\n",
    "    return np.exp(g5Diff / (R * temperature))\n",
    "\n",
    "def k6(temperature):\n",
    "    g6Diff = 2 * g('GaCl3', temperature) + 3 * g('H2', temperature) - 6 * g('HCl', temperature) - 2 * g('Ga', temperature)\n",
    "    return np.exp(g6Diff / (R * temperature)) * P_a\n",
    "\n",
    "#ета надо будет для третьего задания\n",
    "def k9(temperature):\n",
    "    g9Diff = g('AlCl3', temperature) + g('NH3', temperature) - g('AlN', temperature) - 3 * g('HCl', temperature)\n",
    "    return np.exp(-g9Diff / (R * temperature)) / P_a\n",
    "\n",
    "def k10(temperature):\n",
    "    g10Diff = g('GaCl', temperature) + g('NH3', temperature) - g('HCl', temperature) - g('H2', temperature) - g('GaN', temperature)\n",
    "    return np.exp(-g10Diff / (R * temperature))"
   ]
  },
  {
   "cell_type": "code",
   "execution_count": 6,
   "metadata": {},
   "outputs": [],
   "source": [
    "def newton_method(system, variables, eps=1e-9):\n",
    "    jacobian = sm.lambdify(variables, system.jacobian(variables))\n",
    "    system = sm.lambdify(variables, system)\n",
    "    \n",
    "    x = np.random.uniform(0.1, 1., len(variables)).tolist()\n",
    "    delta = 1\n",
    "    steps = 0\n",
    "    while np.linalg.norm(delta) > eps:\n",
    "        delta = sp.linalg.lu_solve(sp.linalg.lu_factor(jacobian(*x)), -system(*x))\n",
    "        x = delta.flatten() + x\n",
    "        steps += 1\n",
    "    rsa = np.abs(system(*x.tolist())).sum()\n",
    "    return x, rsa, steps"
   ]
  },
  {
   "cell_type": "markdown",
   "metadata": {},
   "source": [
    "# Задание №1"
   ]
  },
  {
   "cell_type": "code",
   "execution_count": 7,
   "metadata": {},
   "outputs": [
    {
     "name": "stdout",
     "output_type": "stream",
     "text": [
      "One of solutions:\n"
     ]
    },
    {
     "data": {
      "text/plain": [
       "{p_AlCl: 0.004220558330250097,\n",
       " p_AlCl2: 0.0001862660837734311,\n",
       " p_AlCl3: 5983.089564621574,\n",
       " p_HCl: 0.0001446675551736787,\n",
       " p_H2: 1561.368796088631}"
      ]
     },
     "execution_count": 7,
     "metadata": {},
     "output_type": "execute_result"
    }
   ],
   "source": [
    "\"\"\"\n",
    "Парциальные давления компонент вне диффузионного пограничного слоя (Па)\n",
    "PS Даны в условии поэтому дефайним только для этого задания\n",
    "ind - 'AlCl', 'GaN, ... \n",
    "\"\"\"\n",
    "# def first_calcPg(ind):\n",
    "#     if ind == 'AlCl' or ind == 'AlCl2' or ind == 'AlCl3' or ind == 'H2':\n",
    "#         return 0\n",
    "#     if ind == 'HCl':\n",
    "#         return 10000\n",
    "#     if ind == 'N2':\n",
    "#         return 90000\n",
    "#     raise Exception('Unexpected substance: ' + ind)\n",
    "\n",
    "\n",
    "def system1(pg_HCl=10000.0, p=100000, T=(350.0 + 273.0)):\n",
    "    p_AlCl, p_AlCl2, p_AlCl3, p_HCl, p_H2 = sm.symbols('p_AlCl, p_AlCl2, p_AlCl3, p_HCl, p_H2')\n",
    "    d_HCl = d('HCl', T, p)\n",
    "    d_H2 = d('H2', T, p)\n",
    "    d_AlCl = d('AlCl', T, p)\n",
    "    d_AlCl2 = d('AlCl2', T, p)\n",
    "    d_AlCl3 = d('AlCl3', T, p)\n",
    "    equations = []\n",
    "    equations.append(p_HCl ** 2 - k1(T) * p_AlCl ** 2 * p_H2)\n",
    "    equations.append(p_HCl ** 2 - k2(T) * p_AlCl2 * p_H2)\n",
    "    equations.append(p_HCl ** 6 - k3(T) * p_AlCl3 ** 2 * p_H2 ** 3)\n",
    "    equations.append(d_HCl * (p_HCl - pg_HCl) + 2 * d_H2 * p_H2)\n",
    "    equations.append(d_AlCl  * p_AlCl  + \n",
    "                 2 * d_AlCl2 * p_AlCl2 + \n",
    "                 3 * d_AlCl3 * p_AlCl3 + \n",
    "                     d_HCl * (p_HCl - pg_HCl))\n",
    "    system = sm.Matrix(equations)\n",
    "    return system, (p_AlCl, p_AlCl2, p_AlCl3, p_HCl, p_H2)\n",
    "\n",
    "print('One of solutions:')\n",
    "system, variables = system1(T=350 + 273)\n",
    "dict(zip(variables, newton_method(system, variables)[0]))"
   ]
  },
  {
   "cell_type": "code",
   "execution_count": null,
   "metadata": {},
   "outputs": [],
   "source": []
  },
  {
   "cell_type": "code",
   "execution_count": null,
   "metadata": {},
   "outputs": [],
   "source": []
  },
  {
   "cell_type": "code",
   "execution_count": null,
   "metadata": {},
   "outputs": [],
   "source": []
  }
 ],
 "metadata": {
  "kernelspec": {
   "display_name": "Python 3",
   "language": "python",
   "name": "python3"
  },
  "language_info": {
   "codemirror_mode": {
    "name": "ipython",
    "version": 3
   },
   "file_extension": ".py",
   "mimetype": "text/x-python",
   "name": "python",
   "nbconvert_exporter": "python",
   "pygments_lexer": "ipython3",
   "version": "3.7.3"
  }
 },
 "nbformat": 4,
 "nbformat_minor": 4
}
