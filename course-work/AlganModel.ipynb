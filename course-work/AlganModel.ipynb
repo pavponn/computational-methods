{
 "cells": [
  {
   "cell_type": "code",
   "execution_count": 1,
   "metadata": {},
   "outputs": [],
   "source": [
    "import time\n",
    "import numpy as np\n",
    "import sympy as sm\n",
    "import scipy as sp\n",
    "import pandas as pd\n",
    "from ggplot import *\n",
    "from itertools import product\n",
    "from matplotlib.axes._axes import _log as matplotlib_axes_logger\n",
    "\n",
    "matplotlib_axes_logger.setLevel('ERROR')"
   ]
  },
  {
   "cell_type": "code",
   "execution_count": 2,
   "metadata": {},
   "outputs": [],
   "source": [
    "elementsData = dict()\n",
    "elementsChars = ['H', 'f1', 'f2', 'f3', 'f4', 'f5', 'f6', 'f7', 'mu', 'sigma', 'epsil']\n",
    "elements = ['AlCl', 'AlCl2', 'AlCl3', 'GaCl', 'GaCl2', 'GaCl3', 'NH3', 'H2', 'HCl', 'N2', 'Al', 'Ga', 'AlN', 'GaN']\n",
    "\n",
    "dataFile = open('data.txt', 'r')\n",
    "lines = dataFile.readlines()\n",
    "for line in lines:\n",
    "    dataArr = line.rstrip().split(';')\n",
    "    elementsData[dataArr[0]] = dict()\n",
    "    for i in range(0, len(dataArr) - 1):\n",
    "        elementsData[dataArr[0]][elementsChars[i]] = float(dataArr[i + 1])"
   ]
  },
  {
   "cell_type": "code",
   "execution_count": 3,
   "metadata": {},
   "outputs": [],
   "source": [
    "R = 8.314  # Дж/(кмоль⋅К) - универсальная газовая постоянная\n",
    "P_a = 100000  # Па – полное давление"
   ]
  },
  {
   "cell_type": "code",
   "execution_count": 4,
   "metadata": {},
   "outputs": [],
   "source": [
    "\"\"\"\n",
    "d - коэффициент диффузии (м2/сек)\n",
    "compIndex - название элемента\n",
    "temperature - температура\n",
    "pressure - полное давление в системе (P^g_i - P^e_i)\n",
    "\"\"\"\n",
    "def d(compIndex, temperature, pressure):\n",
    "    numerator = 2.628 * 10 ** (-2) * temperature ** (3 / 2)\n",
    "\n",
    "    dataForIndex = elementsData[compIndex]\n",
    "    dataForN2 = elementsData['N2']\n",
    "\n",
    "    sigma = (dataForIndex['sigma'] + dataForN2['sigma']) / 2\n",
    "    epsil = (dataForIndex['epsil'] * dataForN2['epsil']) ** (1 / 2)\n",
    "    mu = (2 * dataForIndex['mu'] * dataForN2['mu']) / (dataForIndex['mu'] + dataForN2['mu'])\n",
    "    omega = 1.074 * (temperature / epsil) ** (-0.1604)\n",
    "\n",
    "    return numerator / (pressure * sigma * omega * mu ** (1 / 2))\n",
    "\n",
    "\"\"\"\n",
    "phi нужно для расчета энергии Гиббса (G)\n",
    "compIndex - название элемента\n",
    "temperature - температура\n",
    "\"\"\"\n",
    "def phi(compIndex, temperature):\n",
    "    dataForIndex = elementsData[compIndex]\n",
    "\n",
    "    x = temperature / 10 ** 4\n",
    "    return dataForIndex['f1'] + \\\n",
    "           dataForIndex['f2'] * np.log(x) + \\\n",
    "           dataForIndex['f3'] / x ** 2 + \\\n",
    "           dataForIndex['f4'] / x + \\\n",
    "           dataForIndex['f5'] * x + \\\n",
    "           dataForIndex['f6'] * x ** 2 + \\\n",
    "           dataForIndex['f7'] * x ** 3\n",
    "\"\"\"\n",
    "g - Энергия Гиббса\n",
    "compIndex - название элемента\n",
    "temperature - температура\n",
    "\"\"\"\n",
    "def g(compIndex, temperature):\n",
    "    dataForIndex = elementsData[compIndex]\n",
    "    return dataForIndex['H'] - phi(compIndex, temperature) * temperature\n"
   ]
  },
  {
   "cell_type": "code",
   "execution_count": 5,
   "metadata": {},
   "outputs": [],
   "source": [
    "# Коэффициенты равновесия для первого задания\n",
    "def k1(temperature):\n",
    "    g1Diff = 2 * g('Al', temperature) + 2 * g('HCl', temperature) - 2 * g('AlCl', temperature) - g('H2', temperature)\n",
    "    return np.exp(-g1Diff / (R * temperature)) / P_a\n",
    "\n",
    "def k2(temperature):\n",
    "    g2Diff = g('Al', temperature) + 2 * g('HCl', temperature) - g('AlCl2', temperature) - g('H2', temperature)\n",
    "    return np.exp(-g2Diff / (R * temperature))\n",
    "\n",
    "def k3(temperature):\n",
    "    g3Diff = 2 * g('Al', temperature) - 2 * g('AlCl3', temperature) - 3 * g('H2', temperature) + 6 * g('HCl', temperature)\n",
    "    return np.exp(-g3Diff / (R * temperature)) * P_a\n",
    "\n",
    "# Коэффициенты равновесия для второго задания\n",
    "def k4(temperature):\n",
    "    g4Diff = 2 * g('Ga', temperature) + 2 * g('HCl', temperature) - 2 * g('GaCl', temperature) - g('H2', temperature)\n",
    "    return np.exp(-g4Diff / (R * temperature)) / P_a\n",
    "\n",
    "def k5(temperature):\n",
    "    g5Diff = g('GaCl2', temperature) + g('H2', temperature) - 2 * g('HCl', temperature) - g('Ga', temperature)\n",
    "    return np.exp(g5Diff / (R * temperature))\n",
    "\n",
    "def k6(temperature):\n",
    "    g6Diff = 2 * g('GaCl3', temperature) + 3 * g('H2', temperature) - 6 * g('HCl', temperature) - 2 * g('Ga', temperature)\n",
    "    return np.exp(g6Diff / (R * temperature)) * P_a\n",
    "\n",
    "# Коэффициенты равновесия для третьего задания\n",
    "def k9(temperature):\n",
    "    g9Diff = g('AlCl3', temperature) + g('NH3', temperature) - g('AlN', temperature) - 3 * g('HCl', temperature)\n",
    "    return np.exp(-g9Diff / (R * temperature)) / P_a\n",
    "\n",
    "def k10(temperature):\n",
    "    g10Diff = g('GaCl', temperature) + g('NH3', temperature) - g('HCl', temperature) - g('H2', temperature) - g('GaN', temperature)\n",
    "    return np.exp(-g10Diff / (R * temperature))"
   ]
  },
  {
   "cell_type": "markdown",
   "metadata": {},
   "source": [
    "**Метод Ньютона**\n",
    "\n",
    "В качестве численного метода для решения СНАУ был выбран бызовый метод Ньютона без модификаций, которому на вход подается начальное приближение (способы выбора описаны в решении задания), сама система и набор неизвестных (последние два получены с помощью библиотеки sympy - библиотеки для символьных вычислений). Изначально получаем якобиан нашей системы с помощью уже упомянутой библиотеки. Далее на каждом шаге мы находим <чо находим?> и <чот прибавляем>, пока длина найденного вектора больше заданной точности, которую мы указали, или пока мы не упремся в лимит шагов (это сделано, чтобы не уйти в бесконечный цикл при отсутствии решения). Как только мы нашли решение с нужной точностью или уперлись в лимит шагов, мы возвращаем результат."
   ]
  },
  {
   "cell_type": "code",
   "execution_count": 6,
   "metadata": {},
   "outputs": [],
   "source": [
    "def newton_method(initX, system, variables):\n",
    "    start_time = time.time()\n",
    "\n",
    "    jacobian = sm.lambdify(variables, system.jacobian(variables))\n",
    "    system = sm.lambdify(variables, system)\n",
    "    \n",
    "    x = initX\n",
    "    eps = 1e-9\n",
    "    LIMIT = 1e8\n",
    "    delta = [1]\n",
    "    steps = 0\n",
    "    while np.linalg.norm(delta) > eps and steps < LIMIT:\n",
    "        delta = sp.linalg.lu_solve(sp.linalg.lu_factor(jacobian(*x)), -system(*x))\n",
    "        x = delta.flatten() + x\n",
    "        steps += 1\n",
    "    print(\"--- %s seconds ---\" % (time.time() - start_time))\n",
    "    print(\"--- %d steps ---\\n\" % steps)\n",
    "    return x"
   ]
  },
  {
   "cell_type": "markdown",
   "metadata": {},
   "source": [
    "# Задание №1"
   ]
  },
  {
   "cell_type": "markdown",
   "metadata": {},
   "source": [
    "**Система:**\n",
    "\n",
    "\n",
    "(P<sup>e</sup><sub>HCl</sub>)<sup>2</sup> - K<sub>1</sub> (P<sup>e</sup><sub>AlCl</sub>)<sup>2</sup>P<sup>e</sup><sub>H2</sub> = 0\n",
    "\n",
    "(P<sup>e</sup><sub>HCl</sub>)<sup>2</sup> - K<sub>2</sub> (P<sup>e</sup><sub>AlCl2</sub>)<sup>2</sup>P<sup>e</sup><sub>H2</sub> = 0\n",
    "\n",
    "(P<sup>e</sup><sub>HCl</sub>)<sup>6</sup> - K<sub>3</sub> (P<sup>e</sup><sub>AlCl3</sub>)<sup>2</sup>(P<sup>e</sup><sub>H2</sub>)<sup>3</sup> = 0\n",
    "\n",
    "\n",
    "D<sub>HCl</sub>(P<sup>g</sup><sub>HCl</sub> - P<sup>e</sup><sub>HCl</sub>) + 2D<sub>H2</sub>(P<sup>g</sup><sub>H2</sub> - P<sup>e</sup><sub>H2</sub>) = 0\n",
    "\n",
    "D<sub>AlCl</sub>(P<sup>g</sup><sub>AlCl</sub> - P<sup>e</sup><sub>AlCl</sub>) + 2D<sub>AlCl2</sub>(P<sup>g</sup><sub>AlCl2</sub> - P<sup>e</sup><sub>AlCl2</sub>) + 3D<sub>AlCl3</sub>(P<sup>g</sup><sub>AlCl3</sub> - P<sup>e</sup><sub>AlCl3</sub>) + D<sub>HCl</sub>(P<sup>g</sup><sub>HCl</sub> - P<sup>e</sup><sub>HCl</sub>) = 0\n",
    "\n",
    "\n",
    "На каждом шаге для температур $T = 350\\dots650℃$ с шагом $dT = 10℃$ производится решение данной СНУ, \n",
    "\n",
    "Такое решение даёт требуемые термодинамические давления, а с помощью формулы\n",
    "\n",
    "$G_i = D_i \\cdot (P^g_{i} - P^e_{i}) / RT\\delta$\n",
    "\n",
    "находятся межфазные потоки активных компонент. Далее по формуле\n",
    "\n",
    "$ V^e_{Al} = (G_{AlCl} + G_{AlCl2} + G_{AlCl3}) (\\mu_{Al} / \\rho_{Al}) * 10^9$\n",
    "\n",
    "находится скорость испарения алюминиевого источника."
   ]
  },
  {
   "cell_type": "code",
   "execution_count": 7,
   "metadata": {},
   "outputs": [],
   "source": [
    "\"\"\"\n",
    "Парциальные давления компонент вне диффузионного пограничного слоя (Па) из условия заданий №1 и №2\n",
    "\"\"\"\n",
    "pg = { 'GaCl' : 0, 'GaCl2' : 0, 'GaCl3' : 0, \n",
    "       'AlCl' : 0, 'AlCl2' : 0, 'AlCl3' : 0, \n",
    "       'H2' : 0, 'N2' : 90000.0, 'HCl' : 10000.0 \n",
    "     }\n",
    "\n",
    "def system1(T):\n",
    "    p_e_AlCl, p_e_AlCl2, p_e_AlCl3, p_e_HCl, p_e_H2 = sm.symbols('p_e_AlCl, p_e_AlCl2, p_e_AlCl3, p_e_HCl, p_e_H2')\n",
    "    p = pg['N2'] + pg['HCl']\n",
    "    d_HCl = d('HCl', T, p)\n",
    "    d_H2 = d('H2', T, p)\n",
    "    d_AlCl = d('AlCl', T, p)\n",
    "    d_AlCl2 = d('AlCl2', T, p)\n",
    "    d_AlCl3 = d('AlCl3', T, p)\n",
    "    equations = []\n",
    "    equations.append(p_e_HCl ** 2 - k1(T) * p_e_AlCl ** 2 * p_e_H2)\n",
    "    equations.append(p_e_HCl ** 2 - k2(T) * p_e_AlCl2 * p_e_H2)\n",
    "    equations.append(p_e_HCl ** 6 - k3(T) * p_e_AlCl3 ** 2 * p_e_H2 ** 3)\n",
    "    equations.append(d_HCl * (pg['HCl'] - p_e_HCl) + 2 * p_e_H2 * (pg['H2'] - p_e_H2))\n",
    "    equations.append(d_AlCl * (pg['AlCl'] - p_e_AlCl) + \n",
    "                     2 * d_AlCl2 * (pg['AlCl2'] - p_e_AlCl2) +\n",
    "                     3 * d_AlCl3 * (pg['AlCl3'] - p_e_AlCl3)  +\n",
    "                     d_HCl * (pg['HCl'] - p_e_HCl))\n",
    "    system = sm.Matrix(equations)\n",
    "    return system, (p_e_AlCl, p_e_AlCl2, p_e_AlCl3, p_e_HCl, p_e_H2)"
   ]
  },
  {
   "cell_type": "markdown",
   "metadata": {},
   "source": [
    "**Решение задачи о конверсии хлороводорода (HCl) в хлориды алюминия (AlCl)**\n",
    "\n",
    "Перебираем температуры в промежутке, указанном в задании (350-650 градусов по Цельсию), предварительно переводя их в градусы по Кельвину (+ 273). Для каждого значение температуры составляем систему и решаем её выше описанным методом. Получив значение термодинамических давлений, мы высчитываем межфазные потоки (G) на поверхности жидкого галлия для интересующих нас элементов, а затем и скорость испарения источника по формуле представленной в задании. Значения всех констант взяты из условия. В качестве начального приближения на первом шаге мы берем набор состоящий из элементов равномерного распредления от 0 до 1 необходимой длинны, а на последующих итерациях в качестве начального приближения используем сошедшееся решение системы прошлого шага."
   ]
  },
  {
   "cell_type": "code",
   "execution_count": 8,
   "metadata": {
    "scrolled": true
   },
   "outputs": [
    {
     "name": "stdout",
     "output_type": "stream",
     "text": [
      "--- 0.04698014259338379 seconds ---\n",
      "--- 64 steps ---\n",
      "\n",
      "--- 0.030813932418823242 seconds ---\n",
      "--- 8 steps ---\n",
      "\n",
      "--- 0.0316159725189209 seconds ---\n",
      "--- 8 steps ---\n",
      "\n",
      "--- 0.03322911262512207 seconds ---\n",
      "--- 8 steps ---\n",
      "\n",
      "--- 0.031343936920166016 seconds ---\n",
      "--- 7 steps ---\n",
      "\n",
      "--- 0.03133511543273926 seconds ---\n",
      "--- 7 steps ---\n",
      "\n",
      "--- 0.03234291076660156 seconds ---\n",
      "--- 7 steps ---\n",
      "\n",
      "--- 0.03457212448120117 seconds ---\n",
      "--- 7 steps ---\n",
      "\n",
      "--- 0.03192400932312012 seconds ---\n",
      "--- 7 steps ---\n",
      "\n",
      "--- 0.0317690372467041 seconds ---\n",
      "--- 7 steps ---\n",
      "\n",
      "--- 0.032373905181884766 seconds ---\n",
      "--- 7 steps ---\n",
      "\n",
      "--- 0.031646013259887695 seconds ---\n",
      "--- 7 steps ---\n",
      "\n",
      "--- 0.03249073028564453 seconds ---\n",
      "--- 7 steps ---\n",
      "\n",
      "--- 0.03377890586853027 seconds ---\n",
      "--- 7 steps ---\n",
      "\n",
      "--- 0.03209877014160156 seconds ---\n",
      "--- 7 steps ---\n",
      "\n",
      "--- 0.03145790100097656 seconds ---\n",
      "--- 7 steps ---\n",
      "\n",
      "--- 0.031052112579345703 seconds ---\n",
      "--- 7 steps ---\n",
      "\n",
      "--- 0.03539299964904785 seconds ---\n",
      "--- 7 steps ---\n",
      "\n",
      "--- 0.032553911209106445 seconds ---\n",
      "--- 7 steps ---\n",
      "\n",
      "--- 0.034876108169555664 seconds ---\n",
      "--- 7 steps ---\n",
      "\n",
      "--- 0.031891822814941406 seconds ---\n",
      "--- 7 steps ---\n",
      "\n",
      "--- 0.03143191337585449 seconds ---\n",
      "--- 6 steps ---\n",
      "\n",
      "--- 0.0310211181640625 seconds ---\n",
      "--- 6 steps ---\n",
      "\n",
      "--- 0.03154301643371582 seconds ---\n",
      "--- 6 steps ---\n",
      "\n",
      "--- 0.031533002853393555 seconds ---\n",
      "--- 6 steps ---\n",
      "\n",
      "--- 0.03565406799316406 seconds ---\n",
      "--- 6 steps ---\n",
      "\n",
      "--- 0.031794071197509766 seconds ---\n",
      "--- 6 steps ---\n",
      "\n",
      "--- 0.032402992248535156 seconds ---\n",
      "--- 6 steps ---\n",
      "\n",
      "--- 0.031032085418701172 seconds ---\n",
      "--- 6 steps ---\n",
      "\n",
      "--- 0.07611513137817383 seconds ---\n",
      "--- 6 steps ---\n",
      "\n"
     ]
    }
   ],
   "source": [
    "temperatures = np.linspace(350, 650, 30) + 273\n",
    "delta = 0.01\n",
    "p = pg['HCl'] + pg['N2']\n",
    "data_for_temperature = pd.DataFrame(columns=['T_', 'V_Al', 'G_AlCl', 'G_AlCl2', 'G_AlCl3'])\n",
    "targets = ['AlCl', 'AlCl2', 'AlCl3']\n",
    "initX = np.random.uniform(0.1, 1., 5).tolist()\n",
    "for k, T in (enumerate(temperatures)):\n",
    "    system, variables = system1(T)\n",
    "    solution = newton_method(initX, system, variables)\n",
    "    initX = solution\n",
    "    # G for elements\n",
    "    G = {}\n",
    "    pe = dict(zip(map(str, variables), solution))\n",
    "    for gasIndex in targets:\n",
    "        G[gasIndex] = d(gasIndex, T, p) * (pg[gasIndex] - pe['p_e_' + gasIndex]) / (8314 * T * delta)\n",
    "    density_Al = 2690\n",
    "    mu_Al = elementsData['Al']['mu']\n",
    "    V_Al = (G['AlCl'] + G['AlCl2'] + G['AlCl3']) * (mu_Al / density_Al) * 1e9\n",
    "    data_for_temperature.loc[k] = {\n",
    "        'T_': T,\n",
    "        'V_Al': V_Al,\n",
    "        'G_AlCl': G['AlCl'],\n",
    "        'G_AlCl2': G['AlCl2'],\n",
    "        'G_AlCl3': G['AlCl3'],\n",
    "    }"
   ]
  },
  {
   "cell_type": "markdown",
   "metadata": {},
   "source": [
    "Собираем все необходимые данные в таблицу. Как нас просили в задании, берем значение обратное температуре в качестве координаты по X и линейный логарифм искомой величины по Y."
   ]
  },
  {
   "cell_type": "code",
   "execution_count": 9,
   "metadata": {},
   "outputs": [],
   "source": [
    "data_for_temperature['invT'] = 1 / data_for_temperature.T_\n",
    "data_for_temperature['G_AlCl_log'] = np.log(np.abs(data_for_temperature.G_AlCl))\n",
    "data_for_temperature['G_AlCl2_log'] = np.log(np.abs(data_for_temperature.G_AlCl2))\n",
    "data_for_temperature['G_AlCl3_log'] = np.log(np.abs(data_for_temperature.G_AlCl3))\n",
    "data_for_temperature['V_Al_log'] = np.log(np.abs(data_for_temperature.V_Al))\n",
    "\n",
    "graph_data_comps = pd.melt(data_for_temperature[['invT', 'G_AlCl_log', \n",
    "                                      'G_AlCl2_log', 'G_AlCl3_log']], id_vars=['invT'])\n",
    "graph_data_speed = pd.melt(data_for_temperature[['invT', 'V_Al_log']], id_vars=['invT'])"
   ]
  },
  {
   "cell_type": "code",
   "execution_count": 10,
   "metadata": {
    "scrolled": false
   },
   "outputs": [
    {
     "data": {
      "image/png": "[encoded data removed]",
      "text/plain": [
       "<Figure size 792x576 with 1 Axes>"
      ]
     },
     "metadata": {},
     "output_type": "display_data"
    },
    {
     "data": {
      "text/plain": [
       "<ggplot: (316317301)>"
      ]
     },
     "execution_count": 10,
     "metadata": {},
     "output_type": "execute_result"
    }
   ],
   "source": [
    "(ggplot(aes(x = 'invT', y = 'value', color='variable'), graph_data_comps) + \n",
    "    geom_point(size=35) + \n",
    "    ylab('ln(G_ind)') + \n",
    "    xlab('1/T') + \n",
    "    theme_bw()\n",
    ")"
   ]
  },
  {
   "cell_type": "markdown",
   "metadata": {},
   "source": [
    "На графике выше представлены диаграммы Аррениуса для G<sub>AlCl</sub>, G<sub>AlCl2</sub>, G<sub>AlCl3</sub>"
   ]
  },
  {
   "cell_type": "markdown",
   "metadata": {},
   "source": [
    "Из этого можно делать вывод, что преобладающим Al-содержащим компонентом является AlCl<sub>3</sub>.\n",
    "\n",
    "Также установим зависимость скорости испарения источника алюминия V<sup>e</sup><sub>Al</sub> в зависимости от $1/T$."
   ]
  },
  {
   "cell_type": "code",
   "execution_count": 11,
   "metadata": {
    "scrolled": false
   },
   "outputs": [
    {
     "data": {
      "image/png": "[encoded data removed]",
      "text/plain": [
       "<Figure size 792x576 with 1 Axes>"
      ]
     },
     "metadata": {},
     "output_type": "display_data"
    },
    {
     "data": {
      "text/plain": [
       "<ggplot: (302220421)>"
      ]
     },
     "execution_count": 11,
     "metadata": {},
     "output_type": "execute_result"
    }
   ],
   "source": [
    "(ggplot(aes(x = 'invT', y = 'value', color='variable'), graph_data_speed) + \n",
    "    geom_point(size=35) + \n",
    "    ylab('ln(V_Al)') + \n",
    "    xlab('1/T') + \n",
    "    theme_bw()\n",
    ")"
   ]
  },
  {
   "cell_type": "markdown",
   "metadata": {},
   "source": [
    "# Задание №2\n"
   ]
  },
  {
   "cell_type": "markdown",
   "metadata": {},
   "source": [
    "**Система:**\n",
    "\n",
    "\n",
    "(P<sup>e</sup><sub>HCl</sub>)<sup>2</sup> - K<sub>4</sub> (P<sup>e</sup><sub>GaCl</sub>)<sup>2</sup>P<sup>e</sup><sub>H2</sub> = 0\n",
    "\n",
    "(P<sup>e</sup><sub>HCl</sub>)<sup>2</sup> - K<sub>5</sub> P<sup>e</sup><sub>GaCl2</sub>P<sup>e</sup><sub>H2</sub> = 0\n",
    "\n",
    "(P<sup>e</sup><sub>HCl</sub>)<sup>6</sup> - K<sub>6</sub> (P<sup>e</sup><sub>GaCl3</sub>)<sup>2</sup>(P<sup>e</sup><sub>H2</sub>)<sup>3</sup> = 0\n",
    "\n",
    "\n",
    "D<sub>HCl</sub>(P<sup>g</sup><sub>HCl</sub> - P<sup>e</sup><sub>HCl</sub>) + 2D<sub>H2</sub>(P<sup>g</sup><sub>H2</sub> - P<sup>e</sup><sub>H2</sub>) = 0\n",
    "\n",
    "D<sub>GaCl</sub>(P<sup>g</sup><sub>GaCl</sub> - P<sup>e</sup><sub>GaCl</sub>) + 2D<sub>GaCl2</sub>(P<sup>g</sup><sub>GaCl2</sub> - P<sup>e</sup><sub>GaCl2</sub>) + 3D<sub>GaCl3</sub>(P<sup>g</sup><sub>GaCl3</sub> - P<sup>e</sup><sub>GaCl3</sub>) + D<sub>HCl</sub>(P<sup>g</sup><sub>HCl</sub> - P<sup>e</sup><sub>HCl</sub>) = 0\n",
    "\n",
    "На каждом шаге для температур $T = 350\\dots650℃$ с шагом $dT = 10℃$ производится решение данной СНУ, \n",
    "\n",
    "Такое решение даёт требуемые термодинамические давления, а с помощью формулы\n",
    "\n",
    "$G_i = D_i \\cdot (P^g_{i} - P^e_{i}) / RT\\delta$\n",
    "\n",
    "находятся межфазные потоки активных компонент. Далее по формуле\n",
    "\n",
    "$ V^e_{Ga} = (G_{GaCl} + G_{GaCl_2} + G_{GaCl_3}) (\\mu_{Ga} / \\rho_{Ga}) * 10^9$\n",
    "\n",
    "находится скорость испарения источника галлия."
   ]
  },
  {
   "cell_type": "code",
   "execution_count": 12,
   "metadata": {},
   "outputs": [],
   "source": [
    "def system2(T):\n",
    "    p_e_GaCl, p_e_GaCl2, p_e_GaCl3, p_e_HCl, p_e_H2 = sm.symbols('p_e_GaCl, p_e_GaCl2, p_e_GaCl3, p_e_HCl, p_e_H2')\n",
    "    p = pg['N2'] + pg['HCl']\n",
    "    d_HCl = d('HCl', T, p)\n",
    "    d_H2 = d('H2', T, p)\n",
    "    d_GaCl = d('GaCl', T, p)\n",
    "    d_GaCl2 = d('GaCl2', T, p)\n",
    "    d_GaCl3 = d('GaCl3', T, p)\n",
    "    equations = []\n",
    "    equations.append(p_e_HCl ** 2 - k4(T) * p_e_GaCl ** 2 * p_e_H2)\n",
    "    equations.append(p_e_HCl ** 2 - k5(T) * p_e_GaCl2 * p_e_H2)\n",
    "    equations.append(p_e_HCl ** 6 - k6(T) * p_e_GaCl3 ** 2 * p_e_H2 ** 3)\n",
    "    equations.append(d_HCl * (pg['HCl'] - p_e_HCl) + 2 * d_H2 * (pg['H2'] - p_e_H2))\n",
    "    equations.append(d_GaCl  * (pg['GaCl'] - p_e_GaCl)  + \n",
    "                     2 * d_GaCl2 * (pg['GaCl2'] - p_e_GaCl2) + \n",
    "                     3 * d_GaCl3 * (pg['GaCl3'] - p_e_GaCl3) + \n",
    "                     d_HCl * (pg['HCl'] - p_e_HCl))\n",
    "    system = sm.Matrix(equations)\n",
    "    return system, (p_e_GaCl, p_e_GaCl2, p_e_GaCl3, p_e_HCl, p_e_H2)"
   ]
  },
  {
   "cell_type": "markdown",
   "metadata": {},
   "source": [
    "**Решение задачи о конверсии хлороводорода (HCl) в хлориды галия (GaCl)**\n",
    "\n",
    "Перебираем температуры в промежутке, указанном в задании (650-950 градусов по Цельсию), предварительно переводя их в градусы по Кельвину (+ 273). Для каждого значение температуры составляем систему и решаем её выше описанным методом. Получив значение термодинамических давлений, мы высчитываем межфазные потоки (G) на поверхности жидкого галлия для интересующих нас элементов, а затем и скорость испарения источника по формуле представленной в задании. Значения всех констант взяты из условия. В качестве начального приближения на первом шаге мы берем набор состоящий из элементов равномерного распредления от 0 до 1 необходимой длинны, а на последующих итерациях в качестве начального приближения используем сошедшееся решение системы прошлого шага."
   ]
  },
  {
   "cell_type": "code",
   "execution_count": 13,
   "metadata": {
    "scrolled": true
   },
   "outputs": [
    {
     "name": "stdout",
     "output_type": "stream",
     "text": [
      "--- 0.03791308403015137 seconds ---\n",
      "--- 19 steps ---\n",
      "\n",
      "--- 0.03223705291748047 seconds ---\n",
      "--- 6 steps ---\n",
      "\n",
      "--- 0.031545162200927734 seconds ---\n",
      "--- 6 steps ---\n",
      "\n",
      "--- 0.031693220138549805 seconds ---\n",
      "--- 6 steps ---\n",
      "\n",
      "--- 0.03178882598876953 seconds ---\n",
      "--- 6 steps ---\n",
      "\n",
      "--- 0.031388044357299805 seconds ---\n",
      "--- 6 steps ---\n",
      "\n",
      "--- 0.03205990791320801 seconds ---\n",
      "--- 6 steps ---\n",
      "\n",
      "--- 0.035410165786743164 seconds ---\n",
      "--- 6 steps ---\n",
      "\n",
      "--- 0.03200578689575195 seconds ---\n",
      "--- 6 steps ---\n",
      "\n",
      "--- 0.032994985580444336 seconds ---\n",
      "--- 6 steps ---\n",
      "\n",
      "--- 0.03549909591674805 seconds ---\n",
      "--- 6 steps ---\n",
      "\n",
      "--- 0.03260612487792969 seconds ---\n",
      "--- 6 steps ---\n",
      "\n",
      "--- 0.03366708755493164 seconds ---\n",
      "--- 6 steps ---\n",
      "\n",
      "--- 0.03512716293334961 seconds ---\n",
      "--- 6 steps ---\n",
      "\n",
      "--- 0.03239297866821289 seconds ---\n",
      "--- 6 steps ---\n",
      "\n",
      "--- 0.03309297561645508 seconds ---\n",
      "--- 6 steps ---\n",
      "\n",
      "--- 0.03179788589477539 seconds ---\n",
      "--- 6 steps ---\n",
      "\n",
      "--- 0.03199601173400879 seconds ---\n",
      "--- 5 steps ---\n",
      "\n",
      "--- 0.037780046463012695 seconds ---\n",
      "--- 5 steps ---\n",
      "\n",
      "--- 0.035858869552612305 seconds ---\n",
      "--- 5 steps ---\n",
      "\n",
      "--- 0.032273292541503906 seconds ---\n",
      "--- 5 steps ---\n",
      "\n",
      "--- 0.03227424621582031 seconds ---\n",
      "--- 5 steps ---\n",
      "\n",
      "--- 0.032183170318603516 seconds ---\n",
      "--- 5 steps ---\n",
      "\n",
      "--- 0.033605098724365234 seconds ---\n",
      "--- 5 steps ---\n",
      "\n",
      "--- 0.03380393981933594 seconds ---\n",
      "--- 5 steps ---\n",
      "\n",
      "--- 0.03241300582885742 seconds ---\n",
      "--- 5 steps ---\n",
      "\n",
      "--- 0.033299922943115234 seconds ---\n",
      "--- 5 steps ---\n",
      "\n",
      "--- 0.03241586685180664 seconds ---\n",
      "--- 5 steps ---\n",
      "\n",
      "--- 0.032729148864746094 seconds ---\n",
      "--- 5 steps ---\n",
      "\n",
      "--- 0.03205299377441406 seconds ---\n",
      "--- 5 steps ---\n",
      "\n"
     ]
    }
   ],
   "source": [
    "data_for_temperature = pd.DataFrame(columns=['T_', 'V_Ga', 'G_GaCl', 'G_GaCl2', 'G_GaCl3'])\n",
    "temperatures = np.linspace(650, 950, 30) + 273\n",
    "targets = ['GaCl', 'GaCl2', 'GaCl3']\n",
    "initX = np.random.uniform(0.1, 1., 5).tolist()\n",
    "for k, T in (enumerate(temperatures)):\n",
    "    system, variables = system2(T)\n",
    "    solution = newton_method(initX, system, variables)\n",
    "    initX = solution\n",
    "    # G for elements\n",
    "    G = {}\n",
    "    pe = dict(zip(map(str, variables), solution))\n",
    "    for gasIndex in targets:\n",
    "        G[gasIndex] = d(gasIndex, T, p) * (pg[gasIndex] - pe['p_e_' + gasIndex]) / (8314 * T * delta)\n",
    "    density_Ga = 5900.\n",
    "    mu_Ga = elementsData['Ga']['mu']\n",
    "    V_Ga = (G['GaCl'] + G['GaCl2'] + G['GaCl3']) * (mu_Ga / density_Ga) * 1e9\n",
    "    data_for_temperature.loc[k] = {\n",
    "        'T_': T,\n",
    "        'V_Ga': V_Ga,\n",
    "        'G_GaCl': G['GaCl'],\n",
    "        'G_GaCl2': G['GaCl2'],\n",
    "        'G_GaCl3': G['GaCl3']\n",
    "    }"
   ]
  },
  {
   "cell_type": "markdown",
   "metadata": {},
   "source": [
    "Собираем все необходимые данные в таблицу. Как нас просили в задании, берем значение обратное температуре в качестве координаты по X и линейный логарифм искомой величины по Y."
   ]
  },
  {
   "cell_type": "code",
   "execution_count": 14,
   "metadata": {},
   "outputs": [],
   "source": [
    "data_for_temperature['invT'] = 1 / data_for_temperature.T_\n",
    "data_for_temperature['V_Ga_log'] = np.log(np.abs(data_for_temperature.V_Ga))\n",
    "data_for_temperature['G_GaCl_log'] = np.log(np.abs(data_for_temperature.G_GaCl))\n",
    "data_for_temperature['G_GaCl2_log'] = np.log(np.abs(data_for_temperature.G_GaCl2))\n",
    "data_for_temperature['G_GaCl3_log'] = np.log(np.abs(data_for_temperature.G_GaCl3))\n",
    "graph_data_comp = pd.melt(data_for_temperature[['invT', 'G_GaCl_log', \n",
    "                                      'G_GaCl2_log', 'G_GaCl3_log']], id_vars=['invT'])\n",
    "graph_data_speed = pd.melt(data_for_temperature[['invT', 'V_Ga_log']], id_vars=['invT'])"
   ]
  },
  {
   "cell_type": "code",
   "execution_count": 15,
   "metadata": {
    "scrolled": false
   },
   "outputs": [
    {
     "data": {
      "image/png": "[encoded data removed]",
      "text/plain": [
       "<Figure size 792x576 with 1 Axes>"
      ]
     },
     "metadata": {},
     "output_type": "display_data"
    },
    {
     "data": {
      "text/plain": [
       "<ggplot: (320886849)>"
      ]
     },
     "execution_count": 15,
     "metadata": {},
     "output_type": "execute_result"
    }
   ],
   "source": [
    "(ggplot(aes(x = 'invT', y = 'value', color='variable'), graph_data_comp) + \n",
    "    geom_point(size=35) + \n",
    "    ylab('ln(G_ind)') + \n",
    "    xlab('1/T') + \n",
    "    theme_bw()\n",
    ")"
   ]
  },
  {
   "cell_type": "markdown",
   "metadata": {},
   "source": [
    "На графике выше представлены диаграммы Аррениуса для G<sub>GaCl</sub>, G<sub>GaCl2</sub>, G<sub>GaCl3</sub>"
   ]
  },
  {
   "cell_type": "markdown",
   "metadata": {},
   "source": [
    "Из этого можно делать вывод, что преобладающим Ga-содержащим компонентом является GaCl.\n",
    "Также установим зависимость скорости испарения источника галлия V<sup>e</sup><sub>Ga</sub> в зависимости от 1/T."
   ]
  },
  {
   "cell_type": "code",
   "execution_count": 16,
   "metadata": {},
   "outputs": [
    {
     "data": {
      "image/png": "[encoded data removed]",
      "text/plain": [
       "<Figure size 792x576 with 1 Axes>"
      ]
     },
     "metadata": {},
     "output_type": "display_data"
    },
    {
     "data": {
      "text/plain": [
       "<ggplot: (321032297)>"
      ]
     },
     "execution_count": 16,
     "metadata": {},
     "output_type": "execute_result"
    }
   ],
   "source": [
    "(ggplot(aes(x = 'invT', y = 'value', color='variable'), graph_data_speed) + \n",
    "    geom_point(size=35) + \n",
    "    ylab('ln(V_Ga)') + \n",
    "    xlab('1/T') + \n",
    "    theme_bw()\n",
    ")"
   ]
  },
  {
   "cell_type": "markdown",
   "metadata": {},
   "source": [
    "# Задание №3"
   ]
  },
  {
   "cell_type": "markdown",
   "metadata": {},
   "source": [
    "**Система:**\n",
    "\n",
    "\n",
    "P<sup>e</sup><sub>AlCl3</sub>P<sup>e</sup><sub>NH3</sub> - K<sub>9</sub> x(P<sup>e</sup><sub>HCl</sub>)<sup>3</sup> = 0\n",
    "\n",
    "P<sup>e</sup><sub>GaCl</sub>P<sup>e</sup><sub>NH3</sub> - K<sub>10</sub>(1 - x)P<sup>e</sup><sub>HCl</sub>P<sup>e</sup><sub>H2</sub> = 0\n",
    "\n",
    "D<sub>HCl</sub>(P<sup>g</sup><sub>HCl</sub> - P<sup>e</sup><sub>HCl</sub>) +\n",
    "2D<sub>H2</sub>(P<sup>g</sup><sub>H2</sub> - P<sup>e</sup><sub>H2</sub>) +\n",
    "3D<sub>NH3</sub>(P<sup>g</sup><sub>NH3</sub> - P<sup>e</sup><sub>NH3</sub>) = 0\n",
    "\n",
    "3D<sub>AlCl3</sub>(P<sup>g</sup><sub>AlCl3</sub> - P<sup>e</sup><sub>AlCl3</sub>) +\n",
    "D<sub>GaCl</sub>(P<sup>g</sup><sub>GaCl</sub> - P<sup>e</sup><sub>GaCl</sub>) +\n",
    "D<sub>HCl</sub>(P<sup>g</sup><sub>HCl</sub> - P<sup>e</sup><sub>HCl</sub>) = 0\n",
    "\n",
    "D<sub>AlCl3</sub>(P<sup>g</sup><sub>AlCl3</sub> - P<sup>e</sup><sub>AlCl3</sub>) +\n",
    "D<sub>GaCl</sub>(P<sup>g</sup><sub>GaCl</sub> - P<sup>e</sup><sub>GaCl</sub>) +\n",
    "D<sub>NH3</sub>(P<sup>g</sup><sub>NH3</sub> - P<sup>e</sup><sub>NH3</sub>) = 0\n",
    "\n",
    "D<sub>AlCl3</sub>(P<sup>g</sup><sub>AlCl3</sub> - P<sup>e</sup><sub>AlCl3</sub>)(1 - x) -\n",
    "D<sub>GaCl</sub>(P<sup>g</sup><sub>GaCl</sub> - P<sup>e</sup><sub>GaCl</sub>)x = 0\n",
    "\n",
    "На каждом шаге для величин $x_g = 0\\dots1$ с шагом 0.0(3) и температуры $T = 1100℃$ производится решение данной СНУ, \n",
    "\n",
    "Такое решение даёт требуемые термодинамические давления, а с помощью формулы\n",
    "\n",
    "$G_i = D_i \\cdot (P^g_{i} - P^e_{i}) / RT\\delta$\n",
    "\n",
    "находятся межфазные потоки активных компонент. Далее по формуле\n",
    "\n",
    "$ V^g_{AlGaN} = (G_{AlCl3} (\\mu_{AlN} / \\rho_{AlN}) + G_{GaCl} (\\mu_{GaN} / \\rho_{GaN})) * 10^9$\n",
    "\n",
    "находится скорость роста слоя алгана."
   ]
  },
  {
   "cell_type": "code",
   "execution_count": 17,
   "metadata": {},
   "outputs": [],
   "source": [
    "'''\n",
    "x_g:[0, 1]\n",
    "n2Percentage: [0, 1]\n",
    "    1 and 0.9 by task\n",
    "'''\n",
    "def system3(x_g, T, n2Percentage):\n",
    "    assert (0 <= x_g <= 1), \"x_g should be in [0, 1] range\"\n",
    "    assert (0 <= n2Percentage <= 1), \"n2Percentage should be in [0, 1] range\"\n",
    "    \n",
    "    p_e_AlCl3, p_e_GaCl, p_e_NH3, p_e_HCl, p_e_H2, x = sm.symbols('p_e_AlCl3, p_e_GaCl, p_e_NH3, p_e_HCl, p_e_H2, x')\n",
    "    pg_AlCl3_GaCl = 30\n",
    "    pg_N2_H2 = 98470\n",
    "    pg_NH3 = 1500\n",
    "    pg_HCl = 0\n",
    "    pg_N2 = pg_N2_H2 * n2Percentage\n",
    "    pg_H2 = pg_N2_H2 - pg_N2\n",
    "    pg_AlCl3 = x_g * pg_AlCl3_GaCl\n",
    "    pg_GaCl = pg_AlCl3_GaCl - pg_AlCl3\n",
    "    d_HCl = d('HCl', T, P_a)\n",
    "    d_H2 = d('H2', T, P_a)\n",
    "    d_NH3 = d('NH3', T, P_a)\n",
    "    d_AlCl3 = d('AlCl3', T, P_a)\n",
    "    d_GaCl = d('GaCl', T, P_a)\n",
    "    \n",
    "    equations = []\n",
    "    equations.append(p_e_AlCl3 * p_e_NH3 - k9(T) * x * p_e_HCl ** 3)\n",
    "    equations.append(p_e_GaCl * p_e_NH3 - k10(T) * (1 - x) * p_e_HCl * p_e_H2)\n",
    "    equations.append(d_HCl * (pg_HCl - p_e_HCl) + 2 * d_H2 * (pg_H2 - p_e_H2) + 3 * d_NH3 * (pg_NH3 - p_e_NH3))\n",
    "    equations.append(3 * d_AlCl3 * (pg_AlCl3 - p_e_AlCl3) + d_GaCl * (pg_GaCl - p_e_GaCl) + d_HCl * (pg_HCl - p_e_HCl))\n",
    "    equations.append(d_AlCl3 * (pg_AlCl3 - p_e_AlCl3) + d_GaCl * (pg_GaCl - p_e_GaCl) - d_NH3 * (pg_NH3 - p_e_NH3))\n",
    "    equations.append(d_AlCl3 * (pg_AlCl3 - p_e_AlCl3) * (1 - x) - d_GaCl  * (pg_GaCl  - p_e_GaCl)  * x)\n",
    "    system = sm.Matrix(equations)\n",
    "    return system, (p_e_AlCl3, p_e_GaCl, p_e_NH3, p_e_HCl, p_e_H2, x)"
   ]
  },
  {
   "cell_type": "markdown",
   "metadata": {},
   "source": [
    "**Решение задачи моделирование роста твердого раствора algan (AlxGa1-xN)**\n",
    "\n",
    "До этого мы узнали, что  AlCl3 и GaCl являются преобладающими  компонентами растущего алгана. Исходя из этого, мы понимаем из-за каких \"производящих\" реакция в основном происходит рост алгана (это позволяет нам построить систему уравнений выше). Решение разбиваем на две части:\n",
    "несущий газ – чистый N2 и несущий газ – 10%-ая смесь H2 и N2. Моделирование совершается при температуре 1100 градусов по Цельсию. Перебираем x_g (P_g_AlCl3 / (P_g_AlCl3 + P_g_GaCl)) в промежутке от 0 до 1. Для каждого значение составляем систему и решаем её выше описанным методом. Получив значение термодинамических давлений, мы высчитываем межфазные потоки (G), а затем и скорость роста слоя V<sub>AlGaN</sub>, а также построить диаграмму вхождения аллюминия в кристал. Значения всех констант взяты из условия. В качестве начального приближения на первом шаге мы берем набор состоящий из элементов равномерного распредления от 0 до 1 необходимой длинны, а на последующих итерациях в качестве начального приближения используем сошедшееся решение системы прошлого шага."
   ]
  },
  {
   "cell_type": "code",
   "execution_count": 18,
   "metadata": {},
   "outputs": [
    {
     "name": "stdout",
     "output_type": "stream",
     "text": [
      "--- 0.0617678165435791 seconds ---\n",
      "--- 9 steps ---\n",
      "\n",
      "--- 0.019919872283935547 seconds ---\n",
      "--- 9 steps ---\n",
      "\n",
      "--- 0.019390106201171875 seconds ---\n",
      "--- 10 steps ---\n",
      "\n",
      "--- 0.019296646118164062 seconds ---\n",
      "--- 10 steps ---\n",
      "\n",
      "--- 0.020157814025878906 seconds ---\n",
      "--- 5 steps ---\n",
      "\n",
      "--- 0.028315067291259766 seconds ---\n",
      "--- 5 steps ---\n",
      "\n",
      "--- 0.01951909065246582 seconds ---\n",
      "--- 6 steps ---\n",
      "\n",
      "--- 0.027025938034057617 seconds ---\n",
      "--- 5 steps ---\n",
      "\n",
      "--- 0.019368886947631836 seconds ---\n",
      "--- 6 steps ---\n",
      "\n",
      "--- 0.027685880661010742 seconds ---\n",
      "--- 5 steps ---\n",
      "\n",
      "--- 0.020990848541259766 seconds ---\n",
      "--- 6 steps ---\n",
      "\n",
      "--- 0.02947402000427246 seconds ---\n",
      "--- 5 steps ---\n",
      "\n",
      "--- 0.019430160522460938 seconds ---\n",
      "--- 6 steps ---\n",
      "\n",
      "--- 0.026813745498657227 seconds ---\n",
      "--- 5 steps ---\n",
      "\n",
      "--- 0.019666194915771484 seconds ---\n",
      "--- 6 steps ---\n",
      "\n",
      "--- 0.03147697448730469 seconds ---\n",
      "--- 5 steps ---\n",
      "\n",
      "--- 0.01932072639465332 seconds ---\n",
      "--- 6 steps ---\n",
      "\n",
      "--- 0.028079986572265625 seconds ---\n",
      "--- 6 steps ---\n",
      "\n",
      "--- 0.02143096923828125 seconds ---\n",
      "--- 7 steps ---\n",
      "\n",
      "--- 0.027545928955078125 seconds ---\n",
      "--- 6 steps ---\n",
      "\n",
      "--- 0.02143692970275879 seconds ---\n",
      "--- 7 steps ---\n",
      "\n",
      "--- 0.028620004653930664 seconds ---\n",
      "--- 6 steps ---\n",
      "\n",
      "--- 0.02005600929260254 seconds ---\n",
      "--- 7 steps ---\n",
      "\n",
      "--- 0.026964902877807617 seconds ---\n",
      "--- 6 steps ---\n",
      "\n",
      "--- 0.019533157348632812 seconds ---\n",
      "--- 8 steps ---\n",
      "\n",
      "--- 0.0273740291595459 seconds ---\n",
      "--- 5 steps ---\n",
      "\n",
      "--- 0.019130945205688477 seconds ---\n",
      "--- 8 steps ---\n",
      "\n",
      "--- 0.030365943908691406 seconds ---\n",
      "--- 5 steps ---\n",
      "\n",
      "--- 0.020624876022338867 seconds ---\n",
      "--- 8 steps ---\n",
      "\n",
      "--- 0.0280148983001709 seconds ---\n",
      "--- 5 steps ---\n",
      "\n",
      "--- 0.01937270164489746 seconds ---\n",
      "--- 9 steps ---\n",
      "\n",
      "--- 0.02652716636657715 seconds ---\n",
      "--- 5 steps ---\n",
      "\n",
      "--- 0.019896984100341797 seconds ---\n",
      "--- 9 steps ---\n",
      "\n",
      "--- 0.027673959732055664 seconds ---\n",
      "--- 5 steps ---\n",
      "\n",
      "--- 0.019918203353881836 seconds ---\n",
      "--- 9 steps ---\n",
      "\n",
      "--- 0.0300750732421875 seconds ---\n",
      "--- 5 steps ---\n",
      "\n",
      "--- 0.020005226135253906 seconds ---\n",
      "--- 10 steps ---\n",
      "\n",
      "--- 0.027245044708251953 seconds ---\n",
      "--- 5 steps ---\n",
      "\n",
      "--- 0.020159006118774414 seconds ---\n",
      "--- 11 steps ---\n",
      "\n",
      "--- 0.02840900421142578 seconds ---\n",
      "--- 5 steps ---\n",
      "\n",
      "--- 0.0192718505859375 seconds ---\n",
      "--- 12 steps ---\n",
      "\n",
      "--- 0.019722938537597656 seconds ---\n",
      "--- 12 steps ---\n",
      "\n",
      "--- 0.027386188507080078 seconds ---\n",
      "--- 5 steps ---\n",
      "\n",
      "--- 0.019177913665771484 seconds ---\n",
      "--- 10 steps ---\n",
      "\n",
      "--- 0.020677804946899414 seconds ---\n",
      "--- 10 steps ---\n",
      "\n",
      "--- 0.021684885025024414 seconds ---\n",
      "--- 13 steps ---\n",
      "\n",
      "--- 0.019733190536499023 seconds ---\n",
      "--- 12 steps ---\n",
      "\n",
      "--- 0.0285799503326416 seconds ---\n",
      "--- 5 steps ---\n",
      "\n",
      "--- 0.019511938095092773 seconds ---\n",
      "--- 9 steps ---\n",
      "\n",
      "--- 0.019862890243530273 seconds ---\n",
      "--- 13 steps ---\n",
      "\n",
      "--- 0.019839048385620117 seconds ---\n",
      "--- 13 steps ---\n",
      "\n",
      "--- 0.02794504165649414 seconds ---\n",
      "--- 5 steps ---\n",
      "\n",
      "--- 0.019824981689453125 seconds ---\n",
      "--- 7 steps ---\n",
      "\n",
      "--- 0.020646095275878906 seconds ---\n",
      "--- 10 steps ---\n",
      "\n",
      "--- 0.021108150482177734 seconds ---\n",
      "--- 18 steps ---\n",
      "\n",
      "--- 0.027867794036865234 seconds ---\n",
      "--- 5 steps ---\n",
      "\n",
      "--- 0.019444942474365234 seconds ---\n",
      "--- 7 steps ---\n",
      "\n",
      "--- 0.020598173141479492 seconds ---\n",
      "--- 14 steps ---\n",
      "\n",
      "--- 0.020366191864013672 seconds ---\n",
      "--- 12 steps ---\n",
      "\n",
      "--- 0.02948307991027832 seconds ---\n",
      "--- 5 steps ---\n",
      "\n",
      "--- 0.025064945220947266 seconds ---\n",
      "--- 9 steps ---\n",
      "\n",
      "--- 0.024144887924194336 seconds ---\n",
      "--- 12 steps ---\n",
      "\n",
      "--- 0.03630685806274414 seconds ---\n",
      "--- 5 steps ---\n",
      "\n",
      "--- 0.02454209327697754 seconds ---\n",
      "--- 10 steps ---\n",
      "\n",
      "--- 0.03412771224975586 seconds ---\n",
      "--- 5 steps ---\n",
      "\n",
      "--- 0.024319887161254883 seconds ---\n",
      "--- 8 steps ---\n",
      "\n",
      "--- 0.03391313552856445 seconds ---\n",
      "--- 5 steps ---\n",
      "\n",
      "--- 0.023949146270751953 seconds ---\n",
      "--- 7 steps ---\n",
      "\n",
      "--- 0.03240489959716797 seconds ---\n",
      "--- 5 steps ---\n",
      "\n",
      "--- 0.022680044174194336 seconds ---\n",
      "--- 7 steps ---\n",
      "\n",
      "--- 0.03290200233459473 seconds ---\n",
      "--- 5 steps ---\n",
      "\n",
      "--- 0.02244091033935547 seconds ---\n",
      "--- 6 steps ---\n",
      "\n",
      "--- 0.029005765914916992 seconds ---\n",
      "--- 4 steps ---\n",
      "\n",
      "--- 0.020301103591918945 seconds ---\n",
      "--- 2 steps ---\n",
      "\n"
     ]
    }
   ],
   "source": [
    "x_gs = np.linspace(0., 1., 30)\n",
    "n2Percentages = [1, 0.9]\n",
    "T = 1100 + 273\n",
    "pg_AlCl3_GaCl = 30\n",
    "data_for_temperature = pd.DataFrame(columns=['x_g', 'n2Percentage', 'x', 'V_AlGaN', 'G_GaCl', 'G_AlCl3'])\n",
    "targets = ['GaCl', 'AlCl3']\n",
    "initX = np.random.uniform(0.1, 1., 6).tolist()\n",
    "for k, (x_g, n2Percentage) in (enumerate(product(x_gs, n2Percentages))):\n",
    "    x = 2\n",
    "    firstIter = True\n",
    "    while x < 0 or x > 1:\n",
    "        if firstIter == False:\n",
    "            initX = np.random.uniform(0.1, 1., 6).tolist()\n",
    "        \n",
    "        firstIter = False\n",
    "        system, variables = system3(x_g, T, n2Percentage)\n",
    "        solution = newton_method(initX, system,variables)\n",
    "        x = solution[-1]\n",
    "    # G for elements\n",
    "    initX = solution\n",
    "    G = {}\n",
    "    pg['AlCl3'] = x_g * pg_AlCl3_GaCl\n",
    "    pg['GaCl'] = (1 - x_g) * pg_AlCl3_GaCl\n",
    "    pe = dict(zip(map(str, variables), solution))\n",
    "    for gasIndex in targets:\n",
    "        G[gasIndex] = d(gasIndex, T, P_a) * (pg[gasIndex] - pe['p_e_' + gasIndex]) / (8314 * T * delta)\n",
    "    density_AlN = 3200.\n",
    "    density_GaN = 6150.\n",
    "    mu_AlN = elementsData['AlN']['mu']\n",
    "    mu_GaN = elementsData['GaN']['mu']\n",
    "    V = (G['AlCl3'] * (mu_AlN / density_AlN) + G['GaCl'] * (mu_GaN / density_GaN)) * 1e9\n",
    "    if V <= 1e5:\n",
    "        data_for_temperature.loc[k] = {\n",
    "            'x_g': x_g,\n",
    "            'n2Percentage': n2Percentage,\n",
    "            'x': pe['x'],\n",
    "            'V_AlGaN': V,\n",
    "            'G_GaCl': G['GaCl'],\n",
    "            'G_AlCl3': G['AlCl3']\n",
    "    }"
   ]
  },
  {
   "cell_type": "markdown",
   "metadata": {},
   "source": [
    "Скорость роста слоя алгана, когда несущий газ - N2:"
   ]
  },
  {
   "cell_type": "code",
   "execution_count": 19,
   "metadata": {},
   "outputs": [
    {
     "data": {
      "image/png": "[encoded data removed]",
      "text/plain": [
       "<Figure size 792x576 with 1 Axes>"
      ]
     },
     "metadata": {},
     "output_type": "display_data"
    },
    {
     "data": {
      "text/plain": [
       "<ggplot: (321068121)>"
      ]
     },
     "execution_count": 19,
     "metadata": {},
     "output_type": "execute_result"
    }
   ],
   "source": [
    "data_for_temperature['V_AlGaN'] = data_for_temperature.V_AlGaN / 1000\n",
    "graph_data_speed = pd.melt(data_for_temperature[['x_g', 'V_AlGaN', 'n2Percentage']], id_vars=['x_g', 'n2Percentage'])\n",
    "(ggplot(aes(x = 'x_g', y = 'value', color='variable'), graph_data_speed[graph_data_speed.n2Percentage == 1]) + \n",
    "    geom_point(size=35) + \n",
    "    ylab('V(AlGaN) / 1000') +\n",
    "    theme_bw()\n",
    ")"
   ]
  },
  {
   "cell_type": "markdown",
   "metadata": {},
   "source": [
    "Скорость роста слоя алгана, когда несущий газ - смесь N2 и H2:"
   ]
  },
  {
   "cell_type": "code",
   "execution_count": 20,
   "metadata": {},
   "outputs": [
    {
     "data": {
      "image/png": "[encoded data removed]",
      "text/plain": [
       "<Figure size 792x576 with 1 Axes>"
      ]
     },
     "metadata": {},
     "output_type": "display_data"
    },
    {
     "data": {
      "text/plain": [
       "<ggplot: (321068089)>"
      ]
     },
     "execution_count": 20,
     "metadata": {},
     "output_type": "execute_result"
    }
   ],
   "source": [
    "(ggplot(aes(x = 'x_g', y = 'value', color='variable'), graph_data_speed[graph_data_speed.n2Percentage == 0.9]) + \n",
    "    geom_point(size=35) + \n",
    "    ylab('V(AlGaN)') +\n",
    "    theme_bw()\n",
    ")"
   ]
  },
  {
   "cell_type": "markdown",
   "metadata": {},
   "source": [
    "График вхождения Al в кристалл при различных несущих газах:"
   ]
  },
  {
   "cell_type": "code",
   "execution_count": 21,
   "metadata": {},
   "outputs": [
    {
     "data": {
      "image/png": "[encoded data removed]",
      "text/plain": [
       "<Figure size 792x576 with 1 Axes>"
      ]
     },
     "metadata": {},
     "output_type": "display_data"
    },
    {
     "data": {
      "text/plain": [
       "<ggplot: (321193373)>"
      ]
     },
     "execution_count": 21,
     "metadata": {},
     "output_type": "execute_result"
    }
   ],
   "source": [
    "graph_data_fraction = pd.melt(data_for_temperature, id_vars=['x_g', 'n2Percentage'])\n",
    "graph_data_fraction.n2Percentage = graph_data_fraction.n2Percentage.map(str)\n",
    "(ggplot(aes(y='value', x='x_g', color='n2Percentage'), data=graph_data_fraction[graph_data_fraction.variable == 'x']) +\n",
    "     geom_point(size=35) +\n",
    "     ylab('x') +\n",
    "     xlab('x_g') +\n",
    "     theme_bw()\n",
    ")"
   ]
  },
  {
   "cell_type": "markdown",
   "metadata": {},
   "source": [
    "Если несущим газом является чистый N2, диаграмма вхождения Al в кристалл близка к линейной, однако в случае, если несущий газ представляет собой 10% смесь H2 и N2, то диаграмма представляет собой выпуклую линию.\n",
    "Сравнивая результаты вычислений с экспериментальными данными из работы [1], видно, что диаграмма вхождения Al при смеси в качестве несущего газа менее выпукла, чем экспериментальная.\n",
    "\n",
    "Чтобы понять эффект от добавления H<sub>2</sub>, вспомним химические реакции (R7) и (R8).\n",
    "\n",
    "Равновесное парциальное давления H<sub>2</sub> не влияет на химическую реакцию AlCl + NH<sub>3</sub> ⬄ AlN(solid) + HCl + H<sub>2</sub>, из-за этого межфазовый поток AlCl<sub>3</sub> не меняется на графиках.\n",
    "\n",
    "В свою очередь, на реакцию 2AlCl<sub>2</sub> + 2NH<sub>3</sub> ⬄ 2AlN(solid) + 4HCl + H<sub>2</sub> оказывается влияение от этого давления, в результате чего небольшое количество H<sub>2</sub> резко снижает межфазовый поток GaCl. Если добавить больше H<sub>2</sub>, то реакция вовсе остановится и Ga перестанет оседать на алган.\n",
    "\n",
    "Вспомним также химические реакции (R9) и (R10):\n",
    "\n",
    "AlCl3 + NH3 <=> AlN(solid) + 3HCl\n",
    "GaCl + NH3 <=> GaN(solid) + HCl + H2\n",
    "\t \t \t\n",
    "При добавлении небольшого количества H2 реакция образования GaN замедлится, ведь она находится в химическом равновесии(протекает как слева направо, так и наоборот), и при увеличении H2 система будет пытаться уравновесить реакцию, что приведет к изменению состава. На реакцию с Al добавление H2 влияние не оказывает.\n",
    "\n",
    "Получается, что, благодаря контролированию количества добавленного H<sub>2</sub> в несущий азот, мы можем регулировать состав алгана с необходимой точностью"
   ]
  }
 ],
 "metadata": {
  "kernelspec": {
   "display_name": "Python 3",
   "language": "python",
   "name": "python3"
  },
  "language_info": {
   "codemirror_mode": {
    "name": "ipython",
    "version": 3
   },
   "file_extension": ".py",
   "mimetype": "text/x-python",
   "name": "python",
   "nbconvert_exporter": "python",
   "pygments_lexer": "ipython3",
   "version": "3.7.7"
  }
 },
 "nbformat": 4,
 "nbformat_minor": 4
}
