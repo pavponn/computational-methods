{
 "cells": [
  {
   "cell_type": "code",
   "execution_count": 1,
   "metadata": {},
   "outputs": [],
   "source": [
    "import time\n",
    "import numpy as np\n",
    "import sympy as sm\n",
    "import scipy as sp\n",
    "import pandas as pd\n",
    "from ggplot import *\n",
    "from itertools import product\n",
    "from matplotlib.axes._axes import _log as matplotlib_axes_logger\n",
    "\n",
    "matplotlib_axes_logger.setLevel('ERROR')"
   ]
  },
  {
   "cell_type": "code",
   "execution_count": 2,
   "metadata": {},
   "outputs": [],
   "source": [
    "elementsData = dict()\n",
    "elementsChars = ['H', 'f1', 'f2', 'f3', 'f4', 'f5', 'f6', 'f7', 'mu', 'sigma', 'epsil']\n",
    "elements = ['AlCl', 'AlCl2', 'AlCl3', 'GaCl', 'GaCl2', 'GaCl3', 'NH3', 'H2', 'HCl', 'N2', 'Al', 'Ga', 'AlN', 'GaN']\n",
    "\n",
    "dataFile = open('data.txt', 'r')\n",
    "lines = dataFile.readlines()\n",
    "for line in lines:\n",
    "    dataArr = line.rstrip().split(';')\n",
    "    elementsData[dataArr[0]] = dict()\n",
    "    for i in range(0, len(dataArr) - 1):\n",
    "        elementsData[dataArr[0]][elementsChars[i]] = float(dataArr[i + 1])"
   ]
  },
  {
   "cell_type": "code",
   "execution_count": 3,
   "metadata": {},
   "outputs": [],
   "source": [
    "R = 8.314  # Дж/(кмоль⋅К) - универсальная газовая постоянная\n",
    "P_a = 100000  # Па – полное давление"
   ]
  },
  {
   "cell_type": "code",
   "execution_count": 4,
   "metadata": {},
   "outputs": [],
   "source": [
    "\"\"\"\n",
    "d - коэффициент диффузии (м2/сек)\n",
    "compIndex - название элемента\n",
    "temperature - температура\n",
    "pressure - полное давление в системе (P^g_i - P^e_i)\n",
    "\"\"\"\n",
    "def d(compIndex, temperature, pressure):\n",
    "    numerator = 2.628 * 10 ** (-2) * temperature ** (3 / 2)\n",
    "\n",
    "    dataForIndex = elementsData[compIndex]\n",
    "    dataForN2 = elementsData['N2']\n",
    "\n",
    "    sigma = (dataForIndex['sigma'] + dataForN2['sigma']) / 2\n",
    "    epsil = (dataForIndex['epsil'] * dataForN2['epsil']) ** (1 / 2)\n",
    "    mu = (2 * dataForIndex['mu'] * dataForN2['mu']) / (dataForIndex['mu'] + dataForN2['mu'])\n",
    "    omega = 1.074 * (temperature / epsil) ** (-0.1604)\n",
    "\n",
    "    return numerator / (pressure * sigma * omega * mu ** (1 / 2))\n",
    "\n",
    "\"\"\"\n",
    "phi нужно для расчета энергии Гиббса (G)\n",
    "compIndex - название элемента\n",
    "temperature - температура\n",
    "\"\"\"\n",
    "def phi(compIndex, temperature):\n",
    "    dataForIndex = elementsData[compIndex]\n",
    "\n",
    "    x = temperature / 10 ** 4\n",
    "    return dataForIndex['f1'] + \\\n",
    "           dataForIndex['f2'] * np.log(x) + \\\n",
    "           dataForIndex['f3'] / x ** 2 + \\\n",
    "           dataForIndex['f4'] / x + \\\n",
    "           dataForIndex['f5'] * x + \\\n",
    "           dataForIndex['f6'] * x ** 2 + \\\n",
    "           dataForIndex['f7'] * x ** 3\n",
    "\"\"\"\n",
    "g - Энергия Гиббса\n",
    "compIndex - название элемента\n",
    "temperature - температура\n",
    "\"\"\"\n",
    "def g(compIndex, temperature):\n",
    "    dataForIndex = elementsData[compIndex]\n",
    "    return dataForIndex['H'] - phi(compIndex, temperature) * temperature\n"
   ]
  },
  {
   "cell_type": "code",
   "execution_count": 5,
   "metadata": {},
   "outputs": [],
   "source": [
    "# Коэффициенты равновесия для первого задания\n",
    "def k1(temperature):\n",
    "    g1Diff = 2 * g('Al', temperature) + 2 * g('HCl', temperature) - 2 * g('AlCl', temperature) - g('H2', temperature)\n",
    "    return np.exp(-g1Diff / (R * temperature)) / P_a\n",
    "\n",
    "def k2(temperature):\n",
    "    g2Diff = g('Al', temperature) + 2 * g('HCl', temperature) - g('AlCl2', temperature) - g('H2', temperature)\n",
    "    return np.exp(-g2Diff / (R * temperature))\n",
    "\n",
    "def k3(temperature):\n",
    "    g3Diff = 2 * g('Al', temperature) - 2 * g('AlCl3', temperature) - 3 * g('H2', temperature) + 6 * g('HCl', temperature)\n",
    "    return np.exp(-g3Diff / (R * temperature)) * P_a\n",
    "\n",
    "# Коэффициенты равновесия для второго задания\n",
    "def k4(temperature):\n",
    "    g4Diff = 2 * g('Ga', temperature) + 2 * g('HCl', temperature) - 2 * g('GaCl', temperature) - g('H2', temperature)\n",
    "    return np.exp(-g4Diff / (R * temperature)) / P_a\n",
    "\n",
    "def k5(temperature):\n",
    "    g5Diff = g('GaCl2', temperature) + g('H2', temperature) - 2 * g('HCl', temperature) - g('Ga', temperature)\n",
    "    return np.exp(g5Diff / (R * temperature))\n",
    "\n",
    "def k6(temperature):\n",
    "    g6Diff = 2 * g('GaCl3', temperature) + 3 * g('H2', temperature) - 6 * g('HCl', temperature) - 2 * g('Ga', temperature)\n",
    "    return np.exp(g6Diff / (R * temperature)) * P_a\n",
    "\n",
    "# Коэффициенты равновесия для третьего задания\n",
    "def k9(temperature):\n",
    "    g9Diff = g('AlCl3', temperature) + g('NH3', temperature) - g('AlN', temperature) - 3 * g('HCl', temperature)\n",
    "    return np.exp(-g9Diff / (R * temperature)) / P_a\n",
    "\n",
    "def k10(temperature):\n",
    "    g10Diff = g('GaCl', temperature) + g('NH3', temperature) - g('HCl', temperature) - g('H2', temperature) - g('GaN', temperature)\n",
    "    return np.exp(-g10Diff / (R * temperature))"
   ]
  },
  {
   "cell_type": "markdown",
   "metadata": {},
   "source": [
    "**Метод Ньютона**\n",
    "\n",
    "В качестве численного метода для решения СНАУ был выбран бызовый метод Ньютона без модификаций, которому на вход подается начальное приближение (способы выбора описаны в решении задания), сама система и набор неизвестных (последние два получены с помощью библиотеки sympy - библиотеки для символьных вычислений). Изначально получаем якобиан нашей системы с помощью уже упомянутой библиотеки. Далее на каждом шаге мы решаем следующую систему: $J(x^{k}_{i}) \\delta = F(x^{k}_{i})$, где $\\delta = x^{k}_{i + 1} - x^{k}_{i}$, $F(x)$ - исходная система, $J(x)$ - якобиан исходной системы. Решения происходит с помощью метода LU-разложения. Алгоритм продолжает выполнять данные итерациии пока не будет достигнут заданная точность($|\\delta| < \\epsilon$), где $\\epsilon$ можно задать каким-либо образом. Количество итераций также ограничено заранее установленным лимитом (это сделано, чтобы не уйти в бесконечный цикл в некоторых случаях). Как только мы нашли решение с нужной точностью или уперлись в лимит шагов, мы возвращаем результат."
   ]
  },
  {
   "cell_type": "code",
   "execution_count": 6,
   "metadata": {},
   "outputs": [],
   "source": [
    "def newton_method(initX, system, variables):\n",
    "    start_time = time.time()\n",
    "\n",
    "    jacobian = sm.lambdify(variables, system.jacobian(variables))\n",
    "    system = sm.lambdify(variables, system)\n",
    "    \n",
    "    x = initX\n",
    "    eps = 1e-9\n",
    "    LIMIT = 1e8\n",
    "    delta = [1]\n",
    "    steps = 0\n",
    "    while np.linalg.norm(delta) > eps and steps < LIMIT:\n",
    "        delta = sp.linalg.lu_solve(sp.linalg.lu_factor(jacobian(*x)), -system(*x))\n",
    "        x = delta.flatten() + x\n",
    "        steps += 1\n",
    "    print(\"--- %s seconds ---\" % (time.time() - start_time))\n",
    "    print(\"--- %d steps ---\\n\" % steps)\n",
    "    return x"
   ]
  },
  {
   "cell_type": "markdown",
   "metadata": {},
   "source": [
    "# Задание №1"
   ]
  },
  {
   "cell_type": "markdown",
   "metadata": {},
   "source": [
    "**Система:**\n",
    "\n",
    "\n",
    "(P<sup>e</sup><sub>HCl</sub>)<sup>2</sup> - K<sub>1</sub> (P<sup>e</sup><sub>AlCl</sub>)<sup>2</sup>P<sup>e</sup><sub>H2</sub> = 0\n",
    "\n",
    "(P<sup>e</sup><sub>HCl</sub>)<sup>2</sup> - K<sub>2</sub> (P<sup>e</sup><sub>AlCl2</sub>)<sup>2</sup>P<sup>e</sup><sub>H2</sub> = 0\n",
    "\n",
    "(P<sup>e</sup><sub>HCl</sub>)<sup>6</sup> - K<sub>3</sub> (P<sup>e</sup><sub>AlCl3</sub>)<sup>2</sup>(P<sup>e</sup><sub>H2</sub>)<sup>3</sup> = 0\n",
    "\n",
    "\n",
    "D<sub>HCl</sub>(P<sup>g</sup><sub>HCl</sub> - P<sup>e</sup><sub>HCl</sub>) + 2D<sub>H2</sub>(P<sup>g</sup><sub>H2</sub> - P<sup>e</sup><sub>H2</sub>) = 0\n",
    "\n",
    "D<sub>AlCl</sub>(P<sup>g</sup><sub>AlCl</sub> - P<sup>e</sup><sub>AlCl</sub>) + 2D<sub>AlCl2</sub>(P<sup>g</sup><sub>AlCl2</sub> - P<sup>e</sup><sub>AlCl2</sub>) + 3D<sub>AlCl3</sub>(P<sup>g</sup><sub>AlCl3</sub> - P<sup>e</sup><sub>AlCl3</sub>) + D<sub>HCl</sub>(P<sup>g</sup><sub>HCl</sub> - P<sup>e</sup><sub>HCl</sub>) = 0\n",
    "\n",
    "\n",
    "На каждом шаге для температур $T = 350\\dots650℃$ с шагом $dT = 10℃$ производится решение данной СНУ, \n",
    "\n",
    "Такое решение даёт требуемые термодинамические давления, а с помощью формулы\n",
    "\n",
    "$G_i = D_i \\cdot (P^g_{i} - P^e_{i}) / RT\\delta$\n",
    "\n",
    "находятся межфазные потоки активных компонент. Далее по формуле\n",
    "\n",
    "$ V^e_{Al} = (G_{AlCl} + G_{AlCl2} + G_{AlCl3}) (\\mu_{Al} / \\rho_{Al}) * 10^9$\n",
    "\n",
    "находится скорость испарения алюминиевого источника."
   ]
  },
  {
   "cell_type": "code",
   "execution_count": 7,
   "metadata": {},
   "outputs": [],
   "source": [
    "\"\"\"\n",
    "Парциальные давления компонент вне диффузионного пограничного слоя (Па) из условия заданий №1 и №2\n",
    "\"\"\"\n",
    "pg = { 'GaCl' : 0, 'GaCl2' : 0, 'GaCl3' : 0, \n",
    "       'AlCl' : 0, 'AlCl2' : 0, 'AlCl3' : 0, \n",
    "       'H2' : 0, 'N2' : 90000.0, 'HCl' : 10000.0 \n",
    "     }\n",
    "\n",
    "def system1(T):\n",
    "    p_e_AlCl, p_e_AlCl2, p_e_AlCl3, p_e_HCl, p_e_H2 = sm.symbols('p_e_AlCl, p_e_AlCl2, p_e_AlCl3, p_e_HCl, p_e_H2')\n",
    "    p = pg['N2'] + pg['HCl']\n",
    "    d_HCl = d('HCl', T, p)\n",
    "    d_H2 = d('H2', T, p)\n",
    "    d_AlCl = d('AlCl', T, p)\n",
    "    d_AlCl2 = d('AlCl2', T, p)\n",
    "    d_AlCl3 = d('AlCl3', T, p)\n",
    "    equations = []\n",
    "    equations.append(p_e_HCl ** 2 - k1(T) * p_e_AlCl ** 2 * p_e_H2)\n",
    "    equations.append(p_e_HCl ** 2 - k2(T) * p_e_AlCl2 * p_e_H2)\n",
    "    equations.append(p_e_HCl ** 6 - k3(T) * p_e_AlCl3 ** 2 * p_e_H2 ** 3)\n",
    "    equations.append(d_HCl * (pg['HCl'] - p_e_HCl) + 2 * p_e_H2 * (pg['H2'] - p_e_H2))\n",
    "    equations.append(d_AlCl * (pg['AlCl'] - p_e_AlCl) + \n",
    "                     2 * d_AlCl2 * (pg['AlCl2'] - p_e_AlCl2) +\n",
    "                     3 * d_AlCl3 * (pg['AlCl3'] - p_e_AlCl3)  +\n",
    "                     d_HCl * (pg['HCl'] - p_e_HCl))\n",
    "    system = sm.Matrix(equations)\n",
    "    return system, (p_e_AlCl, p_e_AlCl2, p_e_AlCl3, p_e_HCl, p_e_H2)"
   ]
  },
  {
   "cell_type": "markdown",
   "metadata": {},
   "source": [
    "**Решение задачи о конверсии хлороводорода (HCl) в хлориды алюминия (AlCl)**\n",
    "\n",
    "Перебираем температуры в промежутке, указанном в задании ($350$-$650$ градусов по Цельсию), предварительно переводя их в градусы по Кельвину ($+ 273$). Для каждого значение температуры составляем систему и решаем её выше описанным методом. Получив значение термодинамических давлений, мы высчитываем межфазные потоки ($G$) на поверхности жидкого галлия для интересующих нас элементов, а затем и скорость испарения источника по формуле представленной в задании. Значения всех констант взяты из условия. В качестве начального приближения на первом шаге мы берем набор состоящий из элементов равномерного распредления от $0$ до $1$ необходимой длинны, а на последующих итерациях в качестве начального приближения используем сошедшееся решение системы прошлого шага."
   ]
  },
  {
   "cell_type": "code",
   "execution_count": 8,
   "metadata": {
    "scrolled": true
   },
   "outputs": [
    {
     "name": "stdout",
     "output_type": "stream",
     "text": [
      "--- 0.06108689308166504 seconds ---\n",
      "--- 65 steps ---\n",
      "\n",
      "--- 0.0340580940246582 seconds ---\n",
      "--- 8 steps ---\n",
      "\n",
      "--- 0.03363394737243652 seconds ---\n",
      "--- 8 steps ---\n",
      "\n",
      "--- 0.03304290771484375 seconds ---\n",
      "--- 8 steps ---\n",
      "\n",
      "--- 0.03316140174865723 seconds ---\n",
      "--- 7 steps ---\n",
      "\n",
      "--- 0.03360295295715332 seconds ---\n",
      "--- 7 steps ---\n",
      "\n",
      "--- 0.03376007080078125 seconds ---\n",
      "--- 7 steps ---\n",
      "\n",
      "--- 0.03644084930419922 seconds ---\n",
      "--- 7 steps ---\n",
      "\n",
      "--- 0.033972978591918945 seconds ---\n",
      "--- 7 steps ---\n",
      "\n",
      "--- 0.03326702117919922 seconds ---\n",
      "--- 7 steps ---\n",
      "\n",
      "--- 0.03430604934692383 seconds ---\n",
      "--- 7 steps ---\n",
      "\n",
      "--- 0.033329010009765625 seconds ---\n",
      "--- 7 steps ---\n",
      "\n",
      "--- 0.03736114501953125 seconds ---\n",
      "--- 7 steps ---\n",
      "\n",
      "--- 0.033338069915771484 seconds ---\n",
      "--- 7 steps ---\n",
      "\n",
      "--- 0.033860206604003906 seconds ---\n",
      "--- 7 steps ---\n",
      "\n",
      "--- 0.0335078239440918 seconds ---\n",
      "--- 7 steps ---\n",
      "\n",
      "--- 0.034425973892211914 seconds ---\n",
      "--- 7 steps ---\n",
      "\n",
      "--- 0.03445696830749512 seconds ---\n",
      "--- 7 steps ---\n",
      "\n",
      "--- 0.035973310470581055 seconds ---\n",
      "--- 7 steps ---\n",
      "\n",
      "--- 0.033412933349609375 seconds ---\n",
      "--- 7 steps ---\n",
      "\n",
      "--- 0.0338590145111084 seconds ---\n",
      "--- 7 steps ---\n",
      "\n",
      "--- 0.03252410888671875 seconds ---\n",
      "--- 6 steps ---\n",
      "\n",
      "--- 0.033875226974487305 seconds ---\n",
      "--- 6 steps ---\n",
      "\n",
      "--- 0.03410696983337402 seconds ---\n",
      "--- 6 steps ---\n",
      "\n",
      "--- 0.03508615493774414 seconds ---\n",
      "--- 6 steps ---\n",
      "\n",
      "--- 0.03287386894226074 seconds ---\n",
      "--- 6 steps ---\n",
      "\n",
      "--- 0.0330357551574707 seconds ---\n",
      "--- 6 steps ---\n",
      "\n",
      "--- 0.03261971473693848 seconds ---\n",
      "--- 6 steps ---\n",
      "\n",
      "--- 0.040266990661621094 seconds ---\n",
      "--- 6 steps ---\n",
      "\n",
      "--- 0.039106130599975586 seconds ---\n",
      "--- 6 steps ---\n",
      "\n"
     ]
    }
   ],
   "source": [
    "temperatures = np.linspace(350, 650, 30) + 273\n",
    "delta = 0.01\n",
    "p = pg['HCl'] + pg['N2']\n",
    "data_for_temperature = pd.DataFrame(columns=['T_', 'V_Al', 'G_AlCl', 'G_AlCl2', 'G_AlCl3'])\n",
    "targets = ['AlCl', 'AlCl2', 'AlCl3']\n",
    "initX = np.random.uniform(0.1, 1., 5).tolist()\n",
    "for k, T in (enumerate(temperatures)):\n",
    "    system, variables = system1(T)\n",
    "    solution = newton_method(initX, system, variables)\n",
    "    initX = solution\n",
    "    # G for elements\n",
    "    G = {}\n",
    "    pe = dict(zip(map(str, variables), solution))\n",
    "    for gasIndex in targets:\n",
    "        G[gasIndex] = d(gasIndex, T, p) * (pg[gasIndex] - pe['p_e_' + gasIndex]) / (8314 * T * delta)\n",
    "    density_Al = 2690\n",
    "    mu_Al = elementsData['Al']['mu']\n",
    "    V_Al = (G['AlCl'] + G['AlCl2'] + G['AlCl3']) * (mu_Al / density_Al) * 1e9\n",
    "    data_for_temperature.loc[k] = {\n",
    "        'T_': T,\n",
    "        'V_Al': V_Al,\n",
    "        'G_AlCl': G['AlCl'],\n",
    "        'G_AlCl2': G['AlCl2'],\n",
    "        'G_AlCl3': G['AlCl3'],\n",
    "    }"
   ]
  },
  {
   "cell_type": "markdown",
   "metadata": {},
   "source": [
    "Собираем все необходимые данные в таблицу. Как нас просили в задании, берем значение обратное температуре в качестве координаты по $X$ и линейный логарифм искомой величины по $Y$."
   ]
  },
  {
   "cell_type": "code",
   "execution_count": 9,
   "metadata": {},
   "outputs": [],
   "source": [
    "data_for_temperature['invT'] = 1 / data_for_temperature.T_\n",
    "data_for_temperature['G_AlCl_log'] = np.log(np.abs(data_for_temperature.G_AlCl))\n",
    "data_for_temperature['G_AlCl2_log'] = np.log(np.abs(data_for_temperature.G_AlCl2))\n",
    "data_for_temperature['G_AlCl3_log'] = np.log(np.abs(data_for_temperature.G_AlCl3))\n",
    "data_for_temperature['V_Al_log'] = np.log(np.abs(data_for_temperature.V_Al))\n",
    "\n",
    "graph_data_comps = pd.melt(data_for_temperature[['invT', 'G_AlCl_log', \n",
    "                                      'G_AlCl2_log', 'G_AlCl3_log']], id_vars=['invT'])\n",
    "graph_data_speed = pd.melt(data_for_temperature[['invT', 'V_Al_log']], id_vars=['invT'])"
   ]
  },
  {
   "cell_type": "code",
   "execution_count": 10,
   "metadata": {
    "scrolled": false
   },
   "outputs": [
    {
     "data": {
      "image/png": "[encoded data removed]",
      "text/plain": [
       "<Figure size 792x576 with 1 Axes>"
      ]
     },
     "metadata": {},
     "output_type": "display_data"
    },
    {
     "data": {
      "text/plain": [
       "<ggplot: (-9223372036553246639)>"
      ]
     },
     "execution_count": 10,
     "metadata": {},
     "output_type": "execute_result"
    }
   ],
   "source": [
    "(ggplot(aes(x = 'invT', y = 'value', color='variable'), graph_data_comps) + \n",
    "    geom_point(size=35) + \n",
    "    ylab('ln(G_ind)') + \n",
    "    xlab('1/T') + \n",
    "    theme_bw()\n",
    ")"
   ]
  },
  {
   "cell_type": "markdown",
   "metadata": {},
   "source": [
    "На графике выше представлены диаграммы Аррениуса для G<sub>AlCl</sub>, G<sub>AlCl2</sub>, G<sub>AlCl3</sub>"
   ]
  },
  {
   "cell_type": "markdown",
   "metadata": {},
   "source": [
    "Из этого можно делать вывод, что преобладающим Al-содержащим компонентом является AlCl<sub>3</sub>.\n",
    "\n",
    "Также установим зависимость скорости испарения источника алюминия V<sup>e</sup><sub>Al</sub> в зависимости от $1/T$."
   ]
  },
  {
   "cell_type": "code",
   "execution_count": 11,
   "metadata": {
    "scrolled": false
   },
   "outputs": [
    {
     "data": {
      "image/png": "[encoded data removed]",
      "text/plain": [
       "<Figure size 792x576 with 1 Axes>"
      ]
     },
     "metadata": {},
     "output_type": "display_data"
    },
    {
     "data": {
      "text/plain": [
       "<ggplot: (-9223372036548796142)>"
      ]
     },
     "execution_count": 11,
     "metadata": {},
     "output_type": "execute_result"
    }
   ],
   "source": [
    "(ggplot(aes(x = 'invT', y = 'value', color='variable'), graph_data_speed) + \n",
    "    geom_point(size=35) + \n",
    "    ylab('ln(V_Al)') + \n",
    "    xlab('1/T') + \n",
    "    theme_bw()\n",
    ")"
   ]
  },
  {
   "cell_type": "markdown",
   "metadata": {},
   "source": [
    "# Задание №2\n"
   ]
  },
  {
   "cell_type": "markdown",
   "metadata": {},
   "source": [
    "**Система:**\n",
    "\n",
    "\n",
    "(P<sup>e</sup><sub>HCl</sub>)<sup>2</sup> - K<sub>4</sub> (P<sup>e</sup><sub>GaCl</sub>)<sup>2</sup>P<sup>e</sup><sub>H2</sub> = 0\n",
    "\n",
    "(P<sup>e</sup><sub>HCl</sub>)<sup>2</sup> - K<sub>5</sub> P<sup>e</sup><sub>GaCl2</sub>P<sup>e</sup><sub>H2</sub> = 0\n",
    "\n",
    "(P<sup>e</sup><sub>HCl</sub>)<sup>6</sup> - K<sub>6</sub> (P<sup>e</sup><sub>GaCl3</sub>)<sup>2</sup>(P<sup>e</sup><sub>H2</sub>)<sup>3</sup> = 0\n",
    "\n",
    "\n",
    "D<sub>HCl</sub>(P<sup>g</sup><sub>HCl</sub> - P<sup>e</sup><sub>HCl</sub>) + 2D<sub>H2</sub>(P<sup>g</sup><sub>H2</sub> - P<sup>e</sup><sub>H2</sub>) = 0\n",
    "\n",
    "D<sub>GaCl</sub>(P<sup>g</sup><sub>GaCl</sub> - P<sup>e</sup><sub>GaCl</sub>) + 2D<sub>GaCl2</sub>(P<sup>g</sup><sub>GaCl2</sub> - P<sup>e</sup><sub>GaCl2</sub>) + 3D<sub>GaCl3</sub>(P<sup>g</sup><sub>GaCl3</sub> - P<sup>e</sup><sub>GaCl3</sub>) + D<sub>HCl</sub>(P<sup>g</sup><sub>HCl</sub> - P<sup>e</sup><sub>HCl</sub>) = 0\n",
    "\n",
    "На каждом шаге для температур $T = 350\\dots650℃$ с шагом $dT = 10℃$ производится решение данной СНУ, \n",
    "\n",
    "Такое решение даёт требуемые термодинамические давления, а с помощью формулы\n",
    "\n",
    "$G_i = D_i \\cdot (P^g_{i} - P^e_{i}) / RT\\delta$\n",
    "\n",
    "находятся межфазные потоки активных компонент. Далее по формуле\n",
    "\n",
    "$ V^e_{Ga} = (G_{GaCl} + G_{GaCl_2} + G_{GaCl_3}) (\\mu_{Ga} / \\rho_{Ga}) * 10^9$\n",
    "\n",
    "находится скорость испарения источника галлия."
   ]
  },
  {
   "cell_type": "code",
   "execution_count": 12,
   "metadata": {},
   "outputs": [],
   "source": [
    "def system2(T):\n",
    "    p_e_GaCl, p_e_GaCl2, p_e_GaCl3, p_e_HCl, p_e_H2 = sm.symbols('p_e_GaCl, p_e_GaCl2, p_e_GaCl3, p_e_HCl, p_e_H2')\n",
    "    p = pg['N2'] + pg['HCl']\n",
    "    d_HCl = d('HCl', T, p)\n",
    "    d_H2 = d('H2', T, p)\n",
    "    d_GaCl = d('GaCl', T, p)\n",
    "    d_GaCl2 = d('GaCl2', T, p)\n",
    "    d_GaCl3 = d('GaCl3', T, p)\n",
    "    equations = []\n",
    "    equations.append(p_e_HCl ** 2 - k4(T) * p_e_GaCl ** 2 * p_e_H2)\n",
    "    equations.append(p_e_HCl ** 2 - k5(T) * p_e_GaCl2 * p_e_H2)\n",
    "    equations.append(p_e_HCl ** 6 - k6(T) * p_e_GaCl3 ** 2 * p_e_H2 ** 3)\n",
    "    equations.append(d_HCl * (pg['HCl'] - p_e_HCl) + 2 * d_H2 * (pg['H2'] - p_e_H2))\n",
    "    equations.append(d_GaCl  * (pg['GaCl'] - p_e_GaCl)  + \n",
    "                     2 * d_GaCl2 * (pg['GaCl2'] - p_e_GaCl2) + \n",
    "                     3 * d_GaCl3 * (pg['GaCl3'] - p_e_GaCl3) + \n",
    "                     d_HCl * (pg['HCl'] - p_e_HCl))\n",
    "    system = sm.Matrix(equations)\n",
    "    return system, (p_e_GaCl, p_e_GaCl2, p_e_GaCl3, p_e_HCl, p_e_H2)"
   ]
  },
  {
   "cell_type": "markdown",
   "metadata": {},
   "source": [
    "**Решение задачи о конверсии хлороводорода (HCl) в хлориды галия (GaCl)**\n",
    "\n",
    "Перебираем температуры в промежутке, указанном в задании ($650$-$950$ градусов по Цельсию), предварительно переводя их в градусы по Кельвину ($+ 273$). Для каждого значение температуры составляем систему и решаем её выше описанным методом. Получив значение термодинамических давлений, мы высчитываем межфазные потоки ($G$) на поверхности жидкого галлия для интересующих нас элементов, а затем и скорость испарения источника по формуле представленной в задании. Значения всех констант взяты из условия. В качестве начального приближения на первом шаге мы берем набор состоящий из элементов равномерного распредления от $0$ до $1$ необходимой длинны, а на последующих итерациях в качестве начального приближения используем сошедшееся решение системы прошлого шага."
   ]
  },
  {
   "cell_type": "code",
   "execution_count": 13,
   "metadata": {
    "scrolled": true
   },
   "outputs": [
    {
     "name": "stdout",
     "output_type": "stream",
     "text": [
      "--- 0.04682612419128418 seconds ---\n",
      "--- 16 steps ---\n",
      "\n",
      "--- 0.04231905937194824 seconds ---\n",
      "--- 6 steps ---\n",
      "\n",
      "--- 0.0373539924621582 seconds ---\n",
      "--- 6 steps ---\n",
      "\n",
      "--- 0.03402280807495117 seconds ---\n",
      "--- 6 steps ---\n",
      "\n",
      "--- 0.03386402130126953 seconds ---\n",
      "--- 6 steps ---\n",
      "\n",
      "--- 0.03435373306274414 seconds ---\n",
      "--- 6 steps ---\n",
      "\n",
      "--- 0.03586101531982422 seconds ---\n",
      "--- 6 steps ---\n",
      "\n",
      "--- 0.03478884696960449 seconds ---\n",
      "--- 6 steps ---\n",
      "\n",
      "--- 0.0343019962310791 seconds ---\n",
      "--- 6 steps ---\n",
      "\n",
      "--- 0.03436899185180664 seconds ---\n",
      "--- 6 steps ---\n",
      "\n",
      "--- 0.038066864013671875 seconds ---\n",
      "--- 6 steps ---\n",
      "\n",
      "--- 0.044441938400268555 seconds ---\n",
      "--- 6 steps ---\n",
      "\n",
      "--- 0.04141592979431152 seconds ---\n",
      "--- 6 steps ---\n",
      "\n",
      "--- 0.04097580909729004 seconds ---\n",
      "--- 6 steps ---\n",
      "\n",
      "--- 0.041741132736206055 seconds ---\n",
      "--- 6 steps ---\n",
      "\n",
      "--- 0.042398929595947266 seconds ---\n",
      "--- 6 steps ---\n",
      "\n",
      "--- 0.041716814041137695 seconds ---\n",
      "--- 6 steps ---\n",
      "\n",
      "--- 0.03618788719177246 seconds ---\n",
      "--- 6 steps ---\n",
      "\n",
      "--- 0.0394589900970459 seconds ---\n",
      "--- 6 steps ---\n",
      "\n",
      "--- 0.04358792304992676 seconds ---\n",
      "--- 7 steps ---\n",
      "\n",
      "--- 0.039694786071777344 seconds ---\n",
      "--- 6 steps ---\n",
      "\n",
      "--- 0.04090690612792969 seconds ---\n",
      "--- 6 steps ---\n",
      "\n",
      "--- 0.035635948181152344 seconds ---\n",
      "--- 6 steps ---\n",
      "\n"
     ]
    },
    {
     "name": "stderr",
     "output_type": "stream",
     "text": [
      "ERROR:root:Internal Python error in the inspect module.\n",
      "Below is the traceback from this internal error.\n",
      "\n"
     ]
    },
    {
     "name": "stdout",
     "output_type": "stream",
     "text": [
      "Traceback (most recent call last):\n",
      "  File \"/usr/local/lib/python3.7/site-packages/IPython/core/interactiveshell.py\", line 3331, in run_code\n",
      "    exec(code_obj, self.user_global_ns, self.user_ns)\n",
      "  File \"<ipython-input-13-74d828151fd9>\", line 7, in <module>\n",
      "    solution = newton_method(initX, system, variables)\n",
      "  File \"<ipython-input-6-f1b57435f51e>\", line 13, in newton_method\n",
      "    delta = sp.linalg.lu_solve(sp.linalg.lu_factor(jacobian(*x)), -system(*x))\n",
      "  File \"/usr/local/lib/python3.7/site-packages/scipy/linalg/decomp_lu.py\", line 137, in lu_solve\n",
      "    b1 = asarray_chkfinite(b)\n",
      "  File \"/usr/local/lib/python3.7/site-packages/numpy/lib/function_base.py\", line 497, in asarray_chkfinite\n",
      "    if a.dtype.char in typecodes['AllFloat'] and not np.isfinite(a).all():\n",
      "KeyboardInterrupt\n",
      "\n",
      "During handling of the above exception, another exception occurred:\n",
      "\n",
      "Traceback (most recent call last):\n",
      "  File \"/usr/local/lib/python3.7/site-packages/IPython/core/interactiveshell.py\", line 2044, in showtraceback\n",
      "    stb = value._render_traceback_()\n",
      "AttributeError: 'KeyboardInterrupt' object has no attribute '_render_traceback_'\n",
      "\n",
      "During handling of the above exception, another exception occurred:\n",
      "\n",
      "Traceback (most recent call last):\n",
      "  File \"/usr/local/lib/python3.7/site-packages/IPython/core/ultratb.py\", line 1148, in get_records\n",
      "    return _fixed_getinnerframes(etb, number_of_lines_of_context, tb_offset)\n",
      "  File \"/usr/local/lib/python3.7/site-packages/IPython/core/ultratb.py\", line 316, in wrapped\n",
      "    return f(*args, **kwargs)\n",
      "  File \"/usr/local/lib/python3.7/site-packages/IPython/core/ultratb.py\", line 350, in _fixed_getinnerframes\n",
      "    records = fix_frame_records_filenames(inspect.getinnerframes(etb, context))\n",
      "  File \"/usr/local/Cellar/python/3.7.3/Frameworks/Python.framework/Versions/3.7/lib/python3.7/inspect.py\", line 1502, in getinnerframes\n",
      "    frameinfo = (tb.tb_frame,) + getframeinfo(tb, context)\n",
      "  File \"/usr/local/Cellar/python/3.7.3/Frameworks/Python.framework/Versions/3.7/lib/python3.7/inspect.py\", line 1460, in getframeinfo\n",
      "    filename = getsourcefile(frame) or getfile(frame)\n",
      "  File \"/usr/local/Cellar/python/3.7.3/Frameworks/Python.framework/Versions/3.7/lib/python3.7/inspect.py\", line 696, in getsourcefile\n",
      "    if getattr(getmodule(object, filename), '__loader__', None) is not None:\n",
      "  File \"/usr/local/Cellar/python/3.7.3/Frameworks/Python.framework/Versions/3.7/lib/python3.7/inspect.py\", line 742, in getmodule\n",
      "    os.path.realpath(f)] = module.__name__\n",
      "  File \"/usr/local/Cellar/python/3.7.3/Frameworks/Python.framework/Versions/3.7/lib/python3.7/posixpath.py\", line 395, in realpath\n",
      "    path, ok = _joinrealpath(filename[:0], filename, {})\n",
      "  File \"/usr/local/Cellar/python/3.7.3/Frameworks/Python.framework/Versions/3.7/lib/python3.7/posixpath.py\", line 429, in _joinrealpath\n",
      "    if not islink(newpath):\n",
      "  File \"/usr/local/Cellar/python/3.7.3/Frameworks/Python.framework/Versions/3.7/lib/python3.7/posixpath.py\", line 171, in islink\n",
      "    st = os.lstat(path)\n",
      "KeyboardInterrupt\n"
     ]
    },
    {
     "ename": "KeyboardInterrupt",
     "evalue": "",
     "output_type": "error",
     "traceback": [
      "\u001b[0;31m---------------------------------------------------------------------------\u001b[0m"
     ]
    }
   ],
   "source": [
    "data_for_temperature = pd.DataFrame(columns=['T_', 'V_Ga', 'G_GaCl', 'G_GaCl2', 'G_GaCl3'])\n",
    "temperatures = np.linspace(650, 950, 30) + 273\n",
    "targets = ['GaCl', 'GaCl2', 'GaCl3']\n",
    "initX = np.random.uniform(0.1, 1., 5).tolist()\n",
    "for k, T in (enumerate(temperatures)):\n",
    "    system, variables = system2(T)\n",
    "    solution = newton_method(initX, system, variables)\n",
    "    initX = solution\n",
    "    # G for elements\n",
    "    G = {}\n",
    "    pe = dict(zip(map(str, variables), solution))\n",
    "    for gasIndex in targets:\n",
    "        G[gasIndex] = d(gasIndex, T, p) * (pg[gasIndex] - pe['p_e_' + gasIndex]) / (8314 * T * delta)\n",
    "    density_Ga = 5900.\n",
    "    mu_Ga = elementsData['Ga']['mu']\n",
    "    V_Ga = (G['GaCl'] + G['GaCl2'] + G['GaCl3']) * (mu_Ga / density_Ga) * 1e9\n",
    "    data_for_temperature.loc[k] = {\n",
    "        'T_': T,\n",
    "        'V_Ga': V_Ga,\n",
    "        'G_GaCl': G['GaCl'],\n",
    "        'G_GaCl2': G['GaCl2'],\n",
    "        'G_GaCl3': G['GaCl3']\n",
    "    }"
   ]
  },
  {
   "cell_type": "markdown",
   "metadata": {},
   "source": [
    "Собираем все необходимые данные в таблицу. Как нас просили в задании, берем значение обратное температуре в качестве координаты по $X$ и линейный логарифм искомой величины по $Y$."
   ]
  },
  {
   "cell_type": "code",
   "execution_count": null,
   "metadata": {},
   "outputs": [],
   "source": [
    "data_for_temperature['invT'] = 1 / data_for_temperature.T_\n",
    "data_for_temperature['V_Ga_log'] = np.log(np.abs(data_for_temperature.V_Ga))\n",
    "data_for_temperature['G_GaCl_log'] = np.log(np.abs(data_for_temperature.G_GaCl))\n",
    "data_for_temperature['G_GaCl2_log'] = np.log(np.abs(data_for_temperature.G_GaCl2))\n",
    "data_for_temperature['G_GaCl3_log'] = np.log(np.abs(data_for_temperature.G_GaCl3))\n",
    "graph_data_comp = pd.melt(data_for_temperature[['invT', 'G_GaCl_log', \n",
    "                                      'G_GaCl2_log', 'G_GaCl3_log']], id_vars=['invT'])\n",
    "graph_data_speed = pd.melt(data_for_temperature[['invT', 'V_Ga_log']], id_vars=['invT'])"
   ]
  },
  {
   "cell_type": "code",
   "execution_count": null,
   "metadata": {
    "scrolled": false
   },
   "outputs": [],
   "source": [
    "(ggplot(aes(x = 'invT', y = 'value', color='variable'), graph_data_comp) + \n",
    "    geom_point(size=35) + \n",
    "    ylab('ln(G_ind)') + \n",
    "    xlab('1/T') + \n",
    "    theme_bw()\n",
    ")"
   ]
  },
  {
   "cell_type": "markdown",
   "metadata": {},
   "source": [
    "На графике выше представлены диаграммы Аррениуса для G<sub>GaCl</sub>, G<sub>GaCl2</sub>, G<sub>GaCl3</sub>"
   ]
  },
  {
   "cell_type": "markdown",
   "metadata": {},
   "source": [
    "Из этого можно делать вывод, что преобладающим Ga-содержащим компонентом является GaCl.\n",
    "Также установим зависимость скорости испарения источника галлия V<sup>e</sup><sub>Ga</sub> в зависимости от $1/T$."
   ]
  },
  {
   "cell_type": "code",
   "execution_count": null,
   "metadata": {},
   "outputs": [],
   "source": [
    "(ggplot(aes(x = 'invT', y = 'value', color='variable'), graph_data_speed) + \n",
    "    geom_point(size=35) + \n",
    "    ylab('ln(V_Ga)') + \n",
    "    xlab('1/T') + \n",
    "    theme_bw()\n",
    ")"
   ]
  },
  {
   "cell_type": "markdown",
   "metadata": {},
   "source": [
    "# Задание №3"
   ]
  },
  {
   "cell_type": "markdown",
   "metadata": {},
   "source": [
    "**Система:**\n",
    "\n",
    "\n",
    "P<sup>e</sup><sub>AlCl3</sub>P<sup>e</sup><sub>NH3</sub> - K<sub>9</sub> x(P<sup>e</sup><sub>HCl</sub>)<sup>3</sup> = 0\n",
    "\n",
    "P<sup>e</sup><sub>GaCl</sub>P<sup>e</sup><sub>NH3</sub> - K<sub>10</sub>(1 - x)P<sup>e</sup><sub>HCl</sub>P<sup>e</sup><sub>H2</sub> = 0\n",
    "\n",
    "D<sub>HCl</sub>(P<sup>g</sup><sub>HCl</sub> - P<sup>e</sup><sub>HCl</sub>) +\n",
    "2D<sub>H2</sub>(P<sup>g</sup><sub>H2</sub> - P<sup>e</sup><sub>H2</sub>) +\n",
    "3D<sub>NH3</sub>(P<sup>g</sup><sub>NH3</sub> - P<sup>e</sup><sub>NH3</sub>) = 0\n",
    "\n",
    "3D<sub>AlCl3</sub>(P<sup>g</sup><sub>AlCl3</sub> - P<sup>e</sup><sub>AlCl3</sub>) +\n",
    "D<sub>GaCl</sub>(P<sup>g</sup><sub>GaCl</sub> - P<sup>e</sup><sub>GaCl</sub>) +\n",
    "D<sub>HCl</sub>(P<sup>g</sup><sub>HCl</sub> - P<sup>e</sup><sub>HCl</sub>) = 0\n",
    "\n",
    "D<sub>AlCl3</sub>(P<sup>g</sup><sub>AlCl3</sub> - P<sup>e</sup><sub>AlCl3</sub>) +\n",
    "D<sub>GaCl</sub>(P<sup>g</sup><sub>GaCl</sub> - P<sup>e</sup><sub>GaCl</sub>) +\n",
    "D<sub>NH3</sub>(P<sup>g</sup><sub>NH3</sub> - P<sup>e</sup><sub>NH3</sub>) = 0\n",
    "\n",
    "D<sub>AlCl3</sub>(P<sup>g</sup><sub>AlCl3</sub> - P<sup>e</sup><sub>AlCl3</sub>)(1 - x) -\n",
    "D<sub>GaCl</sub>(P<sup>g</sup><sub>GaCl</sub> - P<sup>e</sup><sub>GaCl</sub>)x = 0\n",
    "\n",
    "На каждом шаге для величин $x_g = 0\\dots1$ с шагом 0.0(3) и температуры $T = 1100℃$ производится решение данной СНУ, \n",
    "\n",
    "Такое решение даёт требуемые термодинамические давления, а с помощью формулы\n",
    "\n",
    "$G_i = D_i \\cdot (P^g_{i} - P^e_{i}) / RT\\delta$\n",
    "\n",
    "находятся межфазные потоки активных компонент. Далее по формуле\n",
    "\n",
    "$ V^g_{AlGaN} = (G_{AlCl3} (\\mu_{AlN} / \\rho_{AlN}) + G_{GaCl} (\\mu_{GaN} / \\rho_{GaN})) * 10^9$\n",
    "\n",
    "находится скорость роста слоя алгана."
   ]
  },
  {
   "cell_type": "code",
   "execution_count": null,
   "metadata": {},
   "outputs": [],
   "source": [
    "'''\n",
    "x_g:[0, 1]\n",
    "n2Percentage: [0, 1]\n",
    "    1 and 0.9 by task\n",
    "'''\n",
    "def system3(x_g, T, n2Percentage):\n",
    "    assert (0 <= x_g <= 1), \"x_g should be in [0, 1] range\"\n",
    "    assert (0 <= n2Percentage <= 1), \"n2Percentage should be in [0, 1] range\"\n",
    "    \n",
    "    p_e_AlCl3, p_e_GaCl, p_e_NH3, p_e_HCl, p_e_H2, x = sm.symbols('p_e_AlCl3, p_e_GaCl, p_e_NH3, p_e_HCl, p_e_H2, x')\n",
    "    pg_AlCl3_GaCl = 30\n",
    "    pg_N2_H2 = 98470\n",
    "    pg_NH3 = 1500\n",
    "    pg_HCl = 0\n",
    "    pg_N2 = pg_N2_H2 * n2Percentage\n",
    "    pg_H2 = pg_N2_H2 - pg_N2\n",
    "    pg_AlCl3 = x_g * pg_AlCl3_GaCl\n",
    "    pg_GaCl = pg_AlCl3_GaCl - pg_AlCl3\n",
    "    d_HCl = d('HCl', T, P_a)\n",
    "    d_H2 = d('H2', T, P_a)\n",
    "    d_NH3 = d('NH3', T, P_a)\n",
    "    d_AlCl3 = d('AlCl3', T, P_a)\n",
    "    d_GaCl = d('GaCl', T, P_a)\n",
    "    \n",
    "    equations = []\n",
    "    equations.append(p_e_AlCl3 * p_e_NH3 - k9(T) * x * p_e_HCl ** 3)\n",
    "    equations.append(p_e_GaCl * p_e_NH3 - k10(T) * (1 - x) * p_e_HCl * p_e_H2)\n",
    "    equations.append(d_HCl * (pg_HCl - p_e_HCl) + 2 * d_H2 * (pg_H2 - p_e_H2) + 3 * d_NH3 * (pg_NH3 - p_e_NH3))\n",
    "    equations.append(3 * d_AlCl3 * (pg_AlCl3 - p_e_AlCl3) + d_GaCl * (pg_GaCl - p_e_GaCl) + d_HCl * (pg_HCl - p_e_HCl))\n",
    "    equations.append(d_AlCl3 * (pg_AlCl3 - p_e_AlCl3) + d_GaCl * (pg_GaCl - p_e_GaCl) - d_NH3 * (pg_NH3 - p_e_NH3))\n",
    "    equations.append(d_AlCl3 * (pg_AlCl3 - p_e_AlCl3) * (1 - x) - d_GaCl  * (pg_GaCl  - p_e_GaCl)  * x)\n",
    "    system = sm.Matrix(equations)\n",
    "    return system, (p_e_AlCl3, p_e_GaCl, p_e_NH3, p_e_HCl, p_e_H2, x)"
   ]
  },
  {
   "cell_type": "markdown",
   "metadata": {},
   "source": [
    "**Решение задачи моделирование роста твердого раствора algan (AlxGa1-xN)**\n",
    "\n",
    "До этого мы узнали, что  AlCl<sub>3</sub> и GaCl являются преобладающими  компонентами растущего алгана. Исходя из этого, мы понимаем из-за каких \"производящих\" реакция в основном происходит рост алгана (это позволяет нам построить систему уравнений выше). Решение разбиваем на две части:\n",
    "несущий газ – чистый N2 и несущий газ – $10\\%$-ая смесь H<sub>2</sub> и N<sub>2</sub>. Моделирование совершается при температуре $1100$ градусов по Цельсию. Перебираем x_g (P_g_AlCl3 / (P_g_AlCl3 + P_g_GaCl)) в промежутке от $0$ до $1$. Для каждого значение составляем систему и решаем её выше описанным методом. Получив значение термодинамических давлений, мы высчитываем межфазные потоки ($G$), а затем и скорость роста слоя V<sub>AlGaN</sub>, а также построить диаграмму вхождения аллюминия в кристал. Значения всех констант взяты из условия. В качестве начального приближения на первом шаге мы берем набор состоящий из элементов равномерного распредления от $0$ до $1$ необходимой длинны, а на последующих итерациях в качестве начального приближения используем сошедшееся решение системы прошлого шага."
   ]
  },
  {
   "cell_type": "code",
   "execution_count": null,
   "metadata": {},
   "outputs": [],
   "source": [
    "x_gs = np.linspace(0., 1., 30)\n",
    "n2Percentages = [1, 0.9]\n",
    "T = 1100 + 273\n",
    "pg_AlCl3_GaCl = 30\n",
    "data_for_temperature = pd.DataFrame(columns=['x_g', 'n2Percentage', 'x', 'V_AlGaN', 'G_GaCl', 'G_AlCl3'])\n",
    "targets = ['GaCl', 'AlCl3']\n",
    "initX = np.random.uniform(0.1, 1., 6).tolist()\n",
    "for k, (x_g, n2Percentage) in (enumerate(product(x_gs, n2Percentages))):\n",
    "    x = 2\n",
    "    firstIter = True\n",
    "    while x < 0 or x > 1:\n",
    "        if firstIter == False:\n",
    "            initX = np.random.uniform(0.1, 1., 6).tolist()\n",
    "        \n",
    "        firstIter = False\n",
    "        system, variables = system3(x_g, T, n2Percentage)\n",
    "        solution = newton_method(initX, system,variables)\n",
    "        x = solution[-1]\n",
    "    # G for elements\n",
    "    initX = solution\n",
    "    G = {}\n",
    "    pg['AlCl3'] = x_g * pg_AlCl3_GaCl\n",
    "    pg['GaCl'] = (1 - x_g) * pg_AlCl3_GaCl\n",
    "    pe = dict(zip(map(str, variables), solution))\n",
    "    for gasIndex in targets:\n",
    "        G[gasIndex] = d(gasIndex, T, P_a) * (pg[gasIndex] - pe['p_e_' + gasIndex]) / (8314 * T * delta)\n",
    "    density_AlN = 3200.\n",
    "    density_GaN = 6150.\n",
    "    mu_AlN = elementsData['AlN']['mu']\n",
    "    mu_GaN = elementsData['GaN']['mu']\n",
    "    V = (G['AlCl3'] * (mu_AlN / density_AlN) + G['GaCl'] * (mu_GaN / density_GaN)) * 1e9\n",
    "    if V <= 1e5:\n",
    "        data_for_temperature.loc[k] = {\n",
    "            'x_g': x_g,\n",
    "            'n2Percentage': n2Percentage,\n",
    "            'x': pe['x'],\n",
    "            'V_AlGaN': V,\n",
    "            'G_GaCl': G['GaCl'],\n",
    "            'G_AlCl3': G['AlCl3']\n",
    "    }"
   ]
  },
  {
   "cell_type": "markdown",
   "metadata": {},
   "source": [
    "Скорость роста слоя алгана, когда несущий газ - N<sub>2</sub>:"
   ]
  },
  {
   "cell_type": "code",
   "execution_count": null,
   "metadata": {},
   "outputs": [],
   "source": [
    "data_for_temperature['V_AlGaN'] = data_for_temperature.V_AlGaN / 1000\n",
    "graph_data_speed = pd.melt(data_for_temperature[['x_g', 'V_AlGaN', 'n2Percentage']], id_vars=['x_g', 'n2Percentage'])\n",
    "(ggplot(aes(x = 'x_g', y = 'value', color='variable'), graph_data_speed[graph_data_speed.n2Percentage == 1]) + \n",
    "    geom_point(size=35) + \n",
    "    ylab('V(AlGaN) / 1000') +\n",
    "    theme_bw()\n",
    ")"
   ]
  },
  {
   "cell_type": "markdown",
   "metadata": {},
   "source": [
    "Скорость роста слоя алгана, когда несущий газ - смесь N<sub>2</sub> и H<sub>2</sub>:"
   ]
  },
  {
   "cell_type": "code",
   "execution_count": null,
   "metadata": {},
   "outputs": [],
   "source": [
    "(ggplot(aes(x = 'x_g', y = 'value', color='variable'), graph_data_speed[graph_data_speed.n2Percentage == 0.9]) + \n",
    "    geom_point(size=35) + \n",
    "    ylab('V(AlGaN)') +\n",
    "    theme_bw()\n",
    ")"
   ]
  },
  {
   "cell_type": "markdown",
   "metadata": {},
   "source": [
    "График вхождения Al в кристалл при различных несущих газах:"
   ]
  },
  {
   "cell_type": "code",
   "execution_count": null,
   "metadata": {},
   "outputs": [],
   "source": [
    "graph_data_fraction = pd.melt(data_for_temperature, id_vars=['x_g', 'n2Percentage'])\n",
    "graph_data_fraction.n2Percentage = graph_data_fraction.n2Percentage.map(str)\n",
    "(ggplot(aes(y='value', x='x_g', color='n2Percentage'), data=graph_data_fraction[graph_data_fraction.variable == 'x']) +\n",
    "     geom_point(size=35) +\n",
    "     ylab('x') +\n",
    "     xlab('x_g') +\n",
    "     theme_bw()\n",
    ")"
   ]
  },
  {
   "cell_type": "markdown",
   "metadata": {},
   "source": [
    "Если несущим газом является чистый N<sub>2</sub>, диаграмма вхождения Al в кристалл близка к линейной, однако в случае, если несущий газ представляет собой 10% смесь H<sub>2</sub> и N<sub>2</sub>, то диаграмма представляет собой выпуклую линию.\n",
    "Сравнивая результаты вычислений с экспериментальными данными из работы [1], видно, что диаграмма вхождения Al при смеси в качестве несущего газа менее выпукла, чем экспериментальная.\n",
    "\n",
    "Чтобы понять эффект от добавления H<sub>2</sub>, вспомним химические реакции (R7) и (R8).\n",
    "\n",
    "Равновесное парциальное давления H<sub>2</sub> не влияет на химическую реакцию AlCl + NH<sub>3</sub> ⬄ AlN(solid) + HCl + H<sub>2</sub>, из-за этого межфазовый поток AlCl<sub>3</sub> не меняется на графиках.\n",
    "\n",
    "В свою очередь, на реакцию 2AlCl<sub>2</sub> + 2NH<sub>3</sub> ⬄ 2AlN(solid) + 4HCl + H<sub>2</sub> оказывается влияение от этого давления, в результате чего небольшое количество H<sub>2</sub> резко снижает межфазовый поток GaCl. Если добавить больше H<sub>2</sub>, то реакция вовсе остановится и Ga перестанет оседать на алган.\n",
    "\n",
    "Вспомним также химические реакции (R9) и (R10):\n",
    "\n",
    "AlCl3 + NH<sub>3</sub> <=> AlN(solid) + 3HCl\n",
    "\n",
    "GaCl + NH<sub>3</sub> <=> GaN(solid) + HCl + H<sub>2</sub>\n",
    "\t \t \t\n",
    "При добавлении небольшого количества H2 реакция образования GaN замедлится, ведь она находится в химическом равновесии(протекает как слева направо, так и наоборот), и при увеличении H<sub>2</sub> система будет пытаться уравновесить реакцию, что приведет к изменению состава. На реакцию с Al добавление H<sub>2</sub> влияние не оказывает.\n",
    "\n",
    "Получается, что, благодаря контролированию количества добавленного H<sub>2</sub> в несущий азот, мы можем регулировать состав алгана с необходимой точностью."
   ]
  },
  {
   "cell_type": "code",
   "execution_count": null,
   "metadata": {},
   "outputs": [],
   "source": []
  },
  {
   "cell_type": "code",
   "execution_count": null,
   "metadata": {},
   "outputs": [],
   "source": []
  }
 ],
 "metadata": {
  "kernelspec": {
   "display_name": "Python 3",
   "language": "python",
   "name": "python3"
  },
  "language_info": {
   "codemirror_mode": {
    "name": "ipython",
    "version": 3
   },
   "file_extension": ".py",
   "mimetype": "text/x-python",
   "name": "python",
   "nbconvert_exporter": "python",
   "pygments_lexer": "ipython3",
   "version": "3.7.3"
  }
 },
 "nbformat": 4,
 "nbformat_minor": 4
}
